{
 "cells": [
  {
   "cell_type": "raw",
   "metadata": {},
   "source": [
    "---\n",
    "format:\n",
    "  html:\n",
    "    page-layout: full\n",
    "    code fold: false\n",
    "    toc: true\n",
    "    toc_float: true\n",
    "    toc-title: Table Of Contents\n",
    "    toc-location: left\n",
    "    theme: cosmo\n",
    "    self-contained: true\n",
    "---"
   ]
  },
  {
   "cell_type": "markdown",
   "metadata": {
    "id": "6XPlTMbFDnMn"
   },
   "source": [
    "# Lab 8: Linear Classifiers"
   ]
  },
  {
   "cell_type": "code",
   "execution_count": 5,
   "metadata": {
    "id": "nTOc1M5RESuU"
   },
   "outputs": [],
   "source": [
    "import pandas as pd\n",
    "import numpy as np\n",
    "from plotnine import *\n",
    "\n",
    "from sklearn.pipeline import Pipeline\n",
    "from sklearn.compose import make_column_selector, ColumnTransformer\n",
    "from sklearn.preprocessing import StandardScaler, OneHotEncoder, label_binarize\n",
    "from sklearn.model_selection import train_test_split, cross_val_score, cross_val_predict, GridSearchCV, StratifiedKFold\n",
    "from sklearn.metrics import accuracy_score, confusion_matrix,\\\n",
    "                            classification_report, precision_score, recall_score, f1_score, roc_auc_score, auc, roc_curve, make_scorer\n",
    "from sklearn.neighbors import KNeighborsClassifier\n",
    "from sklearn.tree import DecisionTreeClassifier\n",
    "from sklearn.linear_model import LogisticRegression\n",
    "\n",
    "import warnings\n",
    "warnings.filterwarnings('ignore')"
   ]
  },
  {
   "cell_type": "code",
   "execution_count": 6,
   "metadata": {
    "colab": {
     "base_uri": "https://localhost:8080/",
     "height": 258
    },
    "id": "zUbVKp2iDk8J",
    "outputId": "92c6f9f5-e48b-483e-8104-2f969415f5a3"
   },
   "outputs": [
    {
     "data": {
      "text/html": [
       "<div>\n",
       "<style scoped>\n",
       "    .dataframe tbody tr th:only-of-type {\n",
       "        vertical-align: middle;\n",
       "    }\n",
       "\n",
       "    .dataframe tbody tr th {\n",
       "        vertical-align: top;\n",
       "    }\n",
       "\n",
       "    .dataframe thead th {\n",
       "        text-align: right;\n",
       "    }\n",
       "</style>\n",
       "<table border=\"1\" class=\"dataframe\">\n",
       "  <thead>\n",
       "    <tr style=\"text-align: right;\">\n",
       "      <th></th>\n",
       "      <th>Strain</th>\n",
       "      <th>Type</th>\n",
       "      <th>Rating</th>\n",
       "      <th>Effects</th>\n",
       "      <th>Flavor</th>\n",
       "      <th>Description</th>\n",
       "    </tr>\n",
       "  </thead>\n",
       "  <tbody>\n",
       "    <tr>\n",
       "      <th>0</th>\n",
       "      <td>100-Og</td>\n",
       "      <td>hybrid</td>\n",
       "      <td>4.0</td>\n",
       "      <td>Creative,Energetic,Tingly,Euphoric,Relaxed</td>\n",
       "      <td>Earthy,Sweet,Citrus</td>\n",
       "      <td>$100 OG is a 50/50 hybrid strain that packs a ...</td>\n",
       "    </tr>\n",
       "    <tr>\n",
       "      <th>1</th>\n",
       "      <td>98-White-Widow</td>\n",
       "      <td>hybrid</td>\n",
       "      <td>4.7</td>\n",
       "      <td>Relaxed,Aroused,Creative,Happy,Energetic</td>\n",
       "      <td>Flowery,Violet,Diesel</td>\n",
       "      <td>The ‘98 Aloha White Widow is an especially pot...</td>\n",
       "    </tr>\n",
       "    <tr>\n",
       "      <th>2</th>\n",
       "      <td>1024</td>\n",
       "      <td>sativa</td>\n",
       "      <td>4.4</td>\n",
       "      <td>Uplifted,Happy,Relaxed,Energetic,Creative</td>\n",
       "      <td>Spicy/Herbal,Sage,Woody</td>\n",
       "      <td>1024 is a sativa-dominant hybrid bred in Spain...</td>\n",
       "    </tr>\n",
       "    <tr>\n",
       "      <th>3</th>\n",
       "      <td>13-Dawgs</td>\n",
       "      <td>hybrid</td>\n",
       "      <td>4.2</td>\n",
       "      <td>Tingly,Creative,Hungry,Relaxed,Uplifted</td>\n",
       "      <td>Apricot,Citrus,Grapefruit</td>\n",
       "      <td>13 Dawgs is a hybrid of G13 and Chemdawg genet...</td>\n",
       "    </tr>\n",
       "    <tr>\n",
       "      <th>4</th>\n",
       "      <td>24K-Gold</td>\n",
       "      <td>hybrid</td>\n",
       "      <td>4.6</td>\n",
       "      <td>Happy,Relaxed,Euphoric,Uplifted,Talkative</td>\n",
       "      <td>Citrus,Earthy,Orange</td>\n",
       "      <td>Also known as Kosher Tangie, 24k Gold is a 60%...</td>\n",
       "    </tr>\n",
       "  </tbody>\n",
       "</table>\n",
       "</div>"
      ],
      "text/plain": [
       "           Strain    Type  Rating                                     Effects  \\\n",
       "0          100-Og  hybrid     4.0  Creative,Energetic,Tingly,Euphoric,Relaxed   \n",
       "1  98-White-Widow  hybrid     4.7    Relaxed,Aroused,Creative,Happy,Energetic   \n",
       "2            1024  sativa     4.4   Uplifted,Happy,Relaxed,Energetic,Creative   \n",
       "3        13-Dawgs  hybrid     4.2     Tingly,Creative,Hungry,Relaxed,Uplifted   \n",
       "4        24K-Gold  hybrid     4.6   Happy,Relaxed,Euphoric,Uplifted,Talkative   \n",
       "\n",
       "                      Flavor  \\\n",
       "0        Earthy,Sweet,Citrus   \n",
       "1      Flowery,Violet,Diesel   \n",
       "2    Spicy/Herbal,Sage,Woody   \n",
       "3  Apricot,Citrus,Grapefruit   \n",
       "4       Citrus,Earthy,Orange   \n",
       "\n",
       "                                         Description  \n",
       "0  $100 OG is a 50/50 hybrid strain that packs a ...  \n",
       "1  The ‘98 Aloha White Widow is an especially pot...  \n",
       "2  1024 is a sativa-dominant hybrid bred in Spain...  \n",
       "3  13 Dawgs is a hybrid of G13 and Chemdawg genet...  \n",
       "4  Also known as Kosher Tangie, 24k Gold is a 60%...  "
      ]
     },
     "execution_count": 6,
     "metadata": {},
     "output_type": "execute_result"
    }
   ],
   "source": [
    "high = pd.read_csv(\"cannabis.csv\")\n",
    "high.head()"
   ]
  },
  {
   "cell_type": "markdown",
   "metadata": {
    "id": "l3ZLu8Buci2j"
   },
   "source": [
    "# Data Cleaning"
   ]
  },
  {
   "cell_type": "code",
   "execution_count": 7,
   "metadata": {
    "colab": {
     "base_uri": "https://localhost:8080/"
    },
    "id": "jC0rby5jDk9-",
    "outputId": "20058a86-3c0a-4059-974b-2fa30a1dc442"
   },
   "outputs": [
    {
     "name": "stdout",
     "output_type": "stream",
     "text": [
      "<class 'pandas.core.frame.DataFrame'>\n",
      "RangeIndex: 2351 entries, 0 to 2350\n",
      "Data columns (total 6 columns):\n",
      " #   Column       Non-Null Count  Dtype  \n",
      "---  ------       --------------  -----  \n",
      " 0   Strain       2351 non-null   object \n",
      " 1   Type         2351 non-null   object \n",
      " 2   Rating       2351 non-null   float64\n",
      " 3   Effects      2351 non-null   object \n",
      " 4   Flavor       2305 non-null   object \n",
      " 5   Description  2318 non-null   object \n",
      "dtypes: float64(1), object(5)\n",
      "memory usage: 110.3+ KB\n"
     ]
    }
   ],
   "source": [
    "high.info()"
   ]
  },
  {
   "cell_type": "code",
   "execution_count": 8,
   "metadata": {
    "id": "g6UhQAVyDk_a"
   },
   "outputs": [],
   "source": [
    "# Split the 'Effects' column and create dummy variables\n",
    "effects_dummies = high['Effects'].str.get_dummies(',')\n",
    "\n",
    "# Add a prefix to the dummy variable columns\n",
    "effects_dummies = effects_dummies.add_prefix('E_')\n",
    "\n",
    "# Convert dummy variable columns to Object type\n",
    "effects_dummies = effects_dummies.astype('object')\n",
    "\n",
    "# Concatenate the dummy variables with the original DataFrame\n",
    "high = pd.concat([high, effects_dummies], axis=1)"
   ]
  },
  {
   "cell_type": "code",
   "execution_count": 9,
   "metadata": {
    "colab": {
     "base_uri": "https://localhost:8080/",
     "height": 556
    },
    "id": "GRG8kgEjLP5V",
    "outputId": "ec8517ed-753f-4b01-9b9e-73be7b789e7f"
   },
   "outputs": [
    {
     "data": {
      "text/html": [
       "<div>\n",
       "<style scoped>\n",
       "    .dataframe tbody tr th:only-of-type {\n",
       "        vertical-align: middle;\n",
       "    }\n",
       "\n",
       "    .dataframe tbody tr th {\n",
       "        vertical-align: top;\n",
       "    }\n",
       "\n",
       "    .dataframe thead th {\n",
       "        text-align: right;\n",
       "    }\n",
       "</style>\n",
       "<table border=\"1\" class=\"dataframe\">\n",
       "  <thead>\n",
       "    <tr style=\"text-align: right;\">\n",
       "      <th></th>\n",
       "      <th>Strain</th>\n",
       "      <th>Type</th>\n",
       "      <th>Rating</th>\n",
       "      <th>Effects</th>\n",
       "      <th>Flavor</th>\n",
       "      <th>Description</th>\n",
       "      <th>E_Aroused</th>\n",
       "      <th>E_Creative</th>\n",
       "      <th>E_Dry</th>\n",
       "      <th>E_Energetic</th>\n",
       "      <th>E_Euphoric</th>\n",
       "      <th>E_Focused</th>\n",
       "      <th>E_Giggly</th>\n",
       "      <th>E_Happy</th>\n",
       "      <th>E_Hungry</th>\n",
       "      <th>E_Mouth</th>\n",
       "      <th>E_None</th>\n",
       "      <th>E_Relaxed</th>\n",
       "      <th>E_Sleepy</th>\n",
       "      <th>E_Talkative</th>\n",
       "      <th>E_Tingly</th>\n",
       "      <th>E_Uplifted</th>\n",
       "      <th>F_Ammonia</th>\n",
       "      <th>F_Apple</th>\n",
       "      <th>F_Apricot</th>\n",
       "      <th>F_Berry</th>\n",
       "      <th>F_Blue</th>\n",
       "      <th>F_Blueberry</th>\n",
       "      <th>F_Butter</th>\n",
       "      <th>F_Cheese</th>\n",
       "      <th>F_Chemical</th>\n",
       "      <th>F_Chestnut</th>\n",
       "      <th>F_Citrus</th>\n",
       "      <th>F_Coffee</th>\n",
       "      <th>F_Diesel</th>\n",
       "      <th>F_Earthy</th>\n",
       "      <th>F_Flowery</th>\n",
       "      <th>F_Fruit</th>\n",
       "      <th>F_Grape</th>\n",
       "      <th>F_Grapefruit</th>\n",
       "      <th>F_Honey</th>\n",
       "      <th>F_Lavender</th>\n",
       "      <th>F_Lemon</th>\n",
       "      <th>F_Lime</th>\n",
       "      <th>F_Mango</th>\n",
       "      <th>F_Menthol</th>\n",
       "      <th>F_Mint</th>\n",
       "      <th>F_Minty</th>\n",
       "      <th>F_None</th>\n",
       "      <th>F_Nutty</th>\n",
       "      <th>F_Orange</th>\n",
       "      <th>F_Peach</th>\n",
       "      <th>F_Pear</th>\n",
       "      <th>F_Pepper</th>\n",
       "      <th>F_Pine</th>\n",
       "      <th>F_Pineapple</th>\n",
       "      <th>F_Plum</th>\n",
       "      <th>F_Pungent</th>\n",
       "      <th>F_Rose</th>\n",
       "      <th>F_Sage</th>\n",
       "      <th>F_Skunk</th>\n",
       "      <th>F_Spicy/Herbal</th>\n",
       "      <th>F_Strawberry</th>\n",
       "      <th>F_Sweet</th>\n",
       "      <th>F_Tar</th>\n",
       "      <th>F_Tea</th>\n",
       "      <th>F_Tobacco</th>\n",
       "      <th>F_Tree</th>\n",
       "      <th>F_Tropical</th>\n",
       "      <th>F_Vanilla</th>\n",
       "      <th>F_Violet</th>\n",
       "      <th>F_Woody</th>\n",
       "    </tr>\n",
       "  </thead>\n",
       "  <tbody>\n",
       "    <tr>\n",
       "      <th>0</th>\n",
       "      <td>100-Og</td>\n",
       "      <td>hybrid</td>\n",
       "      <td>4.0</td>\n",
       "      <td>Creative,Energetic,Tingly,Euphoric,Relaxed</td>\n",
       "      <td>Earthy,Sweet,Citrus</td>\n",
       "      <td>$100 OG is a 50/50 hybrid strain that packs a ...</td>\n",
       "      <td>0</td>\n",
       "      <td>1</td>\n",
       "      <td>0</td>\n",
       "      <td>1</td>\n",
       "      <td>1</td>\n",
       "      <td>0</td>\n",
       "      <td>0</td>\n",
       "      <td>0</td>\n",
       "      <td>0</td>\n",
       "      <td>0</td>\n",
       "      <td>0</td>\n",
       "      <td>1</td>\n",
       "      <td>0</td>\n",
       "      <td>0</td>\n",
       "      <td>1</td>\n",
       "      <td>0</td>\n",
       "      <td>0</td>\n",
       "      <td>0</td>\n",
       "      <td>0</td>\n",
       "      <td>0</td>\n",
       "      <td>0</td>\n",
       "      <td>0</td>\n",
       "      <td>0</td>\n",
       "      <td>0</td>\n",
       "      <td>0</td>\n",
       "      <td>0</td>\n",
       "      <td>1</td>\n",
       "      <td>0</td>\n",
       "      <td>0</td>\n",
       "      <td>1</td>\n",
       "      <td>0</td>\n",
       "      <td>0</td>\n",
       "      <td>0</td>\n",
       "      <td>0</td>\n",
       "      <td>0</td>\n",
       "      <td>0</td>\n",
       "      <td>0</td>\n",
       "      <td>0</td>\n",
       "      <td>0</td>\n",
       "      <td>0</td>\n",
       "      <td>0</td>\n",
       "      <td>0</td>\n",
       "      <td>0</td>\n",
       "      <td>0</td>\n",
       "      <td>0</td>\n",
       "      <td>0</td>\n",
       "      <td>0</td>\n",
       "      <td>0</td>\n",
       "      <td>0</td>\n",
       "      <td>0</td>\n",
       "      <td>0</td>\n",
       "      <td>0</td>\n",
       "      <td>0</td>\n",
       "      <td>0</td>\n",
       "      <td>0</td>\n",
       "      <td>0</td>\n",
       "      <td>0</td>\n",
       "      <td>1</td>\n",
       "      <td>0</td>\n",
       "      <td>0</td>\n",
       "      <td>0</td>\n",
       "      <td>0</td>\n",
       "      <td>0</td>\n",
       "      <td>0</td>\n",
       "      <td>0</td>\n",
       "      <td>0</td>\n",
       "    </tr>\n",
       "    <tr>\n",
       "      <th>1</th>\n",
       "      <td>98-White-Widow</td>\n",
       "      <td>hybrid</td>\n",
       "      <td>4.7</td>\n",
       "      <td>Relaxed,Aroused,Creative,Happy,Energetic</td>\n",
       "      <td>Flowery,Violet,Diesel</td>\n",
       "      <td>The ‘98 Aloha White Widow is an especially pot...</td>\n",
       "      <td>1</td>\n",
       "      <td>1</td>\n",
       "      <td>0</td>\n",
       "      <td>1</td>\n",
       "      <td>0</td>\n",
       "      <td>0</td>\n",
       "      <td>0</td>\n",
       "      <td>1</td>\n",
       "      <td>0</td>\n",
       "      <td>0</td>\n",
       "      <td>0</td>\n",
       "      <td>1</td>\n",
       "      <td>0</td>\n",
       "      <td>0</td>\n",
       "      <td>0</td>\n",
       "      <td>0</td>\n",
       "      <td>0</td>\n",
       "      <td>0</td>\n",
       "      <td>0</td>\n",
       "      <td>0</td>\n",
       "      <td>0</td>\n",
       "      <td>0</td>\n",
       "      <td>0</td>\n",
       "      <td>0</td>\n",
       "      <td>0</td>\n",
       "      <td>0</td>\n",
       "      <td>0</td>\n",
       "      <td>0</td>\n",
       "      <td>1</td>\n",
       "      <td>0</td>\n",
       "      <td>1</td>\n",
       "      <td>0</td>\n",
       "      <td>0</td>\n",
       "      <td>0</td>\n",
       "      <td>0</td>\n",
       "      <td>0</td>\n",
       "      <td>0</td>\n",
       "      <td>0</td>\n",
       "      <td>0</td>\n",
       "      <td>0</td>\n",
       "      <td>0</td>\n",
       "      <td>0</td>\n",
       "      <td>0</td>\n",
       "      <td>0</td>\n",
       "      <td>0</td>\n",
       "      <td>0</td>\n",
       "      <td>0</td>\n",
       "      <td>0</td>\n",
       "      <td>0</td>\n",
       "      <td>0</td>\n",
       "      <td>0</td>\n",
       "      <td>0</td>\n",
       "      <td>0</td>\n",
       "      <td>0</td>\n",
       "      <td>0</td>\n",
       "      <td>0</td>\n",
       "      <td>0</td>\n",
       "      <td>0</td>\n",
       "      <td>0</td>\n",
       "      <td>0</td>\n",
       "      <td>0</td>\n",
       "      <td>0</td>\n",
       "      <td>0</td>\n",
       "      <td>0</td>\n",
       "      <td>1</td>\n",
       "      <td>0</td>\n",
       "    </tr>\n",
       "    <tr>\n",
       "      <th>2</th>\n",
       "      <td>1024</td>\n",
       "      <td>sativa</td>\n",
       "      <td>4.4</td>\n",
       "      <td>Uplifted,Happy,Relaxed,Energetic,Creative</td>\n",
       "      <td>Spicy/Herbal,Sage,Woody</td>\n",
       "      <td>1024 is a sativa-dominant hybrid bred in Spain...</td>\n",
       "      <td>0</td>\n",
       "      <td>1</td>\n",
       "      <td>0</td>\n",
       "      <td>1</td>\n",
       "      <td>0</td>\n",
       "      <td>0</td>\n",
       "      <td>0</td>\n",
       "      <td>1</td>\n",
       "      <td>0</td>\n",
       "      <td>0</td>\n",
       "      <td>0</td>\n",
       "      <td>1</td>\n",
       "      <td>0</td>\n",
       "      <td>0</td>\n",
       "      <td>0</td>\n",
       "      <td>1</td>\n",
       "      <td>0</td>\n",
       "      <td>0</td>\n",
       "      <td>0</td>\n",
       "      <td>0</td>\n",
       "      <td>0</td>\n",
       "      <td>0</td>\n",
       "      <td>0</td>\n",
       "      <td>0</td>\n",
       "      <td>0</td>\n",
       "      <td>0</td>\n",
       "      <td>0</td>\n",
       "      <td>0</td>\n",
       "      <td>0</td>\n",
       "      <td>0</td>\n",
       "      <td>0</td>\n",
       "      <td>0</td>\n",
       "      <td>0</td>\n",
       "      <td>0</td>\n",
       "      <td>0</td>\n",
       "      <td>0</td>\n",
       "      <td>0</td>\n",
       "      <td>0</td>\n",
       "      <td>0</td>\n",
       "      <td>0</td>\n",
       "      <td>0</td>\n",
       "      <td>0</td>\n",
       "      <td>0</td>\n",
       "      <td>0</td>\n",
       "      <td>0</td>\n",
       "      <td>0</td>\n",
       "      <td>0</td>\n",
       "      <td>0</td>\n",
       "      <td>0</td>\n",
       "      <td>0</td>\n",
       "      <td>0</td>\n",
       "      <td>0</td>\n",
       "      <td>0</td>\n",
       "      <td>1</td>\n",
       "      <td>0</td>\n",
       "      <td>1</td>\n",
       "      <td>0</td>\n",
       "      <td>0</td>\n",
       "      <td>0</td>\n",
       "      <td>0</td>\n",
       "      <td>0</td>\n",
       "      <td>0</td>\n",
       "      <td>0</td>\n",
       "      <td>0</td>\n",
       "      <td>0</td>\n",
       "      <td>1</td>\n",
       "    </tr>\n",
       "    <tr>\n",
       "      <th>3</th>\n",
       "      <td>13-Dawgs</td>\n",
       "      <td>hybrid</td>\n",
       "      <td>4.2</td>\n",
       "      <td>Tingly,Creative,Hungry,Relaxed,Uplifted</td>\n",
       "      <td>Apricot,Citrus,Grapefruit</td>\n",
       "      <td>13 Dawgs is a hybrid of G13 and Chemdawg genet...</td>\n",
       "      <td>0</td>\n",
       "      <td>1</td>\n",
       "      <td>0</td>\n",
       "      <td>0</td>\n",
       "      <td>0</td>\n",
       "      <td>0</td>\n",
       "      <td>0</td>\n",
       "      <td>0</td>\n",
       "      <td>1</td>\n",
       "      <td>0</td>\n",
       "      <td>0</td>\n",
       "      <td>1</td>\n",
       "      <td>0</td>\n",
       "      <td>0</td>\n",
       "      <td>1</td>\n",
       "      <td>1</td>\n",
       "      <td>0</td>\n",
       "      <td>0</td>\n",
       "      <td>1</td>\n",
       "      <td>0</td>\n",
       "      <td>0</td>\n",
       "      <td>0</td>\n",
       "      <td>0</td>\n",
       "      <td>0</td>\n",
       "      <td>0</td>\n",
       "      <td>0</td>\n",
       "      <td>1</td>\n",
       "      <td>0</td>\n",
       "      <td>0</td>\n",
       "      <td>0</td>\n",
       "      <td>0</td>\n",
       "      <td>0</td>\n",
       "      <td>0</td>\n",
       "      <td>1</td>\n",
       "      <td>0</td>\n",
       "      <td>0</td>\n",
       "      <td>0</td>\n",
       "      <td>0</td>\n",
       "      <td>0</td>\n",
       "      <td>0</td>\n",
       "      <td>0</td>\n",
       "      <td>0</td>\n",
       "      <td>0</td>\n",
       "      <td>0</td>\n",
       "      <td>0</td>\n",
       "      <td>0</td>\n",
       "      <td>0</td>\n",
       "      <td>0</td>\n",
       "      <td>0</td>\n",
       "      <td>0</td>\n",
       "      <td>0</td>\n",
       "      <td>0</td>\n",
       "      <td>0</td>\n",
       "      <td>0</td>\n",
       "      <td>0</td>\n",
       "      <td>0</td>\n",
       "      <td>0</td>\n",
       "      <td>0</td>\n",
       "      <td>0</td>\n",
       "      <td>0</td>\n",
       "      <td>0</td>\n",
       "      <td>0</td>\n",
       "      <td>0</td>\n",
       "      <td>0</td>\n",
       "      <td>0</td>\n",
       "      <td>0</td>\n",
       "    </tr>\n",
       "    <tr>\n",
       "      <th>4</th>\n",
       "      <td>24K-Gold</td>\n",
       "      <td>hybrid</td>\n",
       "      <td>4.6</td>\n",
       "      <td>Happy,Relaxed,Euphoric,Uplifted,Talkative</td>\n",
       "      <td>Citrus,Earthy,Orange</td>\n",
       "      <td>Also known as Kosher Tangie, 24k Gold is a 60%...</td>\n",
       "      <td>0</td>\n",
       "      <td>0</td>\n",
       "      <td>0</td>\n",
       "      <td>0</td>\n",
       "      <td>1</td>\n",
       "      <td>0</td>\n",
       "      <td>0</td>\n",
       "      <td>1</td>\n",
       "      <td>0</td>\n",
       "      <td>0</td>\n",
       "      <td>0</td>\n",
       "      <td>1</td>\n",
       "      <td>0</td>\n",
       "      <td>1</td>\n",
       "      <td>0</td>\n",
       "      <td>1</td>\n",
       "      <td>0</td>\n",
       "      <td>0</td>\n",
       "      <td>0</td>\n",
       "      <td>0</td>\n",
       "      <td>0</td>\n",
       "      <td>0</td>\n",
       "      <td>0</td>\n",
       "      <td>0</td>\n",
       "      <td>0</td>\n",
       "      <td>0</td>\n",
       "      <td>1</td>\n",
       "      <td>0</td>\n",
       "      <td>0</td>\n",
       "      <td>1</td>\n",
       "      <td>0</td>\n",
       "      <td>0</td>\n",
       "      <td>0</td>\n",
       "      <td>0</td>\n",
       "      <td>0</td>\n",
       "      <td>0</td>\n",
       "      <td>0</td>\n",
       "      <td>0</td>\n",
       "      <td>0</td>\n",
       "      <td>0</td>\n",
       "      <td>0</td>\n",
       "      <td>0</td>\n",
       "      <td>0</td>\n",
       "      <td>0</td>\n",
       "      <td>1</td>\n",
       "      <td>0</td>\n",
       "      <td>0</td>\n",
       "      <td>0</td>\n",
       "      <td>0</td>\n",
       "      <td>0</td>\n",
       "      <td>0</td>\n",
       "      <td>0</td>\n",
       "      <td>0</td>\n",
       "      <td>0</td>\n",
       "      <td>0</td>\n",
       "      <td>0</td>\n",
       "      <td>0</td>\n",
       "      <td>0</td>\n",
       "      <td>0</td>\n",
       "      <td>0</td>\n",
       "      <td>0</td>\n",
       "      <td>0</td>\n",
       "      <td>0</td>\n",
       "      <td>0</td>\n",
       "      <td>0</td>\n",
       "      <td>0</td>\n",
       "    </tr>\n",
       "  </tbody>\n",
       "</table>\n",
       "</div>"
      ],
      "text/plain": [
       "           Strain    Type  Rating                                     Effects  \\\n",
       "0          100-Og  hybrid     4.0  Creative,Energetic,Tingly,Euphoric,Relaxed   \n",
       "1  98-White-Widow  hybrid     4.7    Relaxed,Aroused,Creative,Happy,Energetic   \n",
       "2            1024  sativa     4.4   Uplifted,Happy,Relaxed,Energetic,Creative   \n",
       "3        13-Dawgs  hybrid     4.2     Tingly,Creative,Hungry,Relaxed,Uplifted   \n",
       "4        24K-Gold  hybrid     4.6   Happy,Relaxed,Euphoric,Uplifted,Talkative   \n",
       "\n",
       "                      Flavor  \\\n",
       "0        Earthy,Sweet,Citrus   \n",
       "1      Flowery,Violet,Diesel   \n",
       "2    Spicy/Herbal,Sage,Woody   \n",
       "3  Apricot,Citrus,Grapefruit   \n",
       "4       Citrus,Earthy,Orange   \n",
       "\n",
       "                                         Description E_Aroused E_Creative  \\\n",
       "0  $100 OG is a 50/50 hybrid strain that packs a ...         0          1   \n",
       "1  The ‘98 Aloha White Widow is an especially pot...         1          1   \n",
       "2  1024 is a sativa-dominant hybrid bred in Spain...         0          1   \n",
       "3  13 Dawgs is a hybrid of G13 and Chemdawg genet...         0          1   \n",
       "4  Also known as Kosher Tangie, 24k Gold is a 60%...         0          0   \n",
       "\n",
       "  E_Dry E_Energetic E_Euphoric E_Focused E_Giggly E_Happy E_Hungry E_Mouth  \\\n",
       "0     0           1          1         0        0       0        0       0   \n",
       "1     0           1          0         0        0       1        0       0   \n",
       "2     0           1          0         0        0       1        0       0   \n",
       "3     0           0          0         0        0       0        1       0   \n",
       "4     0           0          1         0        0       1        0       0   \n",
       "\n",
       "  E_None E_Relaxed E_Sleepy E_Talkative E_Tingly E_Uplifted F_Ammonia F_Apple  \\\n",
       "0      0         1        0           0        1          0         0       0   \n",
       "1      0         1        0           0        0          0         0       0   \n",
       "2      0         1        0           0        0          1         0       0   \n",
       "3      0         1        0           0        1          1         0       0   \n",
       "4      0         1        0           1        0          1         0       0   \n",
       "\n",
       "  F_Apricot F_Berry F_Blue F_Blueberry F_Butter F_Cheese F_Chemical  \\\n",
       "0         0       0      0           0        0        0          0   \n",
       "1         0       0      0           0        0        0          0   \n",
       "2         0       0      0           0        0        0          0   \n",
       "3         1       0      0           0        0        0          0   \n",
       "4         0       0      0           0        0        0          0   \n",
       "\n",
       "  F_Chestnut F_Citrus F_Coffee F_Diesel F_Earthy F_Flowery F_Fruit F_Grape  \\\n",
       "0          0        1        0        0        1         0       0       0   \n",
       "1          0        0        0        1        0         1       0       0   \n",
       "2          0        0        0        0        0         0       0       0   \n",
       "3          0        1        0        0        0         0       0       0   \n",
       "4          0        1        0        0        1         0       0       0   \n",
       "\n",
       "  F_Grapefruit F_Honey F_Lavender F_Lemon F_Lime F_Mango F_Menthol F_Mint  \\\n",
       "0            0       0          0       0      0       0         0      0   \n",
       "1            0       0          0       0      0       0         0      0   \n",
       "2            0       0          0       0      0       0         0      0   \n",
       "3            1       0          0       0      0       0         0      0   \n",
       "4            0       0          0       0      0       0         0      0   \n",
       "\n",
       "  F_Minty F_None F_Nutty F_Orange F_Peach F_Pear F_Pepper F_Pine F_Pineapple  \\\n",
       "0       0      0       0        0       0      0        0      0           0   \n",
       "1       0      0       0        0       0      0        0      0           0   \n",
       "2       0      0       0        0       0      0        0      0           0   \n",
       "3       0      0       0        0       0      0        0      0           0   \n",
       "4       0      0       0        1       0      0        0      0           0   \n",
       "\n",
       "  F_Plum F_Pungent F_Rose F_Sage F_Skunk F_Spicy/Herbal F_Strawberry F_Sweet  \\\n",
       "0      0         0      0      0       0              0            0       1   \n",
       "1      0         0      0      0       0              0            0       0   \n",
       "2      0         0      0      1       0              1            0       0   \n",
       "3      0         0      0      0       0              0            0       0   \n",
       "4      0         0      0      0       0              0            0       0   \n",
       "\n",
       "  F_Tar F_Tea F_Tobacco F_Tree F_Tropical F_Vanilla F_Violet F_Woody  \n",
       "0     0     0         0      0          0         0        0       0  \n",
       "1     0     0         0      0          0         0        1       0  \n",
       "2     0     0         0      0          0         0        0       1  \n",
       "3     0     0         0      0          0         0        0       0  \n",
       "4     0     0         0      0          0         0        0       0  "
      ]
     },
     "execution_count": 9,
     "metadata": {},
     "output_type": "execute_result"
    }
   ],
   "source": [
    "# Split the 'Flavor' column and create dummy variables\n",
    "flavor_dummies = high['Flavor'].str.get_dummies(',')\n",
    "\n",
    "# Add a prefix to the dummy variable columns\n",
    "flavor_dummies = flavor_dummies.add_prefix('F_')\n",
    "\n",
    "# Convert dummy variable columns to Object type\n",
    "flavor_dummies = flavor_dummies.astype('object')\n",
    "\n",
    "# Concatenate the dummy variables with the original DataFrame\n",
    "high = pd.concat([high, flavor_dummies], axis=1)\n",
    "\n",
    "# Display the updated DataFrame\n",
    "pd.set_option('display.max_columns', None)\n",
    "high.head()"
   ]
  },
  {
   "cell_type": "code",
   "execution_count": 10,
   "metadata": {
    "id": "6ewg07OqIDsx"
   },
   "outputs": [],
   "source": [
    "#high.info()"
   ]
  },
  {
   "cell_type": "code",
   "execution_count": 11,
   "metadata": {
    "id": "S8DwNjbqSK1M"
   },
   "outputs": [],
   "source": [
    "# drop nan values\n",
    "high = high.dropna()"
   ]
  },
  {
   "cell_type": "markdown",
   "metadata": {
    "id": "7OPg3CnnNRrD"
   },
   "source": [
    "- Our goal will be to fit models that identify the Sativa types from the Indica types, and then to fit models that also distinguish the Hybrid types."
   ]
  },
  {
   "cell_type": "markdown",
   "metadata": {
    "id": "8NSeb8-6OGob"
   },
   "source": [
    "# Part One: Binary Classification\n",
    "- Create a dataset that is limited only to the Sativa and Indica type cannabis strains.\n",
    "- This section asks you to create a final best model for each of the four new model types studied this week: LDA, QDA, SVC, and SVM. For SVM, you may limit yourself to only the polynomial kernel.\n",
    "\n",
    "For each, you should:\n",
    "\n",
    "1. Choose a metric you will use to select your model, and briefly justify your choice. (Hint: There is no specific target category here, so this should not be a metric that only prioritizes one category.)\n",
    "\n",
    "2. Find the best model for predicting the Type variable. Don’t forget to tune any hyperparameters.\n",
    "\n",
    "3. Report the (cross-validated!) metric.\n",
    "\n",
    "4. Fit the final model.\n",
    "\n",
    "5. Output a confusion matrix.\n",
    "\n",
    "\n"
   ]
  },
  {
   "cell_type": "code",
   "execution_count": 12,
   "metadata": {
    "id": "AOX38-JGPyhN"
   },
   "outputs": [],
   "source": [
    "high_binary = high[(high['Type'] == \"sativa\") | (high['Type'] == \"indica\")]\n",
    "\n",
    "X = high_binary.drop(['Type', 'Flavor', 'Effects', 'Strain', 'Description'], axis = 1)\n",
    "y = high_binary[\"Type\"]"
   ]
  },
  {
   "cell_type": "code",
   "execution_count": 13,
   "metadata": {
    "id": "iKKcC8mGRsSS"
   },
   "outputs": [],
   "source": [
    "#Preprocessor as a column transformer that dumifies, standardizes.\n",
    "ct = ColumnTransformer(\n",
    "  [\n",
    "    (\"dummify\",\n",
    "    OneHotEncoder(sparse_output = False, handle_unknown='ignore'),\n",
    "    make_column_selector(dtype_include=object)),\n",
    "    (\"standardize\",\n",
    "    StandardScaler(),\n",
    "    make_column_selector(dtype_include=np.number))\n",
    "  ],\n",
    "  remainder = \"passthrough\"\n",
    ")"
   ]
  },
  {
   "cell_type": "code",
   "execution_count": 14,
   "metadata": {
    "id": "jAXWFDfPR6NK"
   },
   "outputs": [],
   "source": [
    "# Define the cross-validation strategy\n",
    "cv = StratifiedKFold(n_splits=10, shuffle=True, random_state=42)"
   ]
  },
  {
   "cell_type": "markdown",
   "metadata": {
    "id": "XXF0VbS6PR3P"
   },
   "source": [
    "## Q1: LDA"
   ]
  },
  {
   "cell_type": "code",
   "execution_count": 15,
   "metadata": {
    "colab": {
     "base_uri": "https://localhost:8080/",
     "height": 216
    },
    "id": "_5JT_YdaLP7k",
    "outputId": "a2dd3ffe-073a-4b72-b138-dd1c5e4643a2"
   },
   "outputs": [
    {
     "name": "stdout",
     "output_type": "stream",
     "text": [
      "Metrics for Model_1 :\n",
      "\n",
      "Mean Accuracy Score: 0.8357985257985259 \n",
      "\n",
      "Confusion Matrix for Model_3 : \n",
      "\n"
     ]
    },
    {
     "data": {
      "text/html": [
       "<div>\n",
       "<style scoped>\n",
       "    .dataframe tbody tr th:only-of-type {\n",
       "        vertical-align: middle;\n",
       "    }\n",
       "\n",
       "    .dataframe tbody tr th {\n",
       "        vertical-align: top;\n",
       "    }\n",
       "\n",
       "    .dataframe thead th {\n",
       "        text-align: right;\n",
       "    }\n",
       "</style>\n",
       "<table border=\"1\" class=\"dataframe\">\n",
       "  <thead>\n",
       "    <tr style=\"text-align: right;\">\n",
       "      <th></th>\n",
       "      <th>sativa</th>\n",
       "      <th>indica</th>\n",
       "    </tr>\n",
       "  </thead>\n",
       "  <tbody>\n",
       "    <tr>\n",
       "      <th>sativa</th>\n",
       "      <td>618</td>\n",
       "      <td>62</td>\n",
       "    </tr>\n",
       "    <tr>\n",
       "      <th>indica</th>\n",
       "      <td>82</td>\n",
       "      <td>346</td>\n",
       "    </tr>\n",
       "  </tbody>\n",
       "</table>\n",
       "</div>"
      ],
      "text/plain": [
       "        sativa  indica\n",
       "sativa     618      62\n",
       "indica      82     346"
      ]
     },
     "execution_count": 15,
     "metadata": {},
     "output_type": "execute_result"
    }
   ],
   "source": [
    "from sklearn.discriminant_analysis import LinearDiscriminantAnalysis\n",
    "# Model Specification\n",
    "lda = LinearDiscriminantAnalysis()\n",
    "\n",
    "#pipeline Creation\n",
    "model_1_pipeline = Pipeline(\n",
    "    [(\"preprocessing\", ct),\n",
    "    (\"lda_classification\", lda)]\n",
    "  )\n",
    "\n",
    "model_1 = model_1_pipeline.fit(X,y)\n",
    "\n",
    "model_1_pred = model_1.predict(X)\n",
    "\n",
    "# Metrics for Model 3\n",
    "print(\"Metrics for Model_1 :\\n\")\n",
    "\n",
    "# Accuracy calculation\n",
    "cv_scores = cross_val_score(model_1_pipeline, X, y, cv=cv, scoring='accuracy') # Perform cross-validation\n",
    "roc_auc_model_1 = np.mean(cv_scores)\n",
    "print(\"Mean Accuracy Score:\", roc_auc_model_1, \"\\n\")\n",
    "\n",
    "# Confusion matrix\n",
    "uni_classes = y.unique() #getting the unique classes in the Y variale\n",
    "conf_matrix_test = confusion_matrix(y, model_1_pred) # making the matrix\n",
    "class_names = uni_classes.tolist() # Putting the classes to a list\n",
    "conf_matrix_df = pd.DataFrame(conf_matrix_test, index=class_names, columns=class_names) # Display the confusion matrix with class labels\n",
    "print(\"Confusion Matrix for Model_3 : \\n\")\n",
    "conf_matrix_df"
   ]
  },
  {
   "cell_type": "markdown",
   "metadata": {
    "id": "tCHClXO2US_S"
   },
   "source": [
    "- For LDA I chose accuracy as the score, since this is still technically a multiclass problem. The Score for this model was 84%."
   ]
  },
  {
   "cell_type": "markdown",
   "metadata": {
    "id": "6d8lYfxcUeCs"
   },
   "source": [
    "## Q2: QDA\n"
   ]
  },
  {
   "cell_type": "code",
   "execution_count": 16,
   "metadata": {
    "colab": {
     "base_uri": "https://localhost:8080/",
     "height": 216
    },
    "id": "2nEpkLFgDlBE",
    "outputId": "fcf9c8b7-1615-4b05-cfa2-879317278617"
   },
   "outputs": [
    {
     "name": "stdout",
     "output_type": "stream",
     "text": [
      "Metrics for Model_2 :\n",
      "\n",
      "Mean Accuracy Score: 0.5849631449631449 \n",
      "\n",
      "Confusion Matrix for Model_2 : \n",
      "\n"
     ]
    },
    {
     "data": {
      "text/html": [
       "<div>\n",
       "<style scoped>\n",
       "    .dataframe tbody tr th:only-of-type {\n",
       "        vertical-align: middle;\n",
       "    }\n",
       "\n",
       "    .dataframe tbody tr th {\n",
       "        vertical-align: top;\n",
       "    }\n",
       "\n",
       "    .dataframe thead th {\n",
       "        text-align: right;\n",
       "    }\n",
       "</style>\n",
       "<table border=\"1\" class=\"dataframe\">\n",
       "  <thead>\n",
       "    <tr style=\"text-align: right;\">\n",
       "      <th></th>\n",
       "      <th>sativa</th>\n",
       "      <th>indica</th>\n",
       "    </tr>\n",
       "  </thead>\n",
       "  <tbody>\n",
       "    <tr>\n",
       "      <th>sativa</th>\n",
       "      <td>339</td>\n",
       "      <td>341</td>\n",
       "    </tr>\n",
       "    <tr>\n",
       "      <th>indica</th>\n",
       "      <td>35</td>\n",
       "      <td>393</td>\n",
       "    </tr>\n",
       "  </tbody>\n",
       "</table>\n",
       "</div>"
      ],
      "text/plain": [
       "        sativa  indica\n",
       "sativa     339     341\n",
       "indica      35     393"
      ]
     },
     "execution_count": 16,
     "metadata": {},
     "output_type": "execute_result"
    }
   ],
   "source": [
    "from sklearn.discriminant_analysis import QuadraticDiscriminantAnalysis\n",
    "# Model Specification\n",
    "qda = QuadraticDiscriminantAnalysis()\n",
    "\n",
    "#pipeline Creation\n",
    "model_2_pipeline = Pipeline(\n",
    "    [(\"preprocessing\", ct),\n",
    "    (\"qda_classification\", qda)]\n",
    "  )\n",
    "\n",
    "model_2 = model_2_pipeline.fit(X,y)\n",
    "\n",
    "model_2_pred = model_2.predict(X)\n",
    "\n",
    "# Metrics for Model 2\n",
    "print(\"Metrics for Model_2 :\\n\")\n",
    "\n",
    "# Accuracy calculation\n",
    "cv_scores = cross_val_score(model_2_pipeline, X, y, cv=cv, scoring='accuracy') # Perform cross-validation\n",
    "roc_auc_model_2 = np.mean(cv_scores)\n",
    "print(\"Mean Accuracy Score:\", roc_auc_model_2, \"\\n\")\n",
    "\n",
    "# Confusion matrix\n",
    "uni_classes = y.unique() #getting the unique classes in the Y variale\n",
    "conf_matrix_test = confusion_matrix(y, model_2_pred) # making the matrix\n",
    "class_names = uni_classes.tolist() # Putting the classes to a list\n",
    "conf_matrix_df = pd.DataFrame(conf_matrix_test, index=class_names, columns=class_names) # Display the confusion matrix with class labels\n",
    "print(\"Confusion Matrix for Model_2 : \\n\")\n",
    "conf_matrix_df"
   ]
  },
  {
   "cell_type": "markdown",
   "metadata": {
    "id": "fJ0fOR5WVBzV"
   },
   "source": [
    "- For QDA I chose accuracy as the score, since this is still technically a multiclass problem. The Score for this model was 57%."
   ]
  },
  {
   "cell_type": "markdown",
   "metadata": {
    "id": "q8C_MFaNU9YR"
   },
   "source": [
    "## Q3: SVC\n"
   ]
  },
  {
   "cell_type": "code",
   "execution_count": 17,
   "metadata": {
    "colab": {
     "base_uri": "https://localhost:8080/",
     "height": 206
    },
    "id": "lXTx4W85DlHG",
    "outputId": "a0a6e57c-1cd1-4e03-c414-a394c22d3b1c"
   },
   "outputs": [
    {
     "data": {
      "text/html": [
       "<div>\n",
       "<style scoped>\n",
       "    .dataframe tbody tr th:only-of-type {\n",
       "        vertical-align: middle;\n",
       "    }\n",
       "\n",
       "    .dataframe tbody tr th {\n",
       "        vertical-align: top;\n",
       "    }\n",
       "\n",
       "    .dataframe thead th {\n",
       "        text-align: right;\n",
       "    }\n",
       "</style>\n",
       "<table border=\"1\" class=\"dataframe\">\n",
       "  <thead>\n",
       "    <tr style=\"text-align: right;\">\n",
       "      <th></th>\n",
       "      <th>lambda</th>\n",
       "      <th>accuracy</th>\n",
       "    </tr>\n",
       "  </thead>\n",
       "  <tbody>\n",
       "    <tr>\n",
       "      <th>4</th>\n",
       "      <td>1</td>\n",
       "      <td>0.847518</td>\n",
       "    </tr>\n",
       "    <tr>\n",
       "      <th>5</th>\n",
       "      <td>10</td>\n",
       "      <td>0.844783</td>\n",
       "    </tr>\n",
       "    <tr>\n",
       "      <th>3</th>\n",
       "      <td>0.1</td>\n",
       "      <td>0.843014</td>\n",
       "    </tr>\n",
       "    <tr>\n",
       "      <th>2</th>\n",
       "      <td>0.01</td>\n",
       "      <td>0.840303</td>\n",
       "    </tr>\n",
       "    <tr>\n",
       "      <th>1</th>\n",
       "      <td>0.001</td>\n",
       "      <td>0.777125</td>\n",
       "    </tr>\n",
       "  </tbody>\n",
       "</table>\n",
       "</div>"
      ],
      "text/plain": [
       "  lambda  accuracy\n",
       "4      1  0.847518\n",
       "5     10  0.844783\n",
       "3    0.1  0.843014\n",
       "2   0.01  0.840303\n",
       "1  0.001  0.777125"
      ]
     },
     "execution_count": 17,
     "metadata": {},
     "output_type": "execute_result"
    }
   ],
   "source": [
    "from sklearn.svm import SVC\n",
    "\n",
    "# Model Specification\n",
    "svc = SVC(kernel='linear')  # You can specify different kernels based on your problem\n",
    "\n",
    "# Pipeline Creation\n",
    "model_3_pipeline = Pipeline([(\"preprocessing\", ct),\n",
    "    (\"svc_classification\", svc)\n",
    "])\n",
    "\n",
    "#tuning using grid Search\n",
    "params = {'svc_classification__C': [.0001, .001, .01, .1, 1, 10]}\n",
    "\n",
    "gscv = GridSearchCV(model_3_pipeline, params, cv = cv, scoring='accuracy')\n",
    "\n",
    "gscv_fitted = gscv.fit(X, y)\n",
    "\n",
    "#getting the scores from the results\n",
    "mean_test_scores = gscv_fitted.cv_results_['mean_test_score']\n",
    "\n",
    "#getting the K's from the results corresponding to the\n",
    "lambdas = gscv_fitted.cv_results_['param_svc_classification__C']\n",
    "\n",
    "# Creating a DataFrame with best parameterss and scores\n",
    "model_scores = pd.DataFrame(data = {\"lambda\": lambdas, \"accuracy\": mean_test_scores}).sort_values(by='accuracy', ascending=False)\n",
    "model_scores.head()"
   ]
  },
  {
   "cell_type": "code",
   "execution_count": 18,
   "metadata": {
    "colab": {
     "base_uri": "https://localhost:8080/",
     "height": 216
    },
    "id": "fv-z86nPDlFM",
    "outputId": "ec9611be-25c6-4239-ef19-15f5e2ff67e2"
   },
   "outputs": [
    {
     "name": "stdout",
     "output_type": "stream",
     "text": [
      "Metrics for Model_2 :\n",
      "\n",
      "Mean Accuracy Score: 0.8475184275184275 \n",
      "\n",
      "Confusion Matrix for Model_3 : \n",
      "\n"
     ]
    },
    {
     "data": {
      "text/html": [
       "<div>\n",
       "<style scoped>\n",
       "    .dataframe tbody tr th:only-of-type {\n",
       "        vertical-align: middle;\n",
       "    }\n",
       "\n",
       "    .dataframe tbody tr th {\n",
       "        vertical-align: top;\n",
       "    }\n",
       "\n",
       "    .dataframe thead th {\n",
       "        text-align: right;\n",
       "    }\n",
       "</style>\n",
       "<table border=\"1\" class=\"dataframe\">\n",
       "  <thead>\n",
       "    <tr style=\"text-align: right;\">\n",
       "      <th></th>\n",
       "      <th>sativa</th>\n",
       "      <th>indica</th>\n",
       "    </tr>\n",
       "  </thead>\n",
       "  <tbody>\n",
       "    <tr>\n",
       "      <th>sativa</th>\n",
       "      <td>626</td>\n",
       "      <td>54</td>\n",
       "    </tr>\n",
       "    <tr>\n",
       "      <th>indica</th>\n",
       "      <td>79</td>\n",
       "      <td>349</td>\n",
       "    </tr>\n",
       "  </tbody>\n",
       "</table>\n",
       "</div>"
      ],
      "text/plain": [
       "        sativa  indica\n",
       "sativa     626      54\n",
       "indica      79     349"
      ]
     },
     "execution_count": 18,
     "metadata": {},
     "output_type": "execute_result"
    }
   ],
   "source": [
    "# Model Specification\n",
    "svc = SVC(kernel='linear', C=model_scores.iloc[0, 0])  # You can specify different kernels based on your problem\n",
    "\n",
    "# Pipeline Creation\n",
    "model_3_pipeline = Pipeline([(\"preprocessing\", ct),\n",
    "    (\"svc_classification\", svc)\n",
    "])\n",
    "\n",
    "model_3 = model_3_pipeline.fit(X,y)\n",
    "\n",
    "model_3_pred = model_3.predict(X)\n",
    "\n",
    "# Metrics for Model 2\n",
    "print(\"Metrics for Model_2 :\\n\")\n",
    "\n",
    "# Accuracy calculation\n",
    "cv_scores = cross_val_score(model_3_pipeline, X, y, cv=cv, scoring='accuracy') # Perform cross-validation\n",
    "roc_auc_model_3 = np.mean(cv_scores)\n",
    "print(\"Mean Accuracy Score:\", roc_auc_model_3, \"\\n\")\n",
    "\n",
    "# Confusion matrix\n",
    "uni_classes = y.unique() #getting the unique classes in the Y variale\n",
    "conf_matrix_test = confusion_matrix(y, model_3_pred) # making the matrix\n",
    "class_names = uni_classes.tolist() # Putting the classes to a list\n",
    "conf_matrix_df = pd.DataFrame(conf_matrix_test, index=class_names, columns=class_names) # Display the confusion matrix with class labels\n",
    "print(\"Confusion Matrix for Model_3 : \\n\")\n",
    "conf_matrix_df"
   ]
  },
  {
   "cell_type": "markdown",
   "metadata": {
    "id": "Kz668G0CjE_1"
   },
   "source": [
    "- For SVC I chose accuracy as the score, since this is still technically a multiclass problem. The Score for this model was 85%."
   ]
  },
  {
   "cell_type": "markdown",
   "metadata": {
    "id": "GU9EmQDQV5r0"
   },
   "source": [
    "## Q4: SVM\n"
   ]
  },
  {
   "cell_type": "code",
   "execution_count": 19,
   "metadata": {
    "colab": {
     "base_uri": "https://localhost:8080/",
     "height": 206
    },
    "id": "iI77RPg2DlKd",
    "outputId": "7a8046c7-5ef9-4c93-b9bb-66b37d181bbb"
   },
   "outputs": [
    {
     "data": {
      "text/html": [
       "<div>\n",
       "<style scoped>\n",
       "    .dataframe tbody tr th:only-of-type {\n",
       "        vertical-align: middle;\n",
       "    }\n",
       "\n",
       "    .dataframe tbody tr th {\n",
       "        vertical-align: top;\n",
       "    }\n",
       "\n",
       "    .dataframe thead th {\n",
       "        text-align: right;\n",
       "    }\n",
       "</style>\n",
       "<table border=\"1\" class=\"dataframe\">\n",
       "  <thead>\n",
       "    <tr style=\"text-align: right;\">\n",
       "      <th></th>\n",
       "      <th>degree</th>\n",
       "      <th>Cs</th>\n",
       "      <th>accuracy</th>\n",
       "    </tr>\n",
       "  </thead>\n",
       "  <tbody>\n",
       "    <tr>\n",
       "      <th>26</th>\n",
       "      <td>7</td>\n",
       "      <td>0.01</td>\n",
       "      <td>0.860131</td>\n",
       "    </tr>\n",
       "    <tr>\n",
       "      <th>19</th>\n",
       "      <td>10</td>\n",
       "      <td>0.001</td>\n",
       "      <td>0.856536</td>\n",
       "    </tr>\n",
       "    <tr>\n",
       "      <th>33</th>\n",
       "      <td>4</td>\n",
       "      <td>0.1</td>\n",
       "      <td>0.854726</td>\n",
       "    </tr>\n",
       "    <tr>\n",
       "      <th>34</th>\n",
       "      <td>5</td>\n",
       "      <td>0.1</td>\n",
       "      <td>0.850205</td>\n",
       "    </tr>\n",
       "    <tr>\n",
       "      <th>25</th>\n",
       "      <td>6</td>\n",
       "      <td>0.01</td>\n",
       "      <td>0.849312</td>\n",
       "    </tr>\n",
       "  </tbody>\n",
       "</table>\n",
       "</div>"
      ],
      "text/plain": [
       "   degree     Cs  accuracy\n",
       "26      7   0.01  0.860131\n",
       "19     10  0.001  0.856536\n",
       "33      4    0.1  0.854726\n",
       "34      5    0.1  0.850205\n",
       "25      6   0.01  0.849312"
      ]
     },
     "execution_count": 19,
     "metadata": {},
     "output_type": "execute_result"
    }
   ],
   "source": [
    "from sklearn.svm import SVC\n",
    "\n",
    "# Model Specification\n",
    "svc = SVC(kernel='poly')  # You can specify different kernels based on your problem\n",
    "\n",
    "# Pipeline Creation\n",
    "model_3_pipeline = Pipeline([(\"preprocessing\", ct),\n",
    "    (\"svc_classification\", svc)\n",
    "])\n",
    "\n",
    "#tuning using grid Search\n",
    "params = {'svc_classification__degree': [1, 2, 3, 4, 5, 6, 7, 8, 9, 10],\n",
    "          'svc_classification__C': [.0001, .001, .01, .1, 1, 10]}\n",
    "\n",
    "gscv = GridSearchCV(model_3_pipeline, params, cv = cv, scoring='accuracy')\n",
    "\n",
    "gscv_fitted = gscv.fit(X, y)\n",
    "\n",
    "#getting the scores from the results\n",
    "mean_test_scores = gscv_fitted.cv_results_['mean_test_score']\n",
    "\n",
    "#getting the K's from the results corresponding to the\n",
    "degrees = gscv_fitted.cv_results_['param_svc_classification__degree']\n",
    "Cs = gscv_fitted.cv_results_['param_svc_classification__C']\n",
    "\n",
    "# Creating a DataFrame with best parameterss and scores\n",
    "model_scores = pd.DataFrame(data = {\"degree\": degrees,\"Cs\": Cs, \"accuracy\": mean_test_scores}).sort_values(by='accuracy', ascending=False)\n",
    "model_scores.head()"
   ]
  },
  {
   "cell_type": "code",
   "execution_count": 20,
   "metadata": {
    "colab": {
     "base_uri": "https://localhost:8080/",
     "height": 216
    },
    "id": "hg9LbNXfDlM-",
    "outputId": "0322cca9-2f40-4ee9-f684-7c5b50807b56"
   },
   "outputs": [
    {
     "name": "stdout",
     "output_type": "stream",
     "text": [
      "Metrics for Model_3 :\n",
      "\n",
      "Mean Accuracy Score: 0.8601310401310401 \n",
      "\n",
      "Confusion Matrix for Model_3 : \n",
      "\n"
     ]
    },
    {
     "data": {
      "text/html": [
       "<div>\n",
       "<style scoped>\n",
       "    .dataframe tbody tr th:only-of-type {\n",
       "        vertical-align: middle;\n",
       "    }\n",
       "\n",
       "    .dataframe tbody tr th {\n",
       "        vertical-align: top;\n",
       "    }\n",
       "\n",
       "    .dataframe thead th {\n",
       "        text-align: right;\n",
       "    }\n",
       "</style>\n",
       "<table border=\"1\" class=\"dataframe\">\n",
       "  <thead>\n",
       "    <tr style=\"text-align: right;\">\n",
       "      <th></th>\n",
       "      <th>sativa</th>\n",
       "      <th>indica</th>\n",
       "    </tr>\n",
       "  </thead>\n",
       "  <tbody>\n",
       "    <tr>\n",
       "      <th>sativa</th>\n",
       "      <td>638</td>\n",
       "      <td>42</td>\n",
       "    </tr>\n",
       "    <tr>\n",
       "      <th>indica</th>\n",
       "      <td>60</td>\n",
       "      <td>368</td>\n",
       "    </tr>\n",
       "  </tbody>\n",
       "</table>\n",
       "</div>"
      ],
      "text/plain": [
       "        sativa  indica\n",
       "sativa     638      42\n",
       "indica      60     368"
      ]
     },
     "execution_count": 20,
     "metadata": {},
     "output_type": "execute_result"
    }
   ],
   "source": [
    "# Model Specification\n",
    "svc = SVC(kernel='poly', degree=model_scores.iloc[0, 0], C=model_scores.iloc[0, 1])  # You can specify different kernels based on your problem\n",
    "\n",
    "# Pipeline Creation\n",
    "model_3_pipeline = Pipeline([(\"preprocessing\", ct),\n",
    "    (\"svc_classification\", svc)\n",
    "])\n",
    "\n",
    "model_3 = model_3_pipeline.fit(X,y)\n",
    "\n",
    "model_3_pred = model_3.predict(X)\n",
    "\n",
    "# Metrics for Model 2\n",
    "print(\"Metrics for Model_3 :\\n\")\n",
    "\n",
    "# Accuracy calculation\n",
    "cv_scores = cross_val_score(model_3_pipeline, X, y, cv=cv, scoring='accuracy') # Perform cross-validation\n",
    "roc_auc_model_3 = np.mean(cv_scores)\n",
    "print(\"Mean Accuracy Score:\", roc_auc_model_3, \"\\n\")\n",
    "\n",
    "# Confusion matrix\n",
    "uni_classes = y.unique() #getting the unique classes in the Y variale\n",
    "conf_matrix_test = confusion_matrix(y, model_3_pred) # making the matrix\n",
    "class_names = uni_classes.tolist() # Putting the classes to a list\n",
    "conf_matrix_df = pd.DataFrame(conf_matrix_test, index=class_names, columns=class_names) # Display the confusion matrix with class labels\n",
    "print(\"Confusion Matrix for Model_3 : \\n\")\n",
    "conf_matrix_df"
   ]
  },
  {
   "cell_type": "markdown",
   "metadata": {
    "id": "ViT9i05SA6V2"
   },
   "source": [
    "- For SVM I chose accuracy as the score, since this is still technically a multiclass problem. The Score for this model was 86%."
   ]
  },
  {
   "cell_type": "markdown",
   "metadata": {
    "id": "0nRMQzkccRqb"
   },
   "source": [
    "# Part Two: Natural Multiclass\n",
    "Now use the full dataset, including the Hybrid strains."
   ]
  },
  {
   "cell_type": "code",
   "execution_count": 21,
   "metadata": {
    "id": "twH8vU5idvWk"
   },
   "outputs": [],
   "source": [
    "X = high.drop(['Type', 'Flavor', 'Effects', 'Strain', 'Description'], axis = 1)\n",
    "y = high[\"Type\"]"
   ]
  },
  {
   "cell_type": "markdown",
   "metadata": {
    "id": "X_-QLLV7cXl-"
   },
   "source": [
    "## Q1 Decision\n",
    "Fit a decision tree, plot the final fit, and interpret the results."
   ]
  },
  {
   "cell_type": "code",
   "execution_count": 22,
   "metadata": {
    "colab": {
     "base_uri": "https://localhost:8080/",
     "height": 206
    },
    "id": "gHYKWkVcDlOj",
    "outputId": "c05593f8-056b-4f2a-b3bd-55bbea079d65"
   },
   "outputs": [
    {
     "data": {
      "text/html": [
       "<div>\n",
       "<style scoped>\n",
       "    .dataframe tbody tr th:only-of-type {\n",
       "        vertical-align: middle;\n",
       "    }\n",
       "\n",
       "    .dataframe tbody tr th {\n",
       "        vertical-align: top;\n",
       "    }\n",
       "\n",
       "    .dataframe thead th {\n",
       "        text-align: right;\n",
       "    }\n",
       "</style>\n",
       "<table border=\"1\" class=\"dataframe\">\n",
       "  <thead>\n",
       "    <tr style=\"text-align: right;\">\n",
       "      <th></th>\n",
       "      <th>max_depth</th>\n",
       "      <th>accuracy</th>\n",
       "    </tr>\n",
       "  </thead>\n",
       "  <tbody>\n",
       "    <tr>\n",
       "      <th>1</th>\n",
       "      <td>3</td>\n",
       "      <td>0.621435</td>\n",
       "    </tr>\n",
       "    <tr>\n",
       "      <th>2</th>\n",
       "      <td>6</td>\n",
       "      <td>0.612632</td>\n",
       "    </tr>\n",
       "    <tr>\n",
       "      <th>0</th>\n",
       "      <td>1</td>\n",
       "      <td>0.610876</td>\n",
       "    </tr>\n",
       "    <tr>\n",
       "      <th>3</th>\n",
       "      <td>9</td>\n",
       "      <td>0.605168</td>\n",
       "    </tr>\n",
       "    <tr>\n",
       "      <th>4</th>\n",
       "      <td>12</td>\n",
       "      <td>0.576615</td>\n",
       "    </tr>\n",
       "  </tbody>\n",
       "</table>\n",
       "</div>"
      ],
      "text/plain": [
       "  max_depth  accuracy\n",
       "1         3  0.621435\n",
       "2         6  0.612632\n",
       "0         1  0.610876\n",
       "3         9  0.605168\n",
       "4        12  0.576615"
      ]
     },
     "execution_count": 22,
     "metadata": {},
     "output_type": "execute_result"
    }
   ],
   "source": [
    "#Preproccessor\n",
    "ct_no_standardize = ColumnTransformer(\n",
    "    [(\"dummify\",\n",
    "         OneHotEncoder(sparse_output=False, handle_unknown='ignore'),\n",
    "         make_column_selector(dtype_include=object)),\n",
    "    ],\n",
    "    remainder=\"passthrough\"\n",
    "    )\n",
    "\n",
    "#Model Specification\n",
    "des = DecisionTreeClassifier()\n",
    "\n",
    "#pipeline Creation\n",
    "model_4_pipeline = Pipeline(\n",
    "    [(\"preprocessing\", ct_no_standardize),\n",
    "    (\"des_classification\", des)]\n",
    "  )\n",
    "\n",
    "#tuning using grid Search\n",
    "params = {'des_classification__max_depth': [1, 3, 6, 9, 12, 15]}\n",
    "\n",
    "gscv = GridSearchCV(model_4_pipeline, params, cv = cv, scoring='accuracy')\n",
    "\n",
    "gscv_fitted = gscv.fit(X, y)\n",
    "\n",
    "#getting the scores from the results\n",
    "mean_test_scores = gscv_fitted.cv_results_['mean_test_score']\n",
    "\n",
    "#getting the K's from the results corresponding to the\n",
    "max_depth = gscv_fitted.cv_results_['param_des_classification__max_depth']\n",
    "\n",
    "# Creating a DataFrame with best parameterss and scores\n",
    "model_scores = pd.DataFrame(data = {\"max_depth\": max_depth, \"accuracy\": mean_test_scores}).sort_values(by='accuracy', ascending=False)\n",
    "model_scores.head()"
   ]
  },
  {
   "cell_type": "code",
   "execution_count": 23,
   "metadata": {
    "colab": {
     "base_uri": "https://localhost:8080/",
     "height": 216
    },
    "id": "5AnSbKG2DlQq",
    "outputId": "183a2caa-ceb9-4a89-a9d3-e819be1d256e"
   },
   "outputs": [
    {
     "name": "stdout",
     "output_type": "stream",
     "text": [
      "Metrics for Model_4 :\n",
      "\n",
      "Mean Accuracy Score: 0.6214351959193137 \n",
      "\n",
      "Confusion Matrix for Model_4 : \n",
      "\n"
     ]
    },
    {
     "data": {
      "text/html": [
       "<div>\n",
       "<style scoped>\n",
       "    .dataframe tbody tr th:only-of-type {\n",
       "        vertical-align: middle;\n",
       "    }\n",
       "\n",
       "    .dataframe tbody tr th {\n",
       "        vertical-align: top;\n",
       "    }\n",
       "\n",
       "    .dataframe thead th {\n",
       "        text-align: right;\n",
       "    }\n",
       "</style>\n",
       "<table border=\"1\" class=\"dataframe\">\n",
       "  <thead>\n",
       "    <tr style=\"text-align: right;\">\n",
       "      <th></th>\n",
       "      <th>sativa</th>\n",
       "      <th>indica</th>\n",
       "    </tr>\n",
       "  </thead>\n",
       "  <tbody>\n",
       "    <tr>\n",
       "      <th>sativa</th>\n",
       "      <td>638</td>\n",
       "      <td>42</td>\n",
       "    </tr>\n",
       "    <tr>\n",
       "      <th>indica</th>\n",
       "      <td>60</td>\n",
       "      <td>368</td>\n",
       "    </tr>\n",
       "  </tbody>\n",
       "</table>\n",
       "</div>"
      ],
      "text/plain": [
       "        sativa  indica\n",
       "sativa     638      42\n",
       "indica      60     368"
      ]
     },
     "execution_count": 23,
     "metadata": {},
     "output_type": "execute_result"
    }
   ],
   "source": [
    "#Model Specification\n",
    "des = DecisionTreeClassifier(max_depth=model_scores.iloc[0,0])\n",
    "\n",
    "#pipeline Creation\n",
    "model_4_pipeline = Pipeline(\n",
    "    [(\"preprocessing\", ct_no_standardize),\n",
    "    (\"des_classification\", des)]\n",
    "  )\n",
    "\n",
    "#fitting\n",
    "model_4 = model_4_pipeline.fit(X,y)\n",
    "\n",
    "#cross validated predictions\n",
    "model_4_pred = model_4.predict(X)\n",
    "\n",
    "# Metrics for Model 2\n",
    "print(\"Metrics for Model_4 :\\n\")\n",
    "\n",
    "# Accuracy calculation\n",
    "cv_scores = cross_val_score(model_4_pipeline, X, y, cv=cv, scoring='accuracy') # Perform cross-validation\n",
    "roc_auc_model_4 = np.mean(cv_scores)\n",
    "print(\"Mean Accuracy Score:\", roc_auc_model_4, \"\\n\")\n",
    "\n",
    "# Confusion matrix\n",
    "uni_classes = y.unique() #getting the unique classes in the Y variale\n",
    "conf_matrix_test = confusion_matrix(y, model_4_pred) # making the matrix\n",
    "class_names = uni_classes.tolist() # Putting the classes to a listconf_matrix_df = pd.DataFrame(conf_matrix_test, index=class_names, columns=class_names) # Display the confusion matrix with class labels\n",
    "print(\"Confusion Matrix for Model_4 : \\n\")\n",
    "conf_matrix_df"
   ]
  },
  {
   "cell_type": "code",
   "execution_count": 24,
   "metadata": {
    "colab": {
     "base_uri": "https://localhost:8080/",
     "height": 594
    },
    "id": "EgtJKszsDlSj",
    "outputId": "b466ded2-b253-4fc1-8a73-3022b0ae9b19"
   },
   "outputs": [
    {
     "data": {
      "image/png": "[encoded data removed]",
      "text/plain": [
       "<IPython.core.display.Image object>"
      ]
     },
     "metadata": {},
     "output_type": "display_data"
    }
   ],
   "source": [
    "from sklearn.tree import export_graphviz\n",
    "from IPython.display import display, Image\n",
    "import graphviz\n",
    "\n",
    "# Perform cross-validated predictions\n",
    "y_pred_cv = model_4_pred\n",
    "\n",
    "# Get the indices of correctly classified instances\n",
    "correct_indices = (y == y_pred_cv)\n",
    "\n",
    "# Use the correct indices to fit the model on the entire dataset\n",
    "model_4_pipeline.fit(X[correct_indices], y[correct_indices])\n",
    "\n",
    "# Get the transformed feature names from the preprocessor\n",
    "transformed_feature_names = list(ct_no_standardize.get_feature_names_out(X.columns))\n",
    "\n",
    "# Convert class names to strings\n",
    "class_names_str = model_4_pipeline.named_steps['des_classification'].classes_.astype(str)\n",
    "\n",
    "# Export the decision tree to a DOT file\n",
    "dot_data = export_graphviz(model_4_pipeline.named_steps['des_classification'],\n",
    "                           feature_names=transformed_feature_names,\n",
    "                           class_names=class_names_str,  # Convert class names to strings\n",
    "                           filled=True,\n",
    "                           rounded=True,\n",
    "                           special_characters=True,\n",
    "                           out_file=None)\n",
    "\n",
    "# Render the decision tree directly\n",
    "graph = graphviz.Source(dot_data, format=\"png\")\n",
    "display(Image(graph.render(format='png', cleanup=True)))"
   ]
  },
  {
   "cell_type": "code",
   "execution_count": 25,
   "metadata": {
    "colab": {
     "base_uri": "https://localhost:8080/",
     "height": 514
    },
    "id": "myPjhDRlDlUz",
    "outputId": "5dd2f4ae-1945-48c2-9f31-7ffecd1c719d"
   },
   "outputs": [
    {
     "data": {
      "image/png": "[encoded data removed]",
      "text/plain": [
       "<Figure size 640x480 with 1 Axes>"
      ]
     },
     "metadata": {
      "image/png": {
       "height": 480,
       "width": 640
      },
      "needs_background": "light"
     },
     "output_type": "display_data"
    },
    {
     "data": {
      "text/plain": [
       "<Figure Size: (640 x 480)>"
      ]
     },
     "execution_count": 25,
     "metadata": {},
     "output_type": "execute_result"
    }
   ],
   "source": [
    "# Get feature importances\n",
    "feature_importances = model_4_pipeline.named_steps[\"des_classification\"].feature_importances_\n",
    "\n",
    "# Get the corresponding feature names\n",
    "feature_names = list(ct_no_standardize.get_feature_names_out(X.columns))\n",
    "\n",
    "# Create a DataFrame to display feature importances\n",
    "feature_importance_df = pd.DataFrame({\n",
    "    'Feature': feature_names,\n",
    "    'Importance': feature_importances\n",
    "})\n",
    "\n",
    "# Sort the DataFrame by importance in descending order\n",
    "feature_importance_df = feature_importance_df.sort_values(by='Importance', ascending=False)\n",
    "\n",
    "# Display the sorted feature importances\n",
    "feature_importance_df.head()\n",
    "\n",
    "feature_plot = (\n",
    "    ggplot(feature_importance_df.head(), aes(x='Feature', y='Importance'))\n",
    "    + geom_bar(stat='identity', fill='steelblue')\n",
    "    + theme_minimal()\n",
    "    + coord_flip()  # Horizontal bar plot\n",
    "    + labs(title='Top 5 Feature Importances', x='Feature', y='Importance')\n",
    ")\n",
    "feature_plot\n",
    "#feature_importance_df.head()"
   ]
  },
  {
   "cell_type": "markdown",
   "metadata": {
    "id": "qiQRdO1oigPn"
   },
   "source": [
    "## Q2 LDA, QDA, and KNN\n",
    "Repeat the analyses from Part One for LDA, QDA, and KNN."
   ]
  },
  {
   "cell_type": "markdown",
   "metadata": {
    "id": "pENQlmMWijE6"
   },
   "source": [
    "### LDA"
   ]
  },
  {
   "cell_type": "code",
   "execution_count": 26,
   "metadata": {
    "colab": {
     "base_uri": "https://localhost:8080/",
     "height": 247
    },
    "id": "4zBk4oltB11A",
    "outputId": "861e5c3f-a535-4abf-e428-8fc1e91569f1"
   },
   "outputs": [
    {
     "name": "stdout",
     "output_type": "stream",
     "text": [
      "Metrics for Model_1 :\n",
      "\n",
      "Mean Accuracy Score: 0.6302090578870082 \n",
      "\n",
      "Confusion Matrix for Model_3 : \n",
      "\n"
     ]
    },
    {
     "data": {
      "text/html": [
       "<div>\n",
       "<style scoped>\n",
       "    .dataframe tbody tr th:only-of-type {\n",
       "        vertical-align: middle;\n",
       "    }\n",
       "\n",
       "    .dataframe tbody tr th {\n",
       "        vertical-align: top;\n",
       "    }\n",
       "\n",
       "    .dataframe thead th {\n",
       "        text-align: right;\n",
       "    }\n",
       "</style>\n",
       "<table border=\"1\" class=\"dataframe\">\n",
       "  <thead>\n",
       "    <tr style=\"text-align: right;\">\n",
       "      <th></th>\n",
       "      <th>hybrid</th>\n",
       "      <th>sativa</th>\n",
       "      <th>indica</th>\n",
       "    </tr>\n",
       "  </thead>\n",
       "  <tbody>\n",
       "    <tr>\n",
       "      <th>hybrid</th>\n",
       "      <td>825</td>\n",
       "      <td>205</td>\n",
       "      <td>139</td>\n",
       "    </tr>\n",
       "    <tr>\n",
       "      <th>sativa</th>\n",
       "      <td>207</td>\n",
       "      <td>462</td>\n",
       "      <td>11</td>\n",
       "    </tr>\n",
       "    <tr>\n",
       "      <th>indica</th>\n",
       "      <td>220</td>\n",
       "      <td>20</td>\n",
       "      <td>188</td>\n",
       "    </tr>\n",
       "  </tbody>\n",
       "</table>\n",
       "</div>"
      ],
      "text/plain": [
       "        hybrid  sativa  indica\n",
       "hybrid     825     205     139\n",
       "sativa     207     462      11\n",
       "indica     220      20     188"
      ]
     },
     "execution_count": 26,
     "metadata": {},
     "output_type": "execute_result"
    }
   ],
   "source": [
    "from sklearn.discriminant_analysis import LinearDiscriminantAnalysis\n",
    "# Model Specification\n",
    "lda = LinearDiscriminantAnalysis()\n",
    "\n",
    "#pipeline Creation\n",
    "model_1_pipeline = Pipeline(\n",
    "    [(\"preprocessing\", ct),\n",
    "    (\"lda_classification\", lda)]\n",
    "  )\n",
    "\n",
    "# Metrics for Model 3\n",
    "print(\"Metrics for Model_1 :\\n\")\n",
    "\n",
    "# Accuracy calculation\n",
    "cv_scores = cross_val_score(model_1_pipeline, X, y, cv=cv, scoring='accuracy') # Perform cross-validation\n",
    "roc_auc_model_1 = np.mean(cv_scores)\n",
    "print(\"Mean Accuracy Score:\", roc_auc_model_1, \"\\n\")\n",
    "\n",
    "# Confusion matrix\n",
    "model_1 = model_1_pipeline.fit(X,y)\n",
    "model_1_pred = model_1.predict(X)\n",
    "uni_classes = y.unique() #getting the unique classes in the Y variale\n",
    "conf_matrix_test = confusion_matrix(y, model_1_pred) # making the matrix\n",
    "class_names = uni_classes.tolist() # Putting the classes to a list\n",
    "conf_matrix_df = pd.DataFrame(conf_matrix_test, index=class_names, columns=class_names) # Display the confusion matrix with class labels\n",
    "print(\"Confusion Matrix for Model_3 : \\n\")\n",
    "conf_matrix_df"
   ]
  },
  {
   "cell_type": "markdown",
   "metadata": {
    "id": "1_Q4ECQDijMq"
   },
   "source": [
    "### QDA"
   ]
  },
  {
   "cell_type": "code",
   "execution_count": 27,
   "metadata": {
    "colab": {
     "base_uri": "https://localhost:8080/",
     "height": 247
    },
    "id": "Tm7ePvobB22c",
    "outputId": "0d0a2f64-5f52-4817-916a-0e96dca1c24e"
   },
   "outputs": [
    {
     "name": "stdout",
     "output_type": "stream",
     "text": [
      "Metrics for Model_2 :\n",
      "\n",
      "Mean Accuracy Score: 0.35528247932606843 \n",
      "\n",
      "Confusion Matrix for Model_2 : \n",
      "\n"
     ]
    },
    {
     "data": {
      "text/html": [
       "<div>\n",
       "<style scoped>\n",
       "    .dataframe tbody tr th:only-of-type {\n",
       "        vertical-align: middle;\n",
       "    }\n",
       "\n",
       "    .dataframe tbody tr th {\n",
       "        vertical-align: top;\n",
       "    }\n",
       "\n",
       "    .dataframe thead th {\n",
       "        text-align: right;\n",
       "    }\n",
       "</style>\n",
       "<table border=\"1\" class=\"dataframe\">\n",
       "  <thead>\n",
       "    <tr style=\"text-align: right;\">\n",
       "      <th></th>\n",
       "      <th>hybrid</th>\n",
       "      <th>sativa</th>\n",
       "      <th>indica</th>\n",
       "    </tr>\n",
       "  </thead>\n",
       "  <tbody>\n",
       "    <tr>\n",
       "      <th>hybrid</th>\n",
       "      <td>266</td>\n",
       "      <td>56</td>\n",
       "      <td>847</td>\n",
       "    </tr>\n",
       "    <tr>\n",
       "      <th>sativa</th>\n",
       "      <td>133</td>\n",
       "      <td>112</td>\n",
       "      <td>435</td>\n",
       "    </tr>\n",
       "    <tr>\n",
       "      <th>indica</th>\n",
       "      <td>37</td>\n",
       "      <td>4</td>\n",
       "      <td>387</td>\n",
       "    </tr>\n",
       "  </tbody>\n",
       "</table>\n",
       "</div>"
      ],
      "text/plain": [
       "        hybrid  sativa  indica\n",
       "hybrid     266      56     847\n",
       "sativa     133     112     435\n",
       "indica      37       4     387"
      ]
     },
     "execution_count": 27,
     "metadata": {},
     "output_type": "execute_result"
    }
   ],
   "source": [
    "from sklearn.discriminant_analysis import QuadraticDiscriminantAnalysis\n",
    "# Model Specification\n",
    "qda = QuadraticDiscriminantAnalysis()\n",
    "\n",
    "#pipeline Creation\n",
    "model_2_pipeline = Pipeline(\n",
    "    [(\"preprocessing\", ct),\n",
    "    (\"qda_classification\", qda)]\n",
    "  )\n",
    "\n",
    "model_2 = model_2_pipeline.fit(X,y)\n",
    "\n",
    "model_2_pred = model_2.predict(X)\n",
    "\n",
    "# Metrics for Model 2\n",
    "print(\"Metrics for Model_2 :\\n\")\n",
    "\n",
    "# Accuracy calculation\n",
    "cv_scores = cross_val_score(model_2_pipeline, X, y, cv=cv, scoring='accuracy') # Perform cross-validation\n",
    "roc_auc_model_2 = np.mean(cv_scores)\n",
    "print(\"Mean Accuracy Score:\", roc_auc_model_2, \"\\n\")\n",
    "\n",
    "# Confusion matrix\n",
    "uni_classes = y.unique() #getting the unique classes in the Y variale\n",
    "conf_matrix_test = confusion_matrix(y, model_2_pred) # making the matrix\n",
    "class_names = uni_classes.tolist() # Putting the classes to a list\n",
    "conf_matrix_df = pd.DataFrame(conf_matrix_test, index=class_names, columns=class_names) # Display the confusion matrix with class labels\n",
    "print(\"Confusion Matrix for Model_2 : \\n\")\n",
    "conf_matrix_df"
   ]
  },
  {
   "cell_type": "markdown",
   "metadata": {
    "id": "wwTlRlVBijVQ"
   },
   "source": [
    "### KNN"
   ]
  },
  {
   "cell_type": "code",
   "execution_count": 28,
   "metadata": {
    "colab": {
     "base_uri": "https://localhost:8080/",
     "height": 206
    },
    "id": "qpofD32_B3c9",
    "outputId": "3918067a-c8c5-4de0-e66c-2ea8dc32df14"
   },
   "outputs": [
    {
     "data": {
      "text/html": [
       "<div>\n",
       "<style scoped>\n",
       "    .dataframe tbody tr th:only-of-type {\n",
       "        vertical-align: middle;\n",
       "    }\n",
       "\n",
       "    .dataframe tbody tr th {\n",
       "        vertical-align: top;\n",
       "    }\n",
       "\n",
       "    .dataframe thead th {\n",
       "        text-align: right;\n",
       "    }\n",
       "</style>\n",
       "<table border=\"1\" class=\"dataframe\">\n",
       "  <thead>\n",
       "    <tr style=\"text-align: right;\">\n",
       "      <th></th>\n",
       "      <th>K</th>\n",
       "      <th>accuracy</th>\n",
       "    </tr>\n",
       "  </thead>\n",
       "  <tbody>\n",
       "    <tr>\n",
       "      <th>4</th>\n",
       "      <td>50</td>\n",
       "      <td>0.605601</td>\n",
       "    </tr>\n",
       "    <tr>\n",
       "      <th>3</th>\n",
       "      <td>10</td>\n",
       "      <td>0.591985</td>\n",
       "    </tr>\n",
       "    <tr>\n",
       "      <th>2</th>\n",
       "      <td>5</td>\n",
       "      <td>0.570921</td>\n",
       "    </tr>\n",
       "    <tr>\n",
       "      <th>1</th>\n",
       "      <td>3</td>\n",
       "      <td>0.563434</td>\n",
       "    </tr>\n",
       "    <tr>\n",
       "      <th>0</th>\n",
       "      <td>1</td>\n",
       "      <td>0.500636</td>\n",
       "    </tr>\n",
       "  </tbody>\n",
       "</table>\n",
       "</div>"
      ],
      "text/plain": [
       "    K  accuracy\n",
       "4  50  0.605601\n",
       "3  10  0.591985\n",
       "2   5  0.570921\n",
       "1   3  0.563434\n",
       "0   1  0.500636"
      ]
     },
     "execution_count": 28,
     "metadata": {},
     "output_type": "execute_result"
    }
   ],
   "source": [
    "#Model Specification\n",
    "knn = KNeighborsClassifier()\n",
    "\n",
    "#pipeline Creation\n",
    "model_3_pipeline = Pipeline(\n",
    "    [(\"preprocessing\", ct),\n",
    "    (\"knn_classification\", knn)]\n",
    "  )\n",
    "#tuning using grid Search\n",
    "params = {'knn_classification__n_neighbors': [1, 3, 5, 10, 50]}\n",
    "\n",
    "gscv = GridSearchCV(model_3_pipeline, params, cv = cv, scoring='accuracy')\n",
    "\n",
    "gscv_fitted = gscv.fit(X, y)\n",
    "\n",
    "#getting the scores from the results\n",
    "mean_test_scores = gscv_fitted.cv_results_['mean_test_score']\n",
    "\n",
    "#getting the K's from the results corresponding to the\n",
    "ks = gscv_fitted.cv_results_['param_knn_classification__n_neighbors']\n",
    "\n",
    "# Creating a DataFrame with best parameterss and scores\n",
    "model_scores = pd.DataFrame(data = {\"K\": ks, \"accuracy\": mean_test_scores}).sort_values(by='accuracy', ascending=False)\n",
    "model_scores.head()"
   ]
  },
  {
   "cell_type": "code",
   "execution_count": 29,
   "metadata": {
    "colab": {
     "base_uri": "https://localhost:8080/",
     "height": 247
    },
    "id": "CR5-h_MMB3hM",
    "outputId": "d2a5740c-7a3c-4d4c-fa9b-d6a7223e4dbb"
   },
   "outputs": [
    {
     "name": "stdout",
     "output_type": "stream",
     "text": [
      "Metrics for Model_3 :\n",
      "\n",
      "Mean accuracy Score: 0.6056012829430404 \n",
      "\n",
      "Confusion Matrix for Model_3 : \n",
      "\n"
     ]
    },
    {
     "data": {
      "text/html": [
       "<div>\n",
       "<style scoped>\n",
       "    .dataframe tbody tr th:only-of-type {\n",
       "        vertical-align: middle;\n",
       "    }\n",
       "\n",
       "    .dataframe tbody tr th {\n",
       "        vertical-align: top;\n",
       "    }\n",
       "\n",
       "    .dataframe thead th {\n",
       "        text-align: right;\n",
       "    }\n",
       "</style>\n",
       "<table border=\"1\" class=\"dataframe\">\n",
       "  <thead>\n",
       "    <tr style=\"text-align: right;\">\n",
       "      <th></th>\n",
       "      <th>hybrid</th>\n",
       "      <th>sativa</th>\n",
       "      <th>indica</th>\n",
       "    </tr>\n",
       "  </thead>\n",
       "  <tbody>\n",
       "    <tr>\n",
       "      <th>hybrid</th>\n",
       "      <td>942</td>\n",
       "      <td>187</td>\n",
       "      <td>40</td>\n",
       "    </tr>\n",
       "    <tr>\n",
       "      <th>sativa</th>\n",
       "      <td>269</td>\n",
       "      <td>406</td>\n",
       "      <td>5</td>\n",
       "    </tr>\n",
       "    <tr>\n",
       "      <th>indica</th>\n",
       "      <td>340</td>\n",
       "      <td>19</td>\n",
       "      <td>69</td>\n",
       "    </tr>\n",
       "  </tbody>\n",
       "</table>\n",
       "</div>"
      ],
      "text/plain": [
       "        hybrid  sativa  indica\n",
       "hybrid     942     187      40\n",
       "sativa     269     406       5\n",
       "indica     340      19      69"
      ]
     },
     "execution_count": 29,
     "metadata": {},
     "output_type": "execute_result"
    }
   ],
   "source": [
    "#Model Specification\n",
    "knn = KNeighborsClassifier(n_neighbors=model_scores.iloc[0,0])\n",
    "\n",
    "#pipeline Creation\n",
    "model_3_pipeline = Pipeline(\n",
    "    [(\"preprocessing\", ct),\n",
    "    (\"knn_classification\", knn)]\n",
    "  )\n",
    "\n",
    "#fitting\n",
    "model_3 = model_3_pipeline.fit(X,y)\n",
    "\n",
    "#cross validated predictions\n",
    "model_3_pred = model_3.predict(X)\n",
    "\n",
    "# Metrics for Model 1\n",
    "print(\"Metrics for Model_3 :\\n\")\n",
    "\n",
    "# Accuracy calculation\n",
    "cv_scores = cross_val_score(model_3_pipeline, X, y, cv=cv, scoring='accuracy') # Perform cross-validation\n",
    "accuracy_model_3 = np.mean(cv_scores)\n",
    "print(\"Mean accuracy Score:\", accuracy_model_3, \"\\n\")\n",
    "\n",
    "# Confusion matrix\n",
    "uni_classes = y.unique() #getting the unique classes in the Y variale\n",
    "conf_matrix_test = confusion_matrix(y, model_3_pred) # making the matrix\n",
    "class_names = uni_classes.tolist() # Putting the classes to a list\n",
    "conf_matrix_df = pd.DataFrame(conf_matrix_test, index=class_names, columns=class_names) # Display the confusion matrix with class labels\n",
    "print(\"Confusion Matrix for Model_3 : \\n\")\n",
    "conf_matrix_df"
   ]
  },
  {
   "cell_type": "markdown",
   "metadata": {
    "id": "DBybj79eideV"
   },
   "source": [
    "## Q3\n",
    "Were your metrics better or worse than in Part One? Why? Which categories were most likely to get mixed up, according to the confusion matrices? Why?"
   ]
  },
  {
   "cell_type": "markdown",
   "metadata": {
    "id": "LrKp9WwMM58O"
   },
   "source": [
    "The results were worse for every model given that now the models had to classify more than just two classes. Added to that the models had a harder time classifying between the hybrid variants which makes sense since these share characteristics with the other two types."
   ]
  },
  {
   "cell_type": "markdown",
   "metadata": {
    "id": "f-B0MI5UkXo5"
   },
   "source": [
    "# Part Three: Multiclass from Binary\n",
    "Consider two models designed for binary classification: SVC and Logistic Regression."
   ]
  },
  {
   "cell_type": "markdown",
   "metadata": {
    "id": "ElZ-iXsOkuyg"
   },
   "source": [
    "## Q1\n",
    "Fit and report metrics for OvR versions of the models. That is, for each of the two model types, create three models:"
   ]
  },
  {
   "cell_type": "markdown",
   "metadata": {
    "id": "qIkkvjH3kyng"
   },
   "source": [
    "### Indica vs. Not Indica"
   ]
  },
  {
   "cell_type": "code",
   "execution_count": 30,
   "metadata": {
    "colab": {
     "base_uri": "https://localhost:8080/"
    },
    "id": "B4W4GLexfzf1",
    "outputId": "e5b8b980-2c6d-4146-e6bd-9964e913cc13"
   },
   "outputs": [
    {
     "data": {
      "text/plain": [
       "array(['hybrid', 'sativa', 'indica'], dtype=object)"
      ]
     },
     "execution_count": 30,
     "metadata": {},
     "output_type": "execute_result"
    }
   ],
   "source": [
    "high['Type'].unique()"
   ]
  },
  {
   "cell_type": "code",
   "execution_count": 31,
   "metadata": {
    "id": "ZgW9Dsp7fh9k"
   },
   "outputs": [],
   "source": [
    "# Create a new column 'type_indica' based on the categories\n",
    "high['type_indica'] = high['Type'] == 'indica'\n",
    "\n",
    "#creating the X and y to proceed\n",
    "X = high.drop(['Type', 'Flavor', 'Effects', 'Strain', 'Description', 'type_indica'], axis = 1)\n",
    "y = high[\"type_indica\"]\n"
   ]
  },
  {
   "cell_type": "markdown",
   "metadata": {
    "id": "PW1vXyutk0EA"
   },
   "source": [
    "#### SVC"
   ]
  },
  {
   "cell_type": "code",
   "execution_count": 32,
   "metadata": {
    "colab": {
     "base_uri": "https://localhost:8080/",
     "height": 206
    },
    "id": "J_sxHkVVfdOH",
    "outputId": "146f4336-7b5a-4c1b-9084-afda2ab09a69"
   },
   "outputs": [
    {
     "data": {
      "text/html": [
       "<div>\n",
       "<style scoped>\n",
       "    .dataframe tbody tr th:only-of-type {\n",
       "        vertical-align: middle;\n",
       "    }\n",
       "\n",
       "    .dataframe tbody tr th {\n",
       "        vertical-align: top;\n",
       "    }\n",
       "\n",
       "    .dataframe thead th {\n",
       "        text-align: right;\n",
       "    }\n",
       "</style>\n",
       "<table border=\"1\" class=\"dataframe\">\n",
       "  <thead>\n",
       "    <tr style=\"text-align: right;\">\n",
       "      <th></th>\n",
       "      <th>lambda</th>\n",
       "      <th>f1</th>\n",
       "    </tr>\n",
       "  </thead>\n",
       "  <tbody>\n",
       "    <tr>\n",
       "      <th>2</th>\n",
       "      <td>0.01</td>\n",
       "      <td>0.652749</td>\n",
       "    </tr>\n",
       "    <tr>\n",
       "      <th>3</th>\n",
       "      <td>0.1</td>\n",
       "      <td>0.652749</td>\n",
       "    </tr>\n",
       "    <tr>\n",
       "      <th>4</th>\n",
       "      <td>1</td>\n",
       "      <td>0.648708</td>\n",
       "    </tr>\n",
       "    <tr>\n",
       "      <th>5</th>\n",
       "      <td>10</td>\n",
       "      <td>0.646769</td>\n",
       "    </tr>\n",
       "    <tr>\n",
       "      <th>0</th>\n",
       "      <td>0.0001</td>\n",
       "      <td>0.000000</td>\n",
       "    </tr>\n",
       "  </tbody>\n",
       "</table>\n",
       "</div>"
      ],
      "text/plain": [
       "   lambda        f1\n",
       "2    0.01  0.652749\n",
       "3     0.1  0.652749\n",
       "4       1  0.648708\n",
       "5      10  0.646769\n",
       "0  0.0001  0.000000"
      ]
     },
     "execution_count": 32,
     "metadata": {},
     "output_type": "execute_result"
    }
   ],
   "source": [
    "from sklearn.svm import SVC\n",
    "\n",
    "# Model Specification\n",
    "svc = SVC(kernel='linear')  # You can specify different kernels based on your problem\n",
    "\n",
    "# Pipeline Creation\n",
    "model_1_pipeline = Pipeline([(\"preprocessing\", ct),\n",
    "    (\"svc_classification\", svc)\n",
    "])\n",
    "\n",
    "#tuning using grid Search\n",
    "params = {'svc_classification__C': [.0001, .001, .01, .1, 1, 10]}\n",
    "\n",
    "gscv = GridSearchCV(model_1_pipeline, params, cv = cv, scoring='f1')\n",
    "\n",
    "gscv_fitted = gscv.fit(X, y)\n",
    "\n",
    "#getting the scores from the results\n",
    "mean_test_scores = gscv_fitted.cv_results_['mean_test_score']\n",
    "\n",
    "#getting the K's from the results corresponding to the\n",
    "lambdas = gscv_fitted.cv_results_['param_svc_classification__C']\n",
    "\n",
    "# Creating a DataFrame with best parameterss and scores\n",
    "model_scores = pd.DataFrame(data = {\"lambda\": lambdas, \"f1\": mean_test_scores}).sort_values(by='f1', ascending=False)\n",
    "model_scores.head()"
   ]
  },
  {
   "cell_type": "code",
   "execution_count": 33,
   "metadata": {
    "colab": {
     "base_uri": "https://localhost:8080/",
     "height": 216
    },
    "id": "T5eJzxocgvxx",
    "outputId": "36c044e9-1fbc-4a9c-847f-0904e98739f6"
   },
   "outputs": [
    {
     "name": "stdout",
     "output_type": "stream",
     "text": [
      "Metrics for Model_1 :\n",
      "\n",
      "Mean F1 Score: 0.6527485773279549 \n",
      "\n",
      "Confusion Matrix for Model_1 : \n",
      "\n"
     ]
    },
    {
     "data": {
      "text/html": [
       "<div>\n",
       "<style scoped>\n",
       "    .dataframe tbody tr th:only-of-type {\n",
       "        vertical-align: middle;\n",
       "    }\n",
       "\n",
       "    .dataframe tbody tr th {\n",
       "        vertical-align: top;\n",
       "    }\n",
       "\n",
       "    .dataframe thead th {\n",
       "        text-align: right;\n",
       "    }\n",
       "</style>\n",
       "<table border=\"1\" class=\"dataframe\">\n",
       "  <thead>\n",
       "    <tr style=\"text-align: right;\">\n",
       "      <th></th>\n",
       "      <th>False</th>\n",
       "      <th>True</th>\n",
       "    </tr>\n",
       "  </thead>\n",
       "  <tbody>\n",
       "    <tr>\n",
       "      <th>False</th>\n",
       "      <td>1334</td>\n",
       "      <td>263</td>\n",
       "    </tr>\n",
       "    <tr>\n",
       "      <th>True</th>\n",
       "      <td>223</td>\n",
       "      <td>457</td>\n",
       "    </tr>\n",
       "  </tbody>\n",
       "</table>\n",
       "</div>"
      ],
      "text/plain": [
       "       False  True \n",
       "False   1334    263\n",
       "True     223    457"
      ]
     },
     "execution_count": 33,
     "metadata": {},
     "output_type": "execute_result"
    }
   ],
   "source": [
    "# Model Specification\n",
    "svc = SVC(kernel='linear', C=model_scores.iloc[0, 0])  # You can specify different kernels based on your problem\n",
    "\n",
    "# Pipeline Creation\n",
    "model_1_pipeline = Pipeline([(\"preprocessing\", ct),\n",
    "    (\"svc_classification\", svc)\n",
    "])\n",
    "\n",
    "model_1 = model_1_pipeline.fit(X,y)\n",
    "\n",
    "model_1_pred = model_1.predict(X)\n",
    "\n",
    "# Metrics for Model 1\n",
    "print(\"Metrics for Model_1 :\\n\")\n",
    "\n",
    "# Accuracy calculation\n",
    "cv_scores = cross_val_score(model_1_pipeline, X, y, cv=cv, scoring='f1') # Perform cross-validation\n",
    "accuracy_model_1 = np.mean(cv_scores)\n",
    "print(\"Mean F1 Score:\", accuracy_model_1, \"\\n\")\n",
    "\n",
    "# Confusion matrix\n",
    "uni_classes = y.unique() #getting the unique classes in the Y variale\n",
    "conf_matrix_test = confusion_matrix(y, model_1_pred) # making the matrix\n",
    "class_names = uni_classes.tolist() # Putting the classes to a list\n",
    "conf_matrix_df = pd.DataFrame(conf_matrix_test, index=class_names, columns=class_names) # Display the confusion matrix with class labels\n",
    "print(\"Confusion Matrix for Model_1 : \\n\")\n",
    "conf_matrix_df"
   ]
  },
  {
   "cell_type": "markdown",
   "metadata": {
    "id": "_ggaeLEik7d7"
   },
   "source": [
    "#### Logistic Regression"
   ]
  },
  {
   "cell_type": "code",
   "execution_count": 34,
   "metadata": {
    "colab": {
     "base_uri": "https://localhost:8080/",
     "height": 80
    },
    "id": "oOi34CHwpLj5",
    "outputId": "5132949d-cdef-4109-9e39-a595f250ba8e"
   },
   "outputs": [
    {
     "data": {
      "text/html": [
       "<div>\n",
       "<style scoped>\n",
       "    .dataframe tbody tr th:only-of-type {\n",
       "        vertical-align: middle;\n",
       "    }\n",
       "\n",
       "    .dataframe tbody tr th {\n",
       "        vertical-align: top;\n",
       "    }\n",
       "\n",
       "    .dataframe thead th {\n",
       "        text-align: right;\n",
       "    }\n",
       "</style>\n",
       "<table border=\"1\" class=\"dataframe\">\n",
       "  <thead>\n",
       "    <tr style=\"text-align: right;\">\n",
       "      <th></th>\n",
       "      <th>lambdas</th>\n",
       "      <th>alphas</th>\n",
       "      <th>f1_score</th>\n",
       "    </tr>\n",
       "  </thead>\n",
       "  <tbody>\n",
       "    <tr>\n",
       "      <th>22</th>\n",
       "      <td>0.1</td>\n",
       "      <td>0.8</td>\n",
       "      <td>0.653544</td>\n",
       "    </tr>\n",
       "  </tbody>\n",
       "</table>\n",
       "</div>"
      ],
      "text/plain": [
       "   lambdas alphas  f1_score\n",
       "22     0.1    0.8  0.653544"
      ]
     },
     "execution_count": 34,
     "metadata": {},
     "output_type": "execute_result"
    }
   ],
   "source": [
    "#Model Specification\n",
    "logreg = LogisticRegression(penalty='elasticnet',solver='saga')\n",
    "\n",
    "#pipeline Creation\n",
    "model_2_pipeline = Pipeline(\n",
    "    [(\"preprocessing\", ct),\n",
    "    (\"logisticreg_classification\", logreg)]\n",
    "  )\n",
    "#tuning using grid Search\n",
    "params = {'logisticreg_classification__C': [.0001, .001, .01, .1, 1, 10],\n",
    "          'logisticreg_classification__l1_ratio':[.1, .2, .4, .6, .8, .9]}\n",
    "\n",
    "gscv = GridSearchCV(model_2_pipeline, params, cv=cv, scoring='f1')\n",
    "\n",
    "gscv_fitted = gscv.fit(X, y)\n",
    "\n",
    "# Getting the scores from the results\n",
    "mean_test_scores = gscv_fitted.cv_results_['mean_test_score']\n",
    "\n",
    "# Getting the parameters corresponding to the models from the results\n",
    "lambdas = gscv_fitted.cv_results_['param_logisticreg_classification__C']\n",
    "alphas = gscv_fitted.cv_results_['param_logisticreg_classification__l1_ratio']\n",
    "\n",
    "# Creating a DataFrame with best parameters and scores\n",
    "model_scores = pd.DataFrame(data={\"lambdas\": lambdas, \"alphas\": alphas, \"f1_score\": mean_test_scores}).sort_values(by='f1_score', ascending=False)\n",
    "model_scores[0:1]"
   ]
  },
  {
   "cell_type": "code",
   "execution_count": 35,
   "metadata": {
    "colab": {
     "base_uri": "https://localhost:8080/"
    },
    "id": "HiNAs1QQq7Ke",
    "outputId": "c3495a06-e265-417b-9c2c-a6ce2457a149"
   },
   "outputs": [
    {
     "data": {
      "text/plain": [
       "0.8"
      ]
     },
     "execution_count": 35,
     "metadata": {},
     "output_type": "execute_result"
    }
   ],
   "source": [
    "model_scores.iloc[0,1]"
   ]
  },
  {
   "cell_type": "code",
   "execution_count": 36,
   "metadata": {
    "colab": {
     "base_uri": "https://localhost:8080/",
     "height": 216
    },
    "id": "TatnKfvYpeUK",
    "outputId": "9ea90959-9b73-4a49-b81f-24ed032e248b"
   },
   "outputs": [
    {
     "name": "stdout",
     "output_type": "stream",
     "text": [
      "Metrics for Model_2 :\n",
      "\n",
      "Mean Accuracy Score: 0.6535441935706054 \n",
      "\n",
      "Confusion Matrix for Model_2 : \n",
      "\n"
     ]
    },
    {
     "data": {
      "text/html": [
       "<div>\n",
       "<style scoped>\n",
       "    .dataframe tbody tr th:only-of-type {\n",
       "        vertical-align: middle;\n",
       "    }\n",
       "\n",
       "    .dataframe tbody tr th {\n",
       "        vertical-align: top;\n",
       "    }\n",
       "\n",
       "    .dataframe thead th {\n",
       "        text-align: right;\n",
       "    }\n",
       "</style>\n",
       "<table border=\"1\" class=\"dataframe\">\n",
       "  <thead>\n",
       "    <tr style=\"text-align: right;\">\n",
       "      <th></th>\n",
       "      <th>False</th>\n",
       "      <th>True</th>\n",
       "    </tr>\n",
       "  </thead>\n",
       "  <tbody>\n",
       "    <tr>\n",
       "      <th>False</th>\n",
       "      <td>1401</td>\n",
       "      <td>196</td>\n",
       "    </tr>\n",
       "    <tr>\n",
       "      <th>True</th>\n",
       "      <td>254</td>\n",
       "      <td>426</td>\n",
       "    </tr>\n",
       "  </tbody>\n",
       "</table>\n",
       "</div>"
      ],
      "text/plain": [
       "       False  True \n",
       "False   1401    196\n",
       "True     254    426"
      ]
     },
     "execution_count": 36,
     "metadata": {},
     "output_type": "execute_result"
    }
   ],
   "source": [
    "#Model Specification\n",
    "logreg = LogisticRegression(penalty='elasticnet',solver='saga', C=model_scores.iloc[0,0], l1_ratio=model_scores.iloc[0,1])\n",
    "\n",
    "#pipeline Creation\n",
    "model_2_pipeline = Pipeline(\n",
    "    [(\"preprocessing\", ct),\n",
    "    (\"logisticreg_classification\", logreg)]\n",
    "  )\n",
    "\n",
    "# Metrics for Model 2\n",
    "print(\"Metrics for Model_2 :\\n\")\n",
    "\n",
    "# Accuracy calculation\n",
    "cv_scores = cross_val_score(model_2_pipeline, X, y, cv=cv, scoring='f1') # Perform cross-validation\n",
    "roc_auc_model_2 = np.mean(cv_scores)\n",
    "print(\"Mean Accuracy Score:\", roc_auc_model_2, \"\\n\")\n",
    "\n",
    "# Confusion matrix\n",
    "model_2 = model_2_pipeline.fit(X,y)\n",
    "model_2_pred = model_2.predict(X)\n",
    "uni_classes = y.unique() #getting the unique classes in the Y variale\n",
    "conf_matrix_test = confusion_matrix(y, model_2_pred) # making the matrix\n",
    "class_names = uni_classes.tolist() # Putting the classes to a list\n",
    "conf_matrix_df = pd.DataFrame(conf_matrix_test, index=class_names, columns=class_names) # Display the confusion matrix with class labels\n",
    "print(\"Confusion Matrix for Model_2 : \\n\")\n",
    "conf_matrix_df"
   ]
  },
  {
   "cell_type": "markdown",
   "metadata": {
    "id": "uSvUqhEnk4Cc"
   },
   "source": [
    "### Sativa vs. Not Sativa"
   ]
  },
  {
   "cell_type": "code",
   "execution_count": 37,
   "metadata": {
    "colab": {
     "base_uri": "https://localhost:8080/"
    },
    "id": "F2Ve7QYsrX4j",
    "outputId": "989f0b67-99ed-46c5-d0fd-929bd4c632fb"
   },
   "outputs": [
    {
     "data": {
      "text/plain": [
       "0       False\n",
       "1       False\n",
       "2        True\n",
       "3       False\n",
       "4       False\n",
       "        ...  \n",
       "2346    False\n",
       "2347    False\n",
       "2348    False\n",
       "2349    False\n",
       "2350    False\n",
       "Name: type_sativa, Length: 2277, dtype: bool"
      ]
     },
     "execution_count": 37,
     "metadata": {},
     "output_type": "execute_result"
    }
   ],
   "source": [
    "# Create a new column 'type_indica' based on the categories\n",
    "high['type_sativa'] = high['Type'] == 'sativa'\n",
    "\n",
    "#creating the X and y to proceed\n",
    "X = high.drop(['Type', 'Flavor', 'Effects', 'Strain', 'Description', 'type_indica', 'type_sativa'], axis = 1)\n",
    "y = high[\"type_sativa\"]\n",
    "y"
   ]
  },
  {
   "cell_type": "markdown",
   "metadata": {
    "id": "-f3f40k8k4Ez"
   },
   "source": [
    "#### SVC"
   ]
  },
  {
   "cell_type": "code",
   "execution_count": 38,
   "metadata": {
    "colab": {
     "base_uri": "https://localhost:8080/",
     "height": 206
    },
    "id": "J_gYY1wNrrA5",
    "outputId": "16ea1fb9-579e-4496-97f1-92d22b6794a3"
   },
   "outputs": [
    {
     "data": {
      "text/html": [
       "<div>\n",
       "<style scoped>\n",
       "    .dataframe tbody tr th:only-of-type {\n",
       "        vertical-align: middle;\n",
       "    }\n",
       "\n",
       "    .dataframe tbody tr th {\n",
       "        vertical-align: top;\n",
       "    }\n",
       "\n",
       "    .dataframe thead th {\n",
       "        text-align: right;\n",
       "    }\n",
       "</style>\n",
       "<table border=\"1\" class=\"dataframe\">\n",
       "  <thead>\n",
       "    <tr style=\"text-align: right;\">\n",
       "      <th></th>\n",
       "      <th>lambda</th>\n",
       "      <th>f1</th>\n",
       "    </tr>\n",
       "  </thead>\n",
       "  <tbody>\n",
       "    <tr>\n",
       "      <th>5</th>\n",
       "      <td>10</td>\n",
       "      <td>0.284206</td>\n",
       "    </tr>\n",
       "    <tr>\n",
       "      <th>4</th>\n",
       "      <td>1</td>\n",
       "      <td>0.266358</td>\n",
       "    </tr>\n",
       "    <tr>\n",
       "      <th>0</th>\n",
       "      <td>0.0001</td>\n",
       "      <td>0.000000</td>\n",
       "    </tr>\n",
       "    <tr>\n",
       "      <th>1</th>\n",
       "      <td>0.001</td>\n",
       "      <td>0.000000</td>\n",
       "    </tr>\n",
       "    <tr>\n",
       "      <th>2</th>\n",
       "      <td>0.01</td>\n",
       "      <td>0.000000</td>\n",
       "    </tr>\n",
       "  </tbody>\n",
       "</table>\n",
       "</div>"
      ],
      "text/plain": [
       "   lambda        f1\n",
       "5      10  0.284206\n",
       "4       1  0.266358\n",
       "0  0.0001  0.000000\n",
       "1   0.001  0.000000\n",
       "2    0.01  0.000000"
      ]
     },
     "execution_count": 38,
     "metadata": {},
     "output_type": "execute_result"
    }
   ],
   "source": [
    "# Model Specification\n",
    "svc = SVC(kernel='linear')  # You can specify different kernels based on your problem\n",
    "\n",
    "# Pipeline Creation\n",
    "model_1_pipeline = Pipeline([(\"preprocessing\", ct),\n",
    "    (\"svc_classification\", svc)\n",
    "])\n",
    "\n",
    "#tuning using grid Search\n",
    "params = {'svc_classification__C': [.0001, .001, .01, .1, 1, 10]}\n",
    "\n",
    "gscv = GridSearchCV(model_1_pipeline, params, cv = cv, scoring='f1')\n",
    "\n",
    "gscv_fitted = gscv.fit(X, y)\n",
    "\n",
    "#getting the scores from the results\n",
    "mean_test_scores = gscv_fitted.cv_results_['mean_test_score']\n",
    "\n",
    "#getting the K's from the results corresponding to the\n",
    "lambdas = gscv_fitted.cv_results_['param_svc_classification__C']\n",
    "\n",
    "# Creating a DataFrame with best parameterss and scores\n",
    "model_scores = pd.DataFrame(data = {\"lambda\": lambdas, \"f1\": mean_test_scores}).sort_values(by='f1', ascending=False)\n",
    "model_scores.head()"
   ]
  },
  {
   "cell_type": "code",
   "execution_count": 39,
   "metadata": {
    "colab": {
     "base_uri": "https://localhost:8080/",
     "height": 216
    },
    "id": "S3QQ1Ac-rv0p",
    "outputId": "2e5201f0-8549-4b59-f8a3-915b96113fd2"
   },
   "outputs": [
    {
     "name": "stdout",
     "output_type": "stream",
     "text": [
      "Metrics for Model_1 :\n",
      "\n",
      "Mean Accuracy Score: 0.28420566537145986 \n",
      "\n",
      "Confusion Matrix for Model_1 : \n",
      "\n"
     ]
    },
    {
     "data": {
      "text/html": [
       "<div>\n",
       "<style scoped>\n",
       "    .dataframe tbody tr th:only-of-type {\n",
       "        vertical-align: middle;\n",
       "    }\n",
       "\n",
       "    .dataframe tbody tr th {\n",
       "        vertical-align: top;\n",
       "    }\n",
       "\n",
       "    .dataframe thead th {\n",
       "        text-align: right;\n",
       "    }\n",
       "</style>\n",
       "<table border=\"1\" class=\"dataframe\">\n",
       "  <thead>\n",
       "    <tr style=\"text-align: right;\">\n",
       "      <th></th>\n",
       "      <th>False</th>\n",
       "      <th>True</th>\n",
       "    </tr>\n",
       "  </thead>\n",
       "  <tbody>\n",
       "    <tr>\n",
       "      <th>False</th>\n",
       "      <td>1798</td>\n",
       "      <td>51</td>\n",
       "    </tr>\n",
       "    <tr>\n",
       "      <th>True</th>\n",
       "      <td>333</td>\n",
       "      <td>95</td>\n",
       "    </tr>\n",
       "  </tbody>\n",
       "</table>\n",
       "</div>"
      ],
      "text/plain": [
       "       False  True \n",
       "False   1798     51\n",
       "True     333     95"
      ]
     },
     "execution_count": 39,
     "metadata": {},
     "output_type": "execute_result"
    }
   ],
   "source": [
    "# Model Specification\n",
    "svc = SVC(kernel='linear', C=model_scores.iloc[0, 0])  # You can specify different kernels based on your problem\n",
    "\n",
    "# Pipeline Creation\n",
    "model_1_pipeline = Pipeline([(\"preprocessing\", ct),\n",
    "    (\"svc_classification\", svc)\n",
    "])\n",
    "\n",
    "model_1 = model_1_pipeline.fit(X,y)\n",
    "\n",
    "model_1_pred = model_1.predict(X)\n",
    "\n",
    "# Metrics for Model 1\n",
    "print(\"Metrics for Model_1 :\\n\")\n",
    "\n",
    "# Accuracy calculation\n",
    "cv_scores = cross_val_score(model_1_pipeline, X, y, cv=cv, scoring='f1') # Perform cross-validation\n",
    "accuracy_model_1 = np.mean(cv_scores)\n",
    "print(\"Mean Accuracy Score:\", accuracy_model_1, \"\\n\")\n",
    "\n",
    "# Confusion matrix\n",
    "uni_classes = y.unique() #getting the unique classes in the Y variale\n",
    "conf_matrix_test = confusion_matrix(y, model_1_pred) # making the matrix\n",
    "class_names = uni_classes.tolist() # Putting the classes to a list\n",
    "conf_matrix_df = pd.DataFrame(conf_matrix_test, index=class_names, columns=class_names) # Display the confusion matrix with class labels\n",
    "print(\"Confusion Matrix for Model_1 : \\n\")\n",
    "conf_matrix_df"
   ]
  },
  {
   "cell_type": "markdown",
   "metadata": {
    "id": "sVsNPMIyk4G_"
   },
   "source": [
    "#### Logistic Regression"
   ]
  },
  {
   "cell_type": "code",
   "execution_count": 40,
   "metadata": {
    "colab": {
     "base_uri": "https://localhost:8080/",
     "height": 80
    },
    "id": "cVzS1-aLr1ec",
    "outputId": "b2755cf0-2560-4c75-981b-47c5d9907ca7"
   },
   "outputs": [
    {
     "data": {
      "text/html": [
       "<div>\n",
       "<style scoped>\n",
       "    .dataframe tbody tr th:only-of-type {\n",
       "        vertical-align: middle;\n",
       "    }\n",
       "\n",
       "    .dataframe tbody tr th {\n",
       "        vertical-align: top;\n",
       "    }\n",
       "\n",
       "    .dataframe thead th {\n",
       "        text-align: right;\n",
       "    }\n",
       "</style>\n",
       "<table border=\"1\" class=\"dataframe\">\n",
       "  <thead>\n",
       "    <tr style=\"text-align: right;\">\n",
       "      <th></th>\n",
       "      <th>lambdas</th>\n",
       "      <th>alphas</th>\n",
       "      <th>f1_score</th>\n",
       "    </tr>\n",
       "  </thead>\n",
       "  <tbody>\n",
       "    <tr>\n",
       "      <th>34</th>\n",
       "      <td>10</td>\n",
       "      <td>0.8</td>\n",
       "      <td>0.400131</td>\n",
       "    </tr>\n",
       "  </tbody>\n",
       "</table>\n",
       "</div>"
      ],
      "text/plain": [
       "   lambdas alphas  f1_score\n",
       "34      10    0.8  0.400131"
      ]
     },
     "execution_count": 40,
     "metadata": {},
     "output_type": "execute_result"
    }
   ],
   "source": [
    "#Model Specification\n",
    "logreg = LogisticRegression(penalty='elasticnet',solver='saga')\n",
    "\n",
    "#pipeline Creation\n",
    "model_2_pipeline = Pipeline(\n",
    "    [(\"preprocessing\", ct),\n",
    "    (\"logisticreg_classification\", logreg)]\n",
    "  )\n",
    "#tuning using grid Search\n",
    "params = {'logisticreg_classification__C': [.0001, .001, .01, .1, 1, 10],\n",
    "          'logisticreg_classification__l1_ratio':[.1, .2, .4, .6, .8, .9]}\n",
    "\n",
    "gscv = GridSearchCV(model_2_pipeline, params, cv=cv, scoring='f1')\n",
    "\n",
    "gscv_fitted = gscv.fit(X, y)\n",
    "\n",
    "# Getting the scores from the results\n",
    "mean_test_scores = gscv_fitted.cv_results_['mean_test_score']\n",
    "\n",
    "# Getting the parameters corresponding to the models from the results\n",
    "lambdas = gscv_fitted.cv_results_['param_logisticreg_classification__C']\n",
    "alphas = gscv_fitted.cv_results_['param_logisticreg_classification__l1_ratio']\n",
    "\n",
    "# Creating a DataFrame with best parameters and scores\n",
    "model_scores = pd.DataFrame(data={\"lambdas\": lambdas, \"alphas\": alphas, \"f1_score\": mean_test_scores}).sort_values(by='f1_score', ascending=False)\n",
    "model_scores[0:1]"
   ]
  },
  {
   "cell_type": "code",
   "execution_count": 41,
   "metadata": {
    "colab": {
     "base_uri": "https://localhost:8080/",
     "height": 216
    },
    "id": "Q0yS4YLTr2YA",
    "outputId": "4f40b5c3-3bb6-43da-d009-b8d98e12c57f"
   },
   "outputs": [
    {
     "name": "stdout",
     "output_type": "stream",
     "text": [
      "Metrics for Model_2 :\n",
      "\n",
      "Mean F1 Score: 0.39787213775062324 \n",
      "\n",
      "Confusion Matrix for Model_2 : \n",
      "\n"
     ]
    },
    {
     "data": {
      "text/html": [
       "<div>\n",
       "<style scoped>\n",
       "    .dataframe tbody tr th:only-of-type {\n",
       "        vertical-align: middle;\n",
       "    }\n",
       "\n",
       "    .dataframe tbody tr th {\n",
       "        vertical-align: top;\n",
       "    }\n",
       "\n",
       "    .dataframe thead th {\n",
       "        text-align: right;\n",
       "    }\n",
       "</style>\n",
       "<table border=\"1\" class=\"dataframe\">\n",
       "  <thead>\n",
       "    <tr style=\"text-align: right;\">\n",
       "      <th></th>\n",
       "      <th>False</th>\n",
       "      <th>True</th>\n",
       "    </tr>\n",
       "  </thead>\n",
       "  <tbody>\n",
       "    <tr>\n",
       "      <th>False</th>\n",
       "      <td>1756</td>\n",
       "      <td>93</td>\n",
       "    </tr>\n",
       "    <tr>\n",
       "      <th>True</th>\n",
       "      <td>281</td>\n",
       "      <td>147</td>\n",
       "    </tr>\n",
       "  </tbody>\n",
       "</table>\n",
       "</div>"
      ],
      "text/plain": [
       "       False  True \n",
       "False   1756     93\n",
       "True     281    147"
      ]
     },
     "execution_count": 41,
     "metadata": {},
     "output_type": "execute_result"
    }
   ],
   "source": [
    "#Model Specification\n",
    "logreg = LogisticRegression(penalty='elasticnet',solver='saga', C=model_scores.iloc[0,0], l1_ratio=model_scores.iloc[0,1])\n",
    "\n",
    "#pipeline Creation\n",
    "model_2_pipeline = Pipeline(\n",
    "    [(\"preprocessing\", ct),\n",
    "    (\"logisticreg_classification\", logreg)]\n",
    "  )\n",
    "\n",
    "# Metrics for Model 2\n",
    "print(\"Metrics for Model_2 :\\n\")\n",
    "\n",
    "# Accuracy calculation\n",
    "cv_scores = cross_val_score(model_2_pipeline, X, y, cv=cv, scoring='f1') # Perform cross-validation\n",
    "mean_score = np.mean(cv_scores)\n",
    "print(\"Mean F1 Score:\", mean_score, \"\\n\")\n",
    "\n",
    "# Confusion matrix\n",
    "model_2 = model_2_pipeline.fit(X,y)\n",
    "model_2_pred = model_2.predict(X)\n",
    "uni_classes = y.unique() #getting the unique classes in the Y variale\n",
    "conf_matrix_test = confusion_matrix(y, model_2_pred) # making the matrix\n",
    "class_names = uni_classes.tolist() # Putting the classes to a list\n",
    "conf_matrix_df = pd.DataFrame(conf_matrix_test, index=class_names, columns=class_names) # Display the confusion matrix with class labels\n",
    "print(\"Confusion Matrix for Model_2 : \\n\")\n",
    "conf_matrix_df"
   ]
  },
  {
   "cell_type": "markdown",
   "metadata": {
    "id": "T7eVkk0Gk4JL"
   },
   "source": [
    "### Hybrid vs. Not Hybrid"
   ]
  },
  {
   "cell_type": "code",
   "execution_count": 42,
   "metadata": {
    "colab": {
     "base_uri": "https://localhost:8080/"
    },
    "id": "m-rExn5WtgEl",
    "outputId": "3104d1bb-d770-469c-b9c5-37f054123184"
   },
   "outputs": [
    {
     "name": "stdout",
     "output_type": "stream",
     "text": [
      "<class 'pandas.core.series.Series'>\n",
      "Int64Index: 2277 entries, 0 to 2350\n",
      "Series name: type_hybrid\n",
      "Non-Null Count  Dtype\n",
      "--------------  -----\n",
      "2277 non-null   bool \n",
      "dtypes: bool(1)\n",
      "memory usage: 20.0 KB\n"
     ]
    }
   ],
   "source": [
    "# Create a new column 'type_indica' based on the categories\n",
    "high['type_hybrid'] = high['Type'] == 'hybrid'\n",
    "\n",
    "#creating the X and y to proceed\n",
    "X = high.drop(['Type', 'Flavor', 'Effects', 'Strain', 'Description', 'type_indica', 'type_sativa', 'type_hybrid'], axis = 1)\n",
    "y = high[\"type_hybrid\"]\n",
    "y.info()"
   ]
  },
  {
   "cell_type": "markdown",
   "metadata": {
    "id": "7vK35yoZk4LS"
   },
   "source": [
    "#### SVC"
   ]
  },
  {
   "cell_type": "code",
   "execution_count": 43,
   "metadata": {
    "colab": {
     "base_uri": "https://localhost:8080/",
     "height": 206
    },
    "id": "4vOu3oPgrnDo",
    "outputId": "c0550126-f49b-4f24-d01c-9755f293f410"
   },
   "outputs": [
    {
     "data": {
      "text/html": [
       "<div>\n",
       "<style scoped>\n",
       "    .dataframe tbody tr th:only-of-type {\n",
       "        vertical-align: middle;\n",
       "    }\n",
       "\n",
       "    .dataframe tbody tr th {\n",
       "        vertical-align: top;\n",
       "    }\n",
       "\n",
       "    .dataframe thead th {\n",
       "        text-align: right;\n",
       "    }\n",
       "</style>\n",
       "<table border=\"1\" class=\"dataframe\">\n",
       "  <thead>\n",
       "    <tr style=\"text-align: right;\">\n",
       "      <th></th>\n",
       "      <th>lambda</th>\n",
       "      <th>f1</th>\n",
       "    </tr>\n",
       "  </thead>\n",
       "  <tbody>\n",
       "    <tr>\n",
       "      <th>3</th>\n",
       "      <td>0.1</td>\n",
       "      <td>0.685548</td>\n",
       "    </tr>\n",
       "    <tr>\n",
       "      <th>2</th>\n",
       "      <td>0.01</td>\n",
       "      <td>0.685156</td>\n",
       "    </tr>\n",
       "    <tr>\n",
       "      <th>1</th>\n",
       "      <td>0.001</td>\n",
       "      <td>0.678501</td>\n",
       "    </tr>\n",
       "    <tr>\n",
       "      <th>0</th>\n",
       "      <td>0.0001</td>\n",
       "      <td>0.678468</td>\n",
       "    </tr>\n",
       "    <tr>\n",
       "      <th>4</th>\n",
       "      <td>1</td>\n",
       "      <td>0.676267</td>\n",
       "    </tr>\n",
       "  </tbody>\n",
       "</table>\n",
       "</div>"
      ],
      "text/plain": [
       "   lambda        f1\n",
       "3     0.1  0.685548\n",
       "2    0.01  0.685156\n",
       "1   0.001  0.678501\n",
       "0  0.0001  0.678468\n",
       "4       1  0.676267"
      ]
     },
     "execution_count": 43,
     "metadata": {},
     "output_type": "execute_result"
    }
   ],
   "source": [
    "from sklearn.svm import SVC\n",
    "\n",
    "# Model Specification\n",
    "svc = SVC(kernel='linear')  # You can specify different kernels based on your problem\n",
    "\n",
    "# Pipeline Creation\n",
    "model_1_pipeline = Pipeline([(\"preprocessing\", ct),\n",
    "    (\"svc_classification\", svc)\n",
    "])\n",
    "\n",
    "#tuning using grid Search\n",
    "params = {'svc_classification__C': [.0001, .001, .01, .1, 1, 10]}\n",
    "\n",
    "gscv = GridSearchCV(model_1_pipeline, params, cv = cv, scoring='f1')\n",
    "\n",
    "gscv_fitted = gscv.fit(X, y)\n",
    "\n",
    "#getting the scores from the results\n",
    "mean_test_scores = gscv_fitted.cv_results_['mean_test_score']\n",
    "\n",
    "#getting the K's from the results corresponding to the\n",
    "lambdas = gscv_fitted.cv_results_['param_svc_classification__C']\n",
    "\n",
    "# Creating a DataFrame with best parameterss and scores\n",
    "model_scores = pd.DataFrame(data = {\"lambda\": lambdas, \"f1\": mean_test_scores}).sort_values(by='f1', ascending=False)\n",
    "model_scores.head()"
   ]
  },
  {
   "cell_type": "code",
   "execution_count": 44,
   "metadata": {
    "colab": {
     "base_uri": "https://localhost:8080/",
     "height": 216
    },
    "id": "qq6BihxRt8P2",
    "outputId": "161a3bb6-4c3e-4753-fe39-8938de5e6c21"
   },
   "outputs": [
    {
     "name": "stdout",
     "output_type": "stream",
     "text": [
      "Metrics for Model_1 :\n",
      "\n",
      "Mean Accuracy Score: 0.6855481903543517 \n",
      "\n",
      "Confusion Matrix for Model_1 : \n",
      "\n"
     ]
    },
    {
     "data": {
      "text/html": [
       "<div>\n",
       "<style scoped>\n",
       "    .dataframe tbody tr th:only-of-type {\n",
       "        vertical-align: middle;\n",
       "    }\n",
       "\n",
       "    .dataframe tbody tr th {\n",
       "        vertical-align: top;\n",
       "    }\n",
       "\n",
       "    .dataframe thead th {\n",
       "        text-align: right;\n",
       "    }\n",
       "</style>\n",
       "<table border=\"1\" class=\"dataframe\">\n",
       "  <thead>\n",
       "    <tr style=\"text-align: right;\">\n",
       "      <th></th>\n",
       "      <th>True</th>\n",
       "      <th>False</th>\n",
       "    </tr>\n",
       "  </thead>\n",
       "  <tbody>\n",
       "    <tr>\n",
       "      <th>True</th>\n",
       "      <td>500</td>\n",
       "      <td>608</td>\n",
       "    </tr>\n",
       "    <tr>\n",
       "      <th>False</th>\n",
       "      <td>242</td>\n",
       "      <td>927</td>\n",
       "    </tr>\n",
       "  </tbody>\n",
       "</table>\n",
       "</div>"
      ],
      "text/plain": [
       "       True   False\n",
       "True     500    608\n",
       "False    242    927"
      ]
     },
     "execution_count": 44,
     "metadata": {},
     "output_type": "execute_result"
    }
   ],
   "source": [
    "# Model Specification\n",
    "svc = SVC(kernel='linear', C=model_scores.iloc[0, 0])  # You can specify different kernels based on your problem\n",
    "\n",
    "# Pipeline Creation\n",
    "model_1_pipeline = Pipeline([(\"preprocessing\", ct),\n",
    "    (\"svc_classification\", svc)\n",
    "])\n",
    "\n",
    "model_1 = model_1_pipeline.fit(X,y)\n",
    "\n",
    "model_1_pred = model_1.predict(X)\n",
    "\n",
    "# Metrics for Model 1\n",
    "print(\"Metrics for Model_1 :\\n\")\n",
    "\n",
    "# Accuracy calculation\n",
    "cv_scores = cross_val_score(model_1_pipeline, X, y, cv=cv, scoring='f1') # Perform cross-validation\n",
    "accuracy_model_1 = np.mean(cv_scores)\n",
    "print(\"Mean Accuracy Score:\", accuracy_model_1, \"\\n\")\n",
    "\n",
    "# Confusion matrix\n",
    "uni_classes = y.unique() #getting the unique classes in the Y variale\n",
    "conf_matrix_test = confusion_matrix(y, model_1_pred) # making the matrix\n",
    "class_names = uni_classes.tolist() # Putting the classes to a list\n",
    "conf_matrix_df = pd.DataFrame(conf_matrix_test, index=class_names, columns=class_names) # Display the confusion matrix with class labels\n",
    "print(\"Confusion Matrix for Model_1 : \\n\")\n",
    "conf_matrix_df"
   ]
  },
  {
   "cell_type": "markdown",
   "metadata": {
    "id": "t8w9zrUolNJe"
   },
   "source": [
    "#### Logistic"
   ]
  },
  {
   "cell_type": "code",
   "execution_count": 45,
   "metadata": {
    "colab": {
     "base_uri": "https://localhost:8080/",
     "height": 80
    },
    "id": "u82P_H7dDlWu",
    "outputId": "711192ed-91b9-4ca0-d303-f0584672c4e8"
   },
   "outputs": [
    {
     "data": {
      "text/html": [
       "<div>\n",
       "<style scoped>\n",
       "    .dataframe tbody tr th:only-of-type {\n",
       "        vertical-align: middle;\n",
       "    }\n",
       "\n",
       "    .dataframe tbody tr th {\n",
       "        vertical-align: top;\n",
       "    }\n",
       "\n",
       "    .dataframe thead th {\n",
       "        text-align: right;\n",
       "    }\n",
       "</style>\n",
       "<table border=\"1\" class=\"dataframe\">\n",
       "  <thead>\n",
       "    <tr style=\"text-align: right;\">\n",
       "      <th></th>\n",
       "      <th>lambdas</th>\n",
       "      <th>alphas</th>\n",
       "      <th>f1_score</th>\n",
       "    </tr>\n",
       "  </thead>\n",
       "  <tbody>\n",
       "    <tr>\n",
       "      <th>16</th>\n",
       "      <td>0.01</td>\n",
       "      <td>0.8</td>\n",
       "      <td>0.685156</td>\n",
       "    </tr>\n",
       "  </tbody>\n",
       "</table>\n",
       "</div>"
      ],
      "text/plain": [
       "   lambdas alphas  f1_score\n",
       "16    0.01    0.8  0.685156"
      ]
     },
     "execution_count": 45,
     "metadata": {},
     "output_type": "execute_result"
    }
   ],
   "source": [
    "#Model Specification\n",
    "logreg = LogisticRegression(penalty='elasticnet',solver='saga')\n",
    "\n",
    "#pipeline Creation\n",
    "model_2_pipeline = Pipeline(\n",
    "    [(\"preprocessing\", ct),\n",
    "    (\"logisticreg_classification\", logreg)]\n",
    "  )\n",
    "#tuning using grid Search\n",
    "params = {'logisticreg_classification__C': [.0001, .001, .01, .1, 1, 10],\n",
    "          'logisticreg_classification__l1_ratio':[.1, .2, .4, .6, .8, .9]}\n",
    "\n",
    "gscv = GridSearchCV(model_2_pipeline, params, cv=cv, scoring='f1')\n",
    "\n",
    "gscv_fitted = gscv.fit(X, y)\n",
    "\n",
    "# Getting the scores from the results\n",
    "mean_test_scores = gscv_fitted.cv_results_['mean_test_score']\n",
    "\n",
    "# Getting the parameters corresponding to the models from the results\n",
    "lambdas = gscv_fitted.cv_results_['param_logisticreg_classification__C']\n",
    "alphas = gscv_fitted.cv_results_['param_logisticreg_classification__l1_ratio']\n",
    "\n",
    "# Creating a DataFrame with best parameters and scores\n",
    "model_scores = pd.DataFrame(data={\"lambdas\": lambdas, \"alphas\": alphas, \"f1_score\": mean_test_scores}).sort_values(by='f1_score', ascending=False)\n",
    "model_scores[0:1]"
   ]
  },
  {
   "cell_type": "code",
   "execution_count": 46,
   "metadata": {
    "colab": {
     "base_uri": "https://localhost:8080/",
     "height": 216
    },
    "id": "zMnp1fGmDlYe",
    "outputId": "02114713-5ee9-4b11-f64c-095abdd3dfef"
   },
   "outputs": [
    {
     "name": "stdout",
     "output_type": "stream",
     "text": [
      "Metrics for Model_2 :\n",
      "\n",
      "Mean F1 Score: 0.6851559637789054 \n",
      "\n",
      "Confusion Matrix for Model_2 : \n",
      "\n"
     ]
    },
    {
     "data": {
      "text/html": [
       "<div>\n",
       "<style scoped>\n",
       "    .dataframe tbody tr th:only-of-type {\n",
       "        vertical-align: middle;\n",
       "    }\n",
       "\n",
       "    .dataframe tbody tr th {\n",
       "        vertical-align: top;\n",
       "    }\n",
       "\n",
       "    .dataframe thead th {\n",
       "        text-align: right;\n",
       "    }\n",
       "</style>\n",
       "<table border=\"1\" class=\"dataframe\">\n",
       "  <thead>\n",
       "    <tr style=\"text-align: right;\">\n",
       "      <th></th>\n",
       "      <th>True</th>\n",
       "      <th>False</th>\n",
       "    </tr>\n",
       "  </thead>\n",
       "  <tbody>\n",
       "    <tr>\n",
       "      <th>True</th>\n",
       "      <td>485</td>\n",
       "      <td>623</td>\n",
       "    </tr>\n",
       "    <tr>\n",
       "      <th>False</th>\n",
       "      <td>235</td>\n",
       "      <td>934</td>\n",
       "    </tr>\n",
       "  </tbody>\n",
       "</table>\n",
       "</div>"
      ],
      "text/plain": [
       "       True   False\n",
       "True     485    623\n",
       "False    235    934"
      ]
     },
     "execution_count": 46,
     "metadata": {},
     "output_type": "execute_result"
    }
   ],
   "source": [
    "#Model Specification\n",
    "logreg = LogisticRegression(penalty='elasticnet',solver='saga', C=model_scores.iloc[0,0], l1_ratio=model_scores.iloc[0,1])\n",
    "\n",
    "#pipeline Creation\n",
    "model_2_pipeline = Pipeline(\n",
    "    [(\"preprocessing\", ct),\n",
    "    (\"logisticreg_classification\", logreg)]\n",
    "  )\n",
    "\n",
    "# Metrics for Model 2\n",
    "print(\"Metrics for Model_2 :\\n\")\n",
    "\n",
    "# Accuracy calculation\n",
    "cv_scores = cross_val_score(model_2_pipeline, X, y, cv=cv, scoring='f1') # Perform cross-validation\n",
    "mean_score = np.mean(cv_scores)\n",
    "print(\"Mean F1 Score:\", mean_score, \"\\n\")\n",
    "\n",
    "# Confusion matrix\n",
    "model_2 = model_2_pipeline.fit(X,y)\n",
    "model_2_pred = model_2.predict(X)\n",
    "uni_classes = y.unique() #getting the unique classes in the Y variale\n",
    "conf_matrix_test = confusion_matrix(y, model_2_pred) # making the matrix\n",
    "class_names = uni_classes.tolist() # Putting the classes to a list\n",
    "conf_matrix_df = pd.DataFrame(conf_matrix_test, index=class_names, columns=class_names) # Display the confusion matrix with class labels\n",
    "print(\"Confusion Matrix for Model_2 : \\n\")\n",
    "conf_matrix_df"
   ]
  },
  {
   "cell_type": "markdown",
   "metadata": {
    "id": "Lh8kz3pjlwUk"
   },
   "source": [
    "## Q2\n",
    "Which of the six models did the best job distinguishing the target category from the rest? Which did the worst? Does this make intuitive sense?"
   ]
  },
  {
   "cell_type": "markdown",
   "metadata": {
    "id": "yYdWBvETzDb4"
   },
   "source": [
    "- The best performing model in terms of F1 score was SVC for Hybrid vs. Not Hybrid. In this analysis with hybrid as the target class it was suprising to see the model perform better than the others. Hybrid classes share characteristics with indica and sativa therefore one would think that they would be harder to calssify. However, given that this is one versus rest analysis in which we have hybrid and rest this means that all features that were taken into account actually help hybrid to be classified. Since hybrid strains share characteristics (explanatory variables) there was more information to classify on."
   ]
  },
  {
   "cell_type": "markdown",
   "metadata": {
    "id": "1v4zpbe8lyV5"
   },
   "source": [
    "## Q3\n",
    "Fit and report metrics for OvO versions of the models. That is, for each of the two model types, create three models:\n",
    "\n",
    "Indica vs. Sativa\n",
    "\n",
    "Indica vs. Hybrid\n",
    "\n",
    "Hybrid vs. Sativa"
   ]
  },
  {
   "cell_type": "code",
   "execution_count": 47,
   "metadata": {
    "colab": {
     "base_uri": "https://localhost:8080/",
     "height": 556
    },
    "id": "z6sYSxPA1NoD",
    "outputId": "06e71065-6dff-4f21-9328-e9d34327eab5"
   },
   "outputs": [
    {
     "data": {
      "text/html": [
       "<div>\n",
       "<style scoped>\n",
       "    .dataframe tbody tr th:only-of-type {\n",
       "        vertical-align: middle;\n",
       "    }\n",
       "\n",
       "    .dataframe tbody tr th {\n",
       "        vertical-align: top;\n",
       "    }\n",
       "\n",
       "    .dataframe thead th {\n",
       "        text-align: right;\n",
       "    }\n",
       "</style>\n",
       "<table border=\"1\" class=\"dataframe\">\n",
       "  <thead>\n",
       "    <tr style=\"text-align: right;\">\n",
       "      <th></th>\n",
       "      <th>Strain</th>\n",
       "      <th>Type</th>\n",
       "      <th>Rating</th>\n",
       "      <th>Effects</th>\n",
       "      <th>Flavor</th>\n",
       "      <th>Description</th>\n",
       "      <th>E_Aroused</th>\n",
       "      <th>E_Creative</th>\n",
       "      <th>E_Dry</th>\n",
       "      <th>E_Energetic</th>\n",
       "      <th>E_Euphoric</th>\n",
       "      <th>E_Focused</th>\n",
       "      <th>E_Giggly</th>\n",
       "      <th>E_Happy</th>\n",
       "      <th>E_Hungry</th>\n",
       "      <th>E_Mouth</th>\n",
       "      <th>E_None</th>\n",
       "      <th>E_Relaxed</th>\n",
       "      <th>E_Sleepy</th>\n",
       "      <th>E_Talkative</th>\n",
       "      <th>E_Tingly</th>\n",
       "      <th>E_Uplifted</th>\n",
       "      <th>F_Ammonia</th>\n",
       "      <th>F_Apple</th>\n",
       "      <th>F_Apricot</th>\n",
       "      <th>F_Berry</th>\n",
       "      <th>F_Blue</th>\n",
       "      <th>F_Blueberry</th>\n",
       "      <th>F_Butter</th>\n",
       "      <th>F_Cheese</th>\n",
       "      <th>F_Chemical</th>\n",
       "      <th>F_Chestnut</th>\n",
       "      <th>F_Citrus</th>\n",
       "      <th>F_Coffee</th>\n",
       "      <th>F_Diesel</th>\n",
       "      <th>F_Earthy</th>\n",
       "      <th>F_Flowery</th>\n",
       "      <th>F_Fruit</th>\n",
       "      <th>F_Grape</th>\n",
       "      <th>F_Grapefruit</th>\n",
       "      <th>F_Honey</th>\n",
       "      <th>F_Lavender</th>\n",
       "      <th>F_Lemon</th>\n",
       "      <th>F_Lime</th>\n",
       "      <th>F_Mango</th>\n",
       "      <th>F_Menthol</th>\n",
       "      <th>F_Mint</th>\n",
       "      <th>F_Minty</th>\n",
       "      <th>F_None</th>\n",
       "      <th>F_Nutty</th>\n",
       "      <th>F_Orange</th>\n",
       "      <th>F_Peach</th>\n",
       "      <th>F_Pear</th>\n",
       "      <th>F_Pepper</th>\n",
       "      <th>F_Pine</th>\n",
       "      <th>F_Pineapple</th>\n",
       "      <th>F_Plum</th>\n",
       "      <th>F_Pungent</th>\n",
       "      <th>F_Rose</th>\n",
       "      <th>F_Sage</th>\n",
       "      <th>F_Skunk</th>\n",
       "      <th>F_Spicy/Herbal</th>\n",
       "      <th>F_Strawberry</th>\n",
       "      <th>F_Sweet</th>\n",
       "      <th>F_Tar</th>\n",
       "      <th>F_Tea</th>\n",
       "      <th>F_Tobacco</th>\n",
       "      <th>F_Tree</th>\n",
       "      <th>F_Tropical</th>\n",
       "      <th>F_Vanilla</th>\n",
       "      <th>F_Violet</th>\n",
       "      <th>F_Woody</th>\n",
       "    </tr>\n",
       "  </thead>\n",
       "  <tbody>\n",
       "    <tr>\n",
       "      <th>0</th>\n",
       "      <td>100-Og</td>\n",
       "      <td>hybrid</td>\n",
       "      <td>4.0</td>\n",
       "      <td>Creative,Energetic,Tingly,Euphoric,Relaxed</td>\n",
       "      <td>Earthy,Sweet,Citrus</td>\n",
       "      <td>$100 OG is a 50/50 hybrid strain that packs a ...</td>\n",
       "      <td>0</td>\n",
       "      <td>1</td>\n",
       "      <td>0</td>\n",
       "      <td>1</td>\n",
       "      <td>1</td>\n",
       "      <td>0</td>\n",
       "      <td>0</td>\n",
       "      <td>0</td>\n",
       "      <td>0</td>\n",
       "      <td>0</td>\n",
       "      <td>0</td>\n",
       "      <td>1</td>\n",
       "      <td>0</td>\n",
       "      <td>0</td>\n",
       "      <td>1</td>\n",
       "      <td>0</td>\n",
       "      <td>0</td>\n",
       "      <td>0</td>\n",
       "      <td>0</td>\n",
       "      <td>0</td>\n",
       "      <td>0</td>\n",
       "      <td>0</td>\n",
       "      <td>0</td>\n",
       "      <td>0</td>\n",
       "      <td>0</td>\n",
       "      <td>0</td>\n",
       "      <td>1</td>\n",
       "      <td>0</td>\n",
       "      <td>0</td>\n",
       "      <td>1</td>\n",
       "      <td>0</td>\n",
       "      <td>0</td>\n",
       "      <td>0</td>\n",
       "      <td>0</td>\n",
       "      <td>0</td>\n",
       "      <td>0</td>\n",
       "      <td>0</td>\n",
       "      <td>0</td>\n",
       "      <td>0</td>\n",
       "      <td>0</td>\n",
       "      <td>0</td>\n",
       "      <td>0</td>\n",
       "      <td>0</td>\n",
       "      <td>0</td>\n",
       "      <td>0</td>\n",
       "      <td>0</td>\n",
       "      <td>0</td>\n",
       "      <td>0</td>\n",
       "      <td>0</td>\n",
       "      <td>0</td>\n",
       "      <td>0</td>\n",
       "      <td>0</td>\n",
       "      <td>0</td>\n",
       "      <td>0</td>\n",
       "      <td>0</td>\n",
       "      <td>0</td>\n",
       "      <td>0</td>\n",
       "      <td>1</td>\n",
       "      <td>0</td>\n",
       "      <td>0</td>\n",
       "      <td>0</td>\n",
       "      <td>0</td>\n",
       "      <td>0</td>\n",
       "      <td>0</td>\n",
       "      <td>0</td>\n",
       "      <td>0</td>\n",
       "    </tr>\n",
       "    <tr>\n",
       "      <th>1</th>\n",
       "      <td>98-White-Widow</td>\n",
       "      <td>hybrid</td>\n",
       "      <td>4.7</td>\n",
       "      <td>Relaxed,Aroused,Creative,Happy,Energetic</td>\n",
       "      <td>Flowery,Violet,Diesel</td>\n",
       "      <td>The ‘98 Aloha White Widow is an especially pot...</td>\n",
       "      <td>1</td>\n",
       "      <td>1</td>\n",
       "      <td>0</td>\n",
       "      <td>1</td>\n",
       "      <td>0</td>\n",
       "      <td>0</td>\n",
       "      <td>0</td>\n",
       "      <td>1</td>\n",
       "      <td>0</td>\n",
       "      <td>0</td>\n",
       "      <td>0</td>\n",
       "      <td>1</td>\n",
       "      <td>0</td>\n",
       "      <td>0</td>\n",
       "      <td>0</td>\n",
       "      <td>0</td>\n",
       "      <td>0</td>\n",
       "      <td>0</td>\n",
       "      <td>0</td>\n",
       "      <td>0</td>\n",
       "      <td>0</td>\n",
       "      <td>0</td>\n",
       "      <td>0</td>\n",
       "      <td>0</td>\n",
       "      <td>0</td>\n",
       "      <td>0</td>\n",
       "      <td>0</td>\n",
       "      <td>0</td>\n",
       "      <td>1</td>\n",
       "      <td>0</td>\n",
       "      <td>1</td>\n",
       "      <td>0</td>\n",
       "      <td>0</td>\n",
       "      <td>0</td>\n",
       "      <td>0</td>\n",
       "      <td>0</td>\n",
       "      <td>0</td>\n",
       "      <td>0</td>\n",
       "      <td>0</td>\n",
       "      <td>0</td>\n",
       "      <td>0</td>\n",
       "      <td>0</td>\n",
       "      <td>0</td>\n",
       "      <td>0</td>\n",
       "      <td>0</td>\n",
       "      <td>0</td>\n",
       "      <td>0</td>\n",
       "      <td>0</td>\n",
       "      <td>0</td>\n",
       "      <td>0</td>\n",
       "      <td>0</td>\n",
       "      <td>0</td>\n",
       "      <td>0</td>\n",
       "      <td>0</td>\n",
       "      <td>0</td>\n",
       "      <td>0</td>\n",
       "      <td>0</td>\n",
       "      <td>0</td>\n",
       "      <td>0</td>\n",
       "      <td>0</td>\n",
       "      <td>0</td>\n",
       "      <td>0</td>\n",
       "      <td>0</td>\n",
       "      <td>0</td>\n",
       "      <td>1</td>\n",
       "      <td>0</td>\n",
       "    </tr>\n",
       "    <tr>\n",
       "      <th>2</th>\n",
       "      <td>1024</td>\n",
       "      <td>sativa</td>\n",
       "      <td>4.4</td>\n",
       "      <td>Uplifted,Happy,Relaxed,Energetic,Creative</td>\n",
       "      <td>Spicy/Herbal,Sage,Woody</td>\n",
       "      <td>1024 is a sativa-dominant hybrid bred in Spain...</td>\n",
       "      <td>0</td>\n",
       "      <td>1</td>\n",
       "      <td>0</td>\n",
       "      <td>1</td>\n",
       "      <td>0</td>\n",
       "      <td>0</td>\n",
       "      <td>0</td>\n",
       "      <td>1</td>\n",
       "      <td>0</td>\n",
       "      <td>0</td>\n",
       "      <td>0</td>\n",
       "      <td>1</td>\n",
       "      <td>0</td>\n",
       "      <td>0</td>\n",
       "      <td>0</td>\n",
       "      <td>1</td>\n",
       "      <td>0</td>\n",
       "      <td>0</td>\n",
       "      <td>0</td>\n",
       "      <td>0</td>\n",
       "      <td>0</td>\n",
       "      <td>0</td>\n",
       "      <td>0</td>\n",
       "      <td>0</td>\n",
       "      <td>0</td>\n",
       "      <td>0</td>\n",
       "      <td>0</td>\n",
       "      <td>0</td>\n",
       "      <td>0</td>\n",
       "      <td>0</td>\n",
       "      <td>0</td>\n",
       "      <td>0</td>\n",
       "      <td>0</td>\n",
       "      <td>0</td>\n",
       "      <td>0</td>\n",
       "      <td>0</td>\n",
       "      <td>0</td>\n",
       "      <td>0</td>\n",
       "      <td>0</td>\n",
       "      <td>0</td>\n",
       "      <td>0</td>\n",
       "      <td>0</td>\n",
       "      <td>0</td>\n",
       "      <td>0</td>\n",
       "      <td>0</td>\n",
       "      <td>0</td>\n",
       "      <td>0</td>\n",
       "      <td>0</td>\n",
       "      <td>0</td>\n",
       "      <td>0</td>\n",
       "      <td>0</td>\n",
       "      <td>0</td>\n",
       "      <td>0</td>\n",
       "      <td>1</td>\n",
       "      <td>0</td>\n",
       "      <td>1</td>\n",
       "      <td>0</td>\n",
       "      <td>0</td>\n",
       "      <td>0</td>\n",
       "      <td>0</td>\n",
       "      <td>0</td>\n",
       "      <td>0</td>\n",
       "      <td>0</td>\n",
       "      <td>0</td>\n",
       "      <td>0</td>\n",
       "      <td>1</td>\n",
       "    </tr>\n",
       "    <tr>\n",
       "      <th>3</th>\n",
       "      <td>13-Dawgs</td>\n",
       "      <td>hybrid</td>\n",
       "      <td>4.2</td>\n",
       "      <td>Tingly,Creative,Hungry,Relaxed,Uplifted</td>\n",
       "      <td>Apricot,Citrus,Grapefruit</td>\n",
       "      <td>13 Dawgs is a hybrid of G13 and Chemdawg genet...</td>\n",
       "      <td>0</td>\n",
       "      <td>1</td>\n",
       "      <td>0</td>\n",
       "      <td>0</td>\n",
       "      <td>0</td>\n",
       "      <td>0</td>\n",
       "      <td>0</td>\n",
       "      <td>0</td>\n",
       "      <td>1</td>\n",
       "      <td>0</td>\n",
       "      <td>0</td>\n",
       "      <td>1</td>\n",
       "      <td>0</td>\n",
       "      <td>0</td>\n",
       "      <td>1</td>\n",
       "      <td>1</td>\n",
       "      <td>0</td>\n",
       "      <td>0</td>\n",
       "      <td>1</td>\n",
       "      <td>0</td>\n",
       "      <td>0</td>\n",
       "      <td>0</td>\n",
       "      <td>0</td>\n",
       "      <td>0</td>\n",
       "      <td>0</td>\n",
       "      <td>0</td>\n",
       "      <td>1</td>\n",
       "      <td>0</td>\n",
       "      <td>0</td>\n",
       "      <td>0</td>\n",
       "      <td>0</td>\n",
       "      <td>0</td>\n",
       "      <td>0</td>\n",
       "      <td>1</td>\n",
       "      <td>0</td>\n",
       "      <td>0</td>\n",
       "      <td>0</td>\n",
       "      <td>0</td>\n",
       "      <td>0</td>\n",
       "      <td>0</td>\n",
       "      <td>0</td>\n",
       "      <td>0</td>\n",
       "      <td>0</td>\n",
       "      <td>0</td>\n",
       "      <td>0</td>\n",
       "      <td>0</td>\n",
       "      <td>0</td>\n",
       "      <td>0</td>\n",
       "      <td>0</td>\n",
       "      <td>0</td>\n",
       "      <td>0</td>\n",
       "      <td>0</td>\n",
       "      <td>0</td>\n",
       "      <td>0</td>\n",
       "      <td>0</td>\n",
       "      <td>0</td>\n",
       "      <td>0</td>\n",
       "      <td>0</td>\n",
       "      <td>0</td>\n",
       "      <td>0</td>\n",
       "      <td>0</td>\n",
       "      <td>0</td>\n",
       "      <td>0</td>\n",
       "      <td>0</td>\n",
       "      <td>0</td>\n",
       "      <td>0</td>\n",
       "    </tr>\n",
       "    <tr>\n",
       "      <th>4</th>\n",
       "      <td>24K-Gold</td>\n",
       "      <td>hybrid</td>\n",
       "      <td>4.6</td>\n",
       "      <td>Happy,Relaxed,Euphoric,Uplifted,Talkative</td>\n",
       "      <td>Citrus,Earthy,Orange</td>\n",
       "      <td>Also known as Kosher Tangie, 24k Gold is a 60%...</td>\n",
       "      <td>0</td>\n",
       "      <td>0</td>\n",
       "      <td>0</td>\n",
       "      <td>0</td>\n",
       "      <td>1</td>\n",
       "      <td>0</td>\n",
       "      <td>0</td>\n",
       "      <td>1</td>\n",
       "      <td>0</td>\n",
       "      <td>0</td>\n",
       "      <td>0</td>\n",
       "      <td>1</td>\n",
       "      <td>0</td>\n",
       "      <td>1</td>\n",
       "      <td>0</td>\n",
       "      <td>1</td>\n",
       "      <td>0</td>\n",
       "      <td>0</td>\n",
       "      <td>0</td>\n",
       "      <td>0</td>\n",
       "      <td>0</td>\n",
       "      <td>0</td>\n",
       "      <td>0</td>\n",
       "      <td>0</td>\n",
       "      <td>0</td>\n",
       "      <td>0</td>\n",
       "      <td>1</td>\n",
       "      <td>0</td>\n",
       "      <td>0</td>\n",
       "      <td>1</td>\n",
       "      <td>0</td>\n",
       "      <td>0</td>\n",
       "      <td>0</td>\n",
       "      <td>0</td>\n",
       "      <td>0</td>\n",
       "      <td>0</td>\n",
       "      <td>0</td>\n",
       "      <td>0</td>\n",
       "      <td>0</td>\n",
       "      <td>0</td>\n",
       "      <td>0</td>\n",
       "      <td>0</td>\n",
       "      <td>0</td>\n",
       "      <td>0</td>\n",
       "      <td>1</td>\n",
       "      <td>0</td>\n",
       "      <td>0</td>\n",
       "      <td>0</td>\n",
       "      <td>0</td>\n",
       "      <td>0</td>\n",
       "      <td>0</td>\n",
       "      <td>0</td>\n",
       "      <td>0</td>\n",
       "      <td>0</td>\n",
       "      <td>0</td>\n",
       "      <td>0</td>\n",
       "      <td>0</td>\n",
       "      <td>0</td>\n",
       "      <td>0</td>\n",
       "      <td>0</td>\n",
       "      <td>0</td>\n",
       "      <td>0</td>\n",
       "      <td>0</td>\n",
       "      <td>0</td>\n",
       "      <td>0</td>\n",
       "      <td>0</td>\n",
       "    </tr>\n",
       "  </tbody>\n",
       "</table>\n",
       "</div>"
      ],
      "text/plain": [
       "           Strain    Type  Rating                                     Effects  \\\n",
       "0          100-Og  hybrid     4.0  Creative,Energetic,Tingly,Euphoric,Relaxed   \n",
       "1  98-White-Widow  hybrid     4.7    Relaxed,Aroused,Creative,Happy,Energetic   \n",
       "2            1024  sativa     4.4   Uplifted,Happy,Relaxed,Energetic,Creative   \n",
       "3        13-Dawgs  hybrid     4.2     Tingly,Creative,Hungry,Relaxed,Uplifted   \n",
       "4        24K-Gold  hybrid     4.6   Happy,Relaxed,Euphoric,Uplifted,Talkative   \n",
       "\n",
       "                      Flavor  \\\n",
       "0        Earthy,Sweet,Citrus   \n",
       "1      Flowery,Violet,Diesel   \n",
       "2    Spicy/Herbal,Sage,Woody   \n",
       "3  Apricot,Citrus,Grapefruit   \n",
       "4       Citrus,Earthy,Orange   \n",
       "\n",
       "                                         Description E_Aroused E_Creative  \\\n",
       "0  $100 OG is a 50/50 hybrid strain that packs a ...         0          1   \n",
       "1  The ‘98 Aloha White Widow is an especially pot...         1          1   \n",
       "2  1024 is a sativa-dominant hybrid bred in Spain...         0          1   \n",
       "3  13 Dawgs is a hybrid of G13 and Chemdawg genet...         0          1   \n",
       "4  Also known as Kosher Tangie, 24k Gold is a 60%...         0          0   \n",
       "\n",
       "  E_Dry E_Energetic E_Euphoric E_Focused E_Giggly E_Happy E_Hungry E_Mouth  \\\n",
       "0     0           1          1         0        0       0        0       0   \n",
       "1     0           1          0         0        0       1        0       0   \n",
       "2     0           1          0         0        0       1        0       0   \n",
       "3     0           0          0         0        0       0        1       0   \n",
       "4     0           0          1         0        0       1        0       0   \n",
       "\n",
       "  E_None E_Relaxed E_Sleepy E_Talkative E_Tingly E_Uplifted F_Ammonia F_Apple  \\\n",
       "0      0         1        0           0        1          0         0       0   \n",
       "1      0         1        0           0        0          0         0       0   \n",
       "2      0         1        0           0        0          1         0       0   \n",
       "3      0         1        0           0        1          1         0       0   \n",
       "4      0         1        0           1        0          1         0       0   \n",
       "\n",
       "  F_Apricot F_Berry F_Blue F_Blueberry F_Butter F_Cheese F_Chemical  \\\n",
       "0         0       0      0           0        0        0          0   \n",
       "1         0       0      0           0        0        0          0   \n",
       "2         0       0      0           0        0        0          0   \n",
       "3         1       0      0           0        0        0          0   \n",
       "4         0       0      0           0        0        0          0   \n",
       "\n",
       "  F_Chestnut F_Citrus F_Coffee F_Diesel F_Earthy F_Flowery F_Fruit F_Grape  \\\n",
       "0          0        1        0        0        1         0       0       0   \n",
       "1          0        0        0        1        0         1       0       0   \n",
       "2          0        0        0        0        0         0       0       0   \n",
       "3          0        1        0        0        0         0       0       0   \n",
       "4          0        1        0        0        1         0       0       0   \n",
       "\n",
       "  F_Grapefruit F_Honey F_Lavender F_Lemon F_Lime F_Mango F_Menthol F_Mint  \\\n",
       "0            0       0          0       0      0       0         0      0   \n",
       "1            0       0          0       0      0       0         0      0   \n",
       "2            0       0          0       0      0       0         0      0   \n",
       "3            1       0          0       0      0       0         0      0   \n",
       "4            0       0          0       0      0       0         0      0   \n",
       "\n",
       "  F_Minty F_None F_Nutty F_Orange F_Peach F_Pear F_Pepper F_Pine F_Pineapple  \\\n",
       "0       0      0       0        0       0      0        0      0           0   \n",
       "1       0      0       0        0       0      0        0      0           0   \n",
       "2       0      0       0        0       0      0        0      0           0   \n",
       "3       0      0       0        0       0      0        0      0           0   \n",
       "4       0      0       0        1       0      0        0      0           0   \n",
       "\n",
       "  F_Plum F_Pungent F_Rose F_Sage F_Skunk F_Spicy/Herbal F_Strawberry F_Sweet  \\\n",
       "0      0         0      0      0       0              0            0       1   \n",
       "1      0         0      0      0       0              0            0       0   \n",
       "2      0         0      0      1       0              1            0       0   \n",
       "3      0         0      0      0       0              0            0       0   \n",
       "4      0         0      0      0       0              0            0       0   \n",
       "\n",
       "  F_Tar F_Tea F_Tobacco F_Tree F_Tropical F_Vanilla F_Violet F_Woody  \n",
       "0     0     0         0      0          0         0        0       0  \n",
       "1     0     0         0      0          0         0        1       0  \n",
       "2     0     0         0      0          0         0        0       1  \n",
       "3     0     0         0      0          0         0        0       0  \n",
       "4     0     0         0      0          0         0        0       0  "
      ]
     },
     "execution_count": 47,
     "metadata": {},
     "output_type": "execute_result"
    }
   ],
   "source": [
    "# Dropping the OVR columns\n",
    "columns_to_drop = ['type_indica', 'type_sativa', 'type_hybrid']\n",
    "\n",
    "# Drop the specified columns\n",
    "high = high.drop(columns=columns_to_drop, axis = 1)\n",
    "\n",
    "high.head()"
   ]
  },
  {
   "cell_type": "markdown",
   "metadata": {
    "id": "cdJWa0yPl9Bx"
   },
   "source": [
    "### Indica vs. Sativa"
   ]
  },
  {
   "cell_type": "code",
   "execution_count": 65,
   "metadata": {
    "colab": {
     "base_uri": "https://localhost:8080/"
    },
    "id": "tyADeTJ71wqJ",
    "outputId": "3381a79d-2f71-4f8e-90e3-39efee8fa08b"
   },
   "outputs": [],
   "source": [
    "high_indica_sativa = high[(high['Type'] == \"indica\") | (high['Type'] == \"sativa\")]\n",
    "high_indica_sativa['Type'] = high_indica_sativa['Type'].astype(\"category\")\n",
    "\n",
    "X = high_indica_sativa.drop(['Type', 'Flavor', 'Effects', 'Strain', 'Description'], axis = 1)\n",
    "y = high_indica_sativa['Type'].astype(\"string\")\n",
    "# high_indica_sativa.info()"
   ]
  },
  {
   "cell_type": "markdown",
   "metadata": {
    "id": "acCewejNl9Bx"
   },
   "source": [
    "#### SVC"
   ]
  },
  {
   "cell_type": "code",
   "execution_count": 49,
   "metadata": {
    "colab": {
     "base_uri": "https://localhost:8080/",
     "height": 206
    },
    "id": "s7ctsrUB2oXk",
    "outputId": "8200729c-f984-4a5b-9898-fa485aafa96b"
   },
   "outputs": [
    {
     "data": {
      "text/html": [
       "<div>\n",
       "<style scoped>\n",
       "    .dataframe tbody tr th:only-of-type {\n",
       "        vertical-align: middle;\n",
       "    }\n",
       "\n",
       "    .dataframe tbody tr th {\n",
       "        vertical-align: top;\n",
       "    }\n",
       "\n",
       "    .dataframe thead th {\n",
       "        text-align: right;\n",
       "    }\n",
       "</style>\n",
       "<table border=\"1\" class=\"dataframe\">\n",
       "  <thead>\n",
       "    <tr style=\"text-align: right;\">\n",
       "      <th></th>\n",
       "      <th>lambda</th>\n",
       "      <th>roc_auc</th>\n",
       "    </tr>\n",
       "  </thead>\n",
       "  <tbody>\n",
       "    <tr>\n",
       "      <th>1</th>\n",
       "      <td>0.001</td>\n",
       "      <td>0.931149</td>\n",
       "    </tr>\n",
       "    <tr>\n",
       "      <th>0</th>\n",
       "      <td>0.0001</td>\n",
       "      <td>0.931013</td>\n",
       "    </tr>\n",
       "    <tr>\n",
       "      <th>2</th>\n",
       "      <td>0.01</td>\n",
       "      <td>0.930208</td>\n",
       "    </tr>\n",
       "    <tr>\n",
       "      <th>3</th>\n",
       "      <td>0.1</td>\n",
       "      <td>0.925351</td>\n",
       "    </tr>\n",
       "    <tr>\n",
       "      <th>5</th>\n",
       "      <td>10</td>\n",
       "      <td>0.920070</td>\n",
       "    </tr>\n",
       "  </tbody>\n",
       "</table>\n",
       "</div>"
      ],
      "text/plain": [
       "   lambda   roc_auc\n",
       "1   0.001  0.931149\n",
       "0  0.0001  0.931013\n",
       "2    0.01  0.930208\n",
       "3     0.1  0.925351\n",
       "5      10  0.920070"
      ]
     },
     "execution_count": 49,
     "metadata": {},
     "output_type": "execute_result"
    }
   ],
   "source": [
    "# Model Specification\n",
    "svc = SVC(kernel='linear')  # You can specify different kernels based on your problem\n",
    "\n",
    "# Pipeline Creation\n",
    "model_1_pipeline = Pipeline([(\"preprocessing\", ct),\n",
    "    (\"svc_classification\", svc)\n",
    "])\n",
    "\n",
    "#tuning using grid Search\n",
    "params = {'svc_classification__C': [.0001, .001, .01, .1, 1, 10]}\n",
    "\n",
    "gscv = GridSearchCV(model_1_pipeline, params, cv = cv, scoring='roc_auc')\n",
    "\n",
    "gscv_fitted = gscv.fit(X, y)\n",
    "\n",
    "#getting the scores from the results\n",
    "mean_test_scores = gscv_fitted.cv_results_['mean_test_score']\n",
    "\n",
    "#getting the K's from the results corresponding to the\n",
    "lambdas = gscv_fitted.cv_results_['param_svc_classification__C']\n",
    "\n",
    "# Creating a DataFrame with best parameterss and scores\n",
    "model_scores = pd.DataFrame(data = {\"lambda\": lambdas, \"roc_auc\": mean_test_scores}).sort_values(by='roc_auc', ascending=False)\n",
    "model_scores.head()"
   ]
  },
  {
   "cell_type": "code",
   "execution_count": 50,
   "metadata": {
    "colab": {
     "base_uri": "https://localhost:8080/",
     "height": 216
    },
    "id": "KXj1dRTn3HUR",
    "outputId": "c132c79a-b8cd-4f4e-fe34-d5e03b476fe3"
   },
   "outputs": [
    {
     "name": "stdout",
     "output_type": "stream",
     "text": [
      "Metrics for Model_1 :\n",
      "\n",
      "Mean roc_auc_ovo Score: 0.9311494365187937 \n",
      "\n",
      "Confusion Matrix for Model_1 : \n",
      "\n"
     ]
    },
    {
     "data": {
      "text/html": [
       "<div>\n",
       "<style scoped>\n",
       "    .dataframe tbody tr th:only-of-type {\n",
       "        vertical-align: middle;\n",
       "    }\n",
       "\n",
       "    .dataframe tbody tr th {\n",
       "        vertical-align: top;\n",
       "    }\n",
       "\n",
       "    .dataframe thead th {\n",
       "        text-align: right;\n",
       "    }\n",
       "</style>\n",
       "<table border=\"1\" class=\"dataframe\">\n",
       "  <thead>\n",
       "    <tr style=\"text-align: right;\">\n",
       "      <th></th>\n",
       "      <th>sativa</th>\n",
       "      <th>indica</th>\n",
       "    </tr>\n",
       "  </thead>\n",
       "  <tbody>\n",
       "    <tr>\n",
       "      <th>sativa</th>\n",
       "      <td>664</td>\n",
       "      <td>16</td>\n",
       "    </tr>\n",
       "    <tr>\n",
       "      <th>indica</th>\n",
       "      <td>195</td>\n",
       "      <td>233</td>\n",
       "    </tr>\n",
       "  </tbody>\n",
       "</table>\n",
       "</div>"
      ],
      "text/plain": [
       "        sativa  indica\n",
       "sativa     664      16\n",
       "indica     195     233"
      ]
     },
     "execution_count": 50,
     "metadata": {},
     "output_type": "execute_result"
    }
   ],
   "source": [
    "# Model Specification\n",
    "svc = SVC(kernel='linear', C=model_scores.iloc[0, 0])  # You can specify different kernels based on your problem\n",
    "\n",
    "# Pipeline Creation\n",
    "model_1_pipeline = Pipeline([(\"preprocessing\", ct),\n",
    "    (\"svc_classification\", svc)\n",
    "])\n",
    "\n",
    "model_1 = model_1_pipeline.fit(X,y)\n",
    "\n",
    "model_1_pred = model_1.predict(X)\n",
    "\n",
    "# Metrics for Model 1\n",
    "print(\"Metrics for Model_1 :\\n\")\n",
    "\n",
    "# Accuracy calculation\n",
    "cv_scores = cross_val_score(model_1_pipeline, X, y, cv=cv, scoring='roc_auc') # Perform cross-validation\n",
    "accuracy_model_1 = np.mean(cv_scores)\n",
    "print(\"Mean roc_auc_ovo Score:\", accuracy_model_1, \"\\n\")\n",
    "\n",
    "# Confusion matrix\n",
    "uni_classes = y.unique() #getting the unique classes in the Y variale\n",
    "conf_matrix_test = confusion_matrix(y, model_1_pred) # making the matrix\n",
    "class_names = uni_classes.tolist() # Putting the classes to a list\n",
    "conf_matrix_df = pd.DataFrame(conf_matrix_test, index=class_names, columns=class_names) # Display the confusion matrix with class labels\n",
    "print(\"Confusion Matrix for Model_1 : \\n\")\n",
    "conf_matrix_df"
   ]
  },
  {
   "cell_type": "markdown",
   "metadata": {
    "id": "Ua_N3J_gl9Bx"
   },
   "source": [
    "#### Logistic Regression"
   ]
  },
  {
   "cell_type": "code",
   "execution_count": 51,
   "metadata": {
    "colab": {
     "base_uri": "https://localhost:8080/",
     "height": 80
    },
    "id": "hk83rTdG3Hzd",
    "outputId": "6371b938-a5aa-4d13-9707-c47a44efc99a"
   },
   "outputs": [
    {
     "data": {
      "text/html": [
       "<div>\n",
       "<style scoped>\n",
       "    .dataframe tbody tr th:only-of-type {\n",
       "        vertical-align: middle;\n",
       "    }\n",
       "\n",
       "    .dataframe tbody tr th {\n",
       "        vertical-align: top;\n",
       "    }\n",
       "\n",
       "    .dataframe thead th {\n",
       "        text-align: right;\n",
       "    }\n",
       "</style>\n",
       "<table border=\"1\" class=\"dataframe\">\n",
       "  <thead>\n",
       "    <tr style=\"text-align: right;\">\n",
       "      <th></th>\n",
       "      <th>lambdas</th>\n",
       "      <th>alphas</th>\n",
       "      <th>roc_auc</th>\n",
       "    </tr>\n",
       "  </thead>\n",
       "  <tbody>\n",
       "    <tr>\n",
       "      <th>19</th>\n",
       "      <td>0.1</td>\n",
       "      <td>0.2</td>\n",
       "      <td>0.933688</td>\n",
       "    </tr>\n",
       "  </tbody>\n",
       "</table>\n",
       "</div>"
      ],
      "text/plain": [
       "   lambdas alphas   roc_auc\n",
       "19     0.1    0.2  0.933688"
      ]
     },
     "execution_count": 51,
     "metadata": {},
     "output_type": "execute_result"
    }
   ],
   "source": [
    "#Model Specification\n",
    "logreg = LogisticRegression(penalty='elasticnet',solver='saga')\n",
    "\n",
    "#pipeline Creation\n",
    "model_2_pipeline = Pipeline(\n",
    "    [(\"preprocessing\", ct),\n",
    "    (\"logisticreg_classification\", logreg)]\n",
    "  )\n",
    "#tuning using grid Search\n",
    "params = {'logisticreg_classification__C': [.0001, .001, .01, .1, 1, 10],\n",
    "          'logisticreg_classification__l1_ratio':[.1, .2, .4, .6, .8, .9]}\n",
    "\n",
    "gscv = GridSearchCV(model_2_pipeline, params, cv=cv, scoring='roc_auc')\n",
    "\n",
    "gscv_fitted = gscv.fit(X, y)\n",
    "\n",
    "# Getting the scores from the results\n",
    "mean_test_scores = gscv_fitted.cv_results_['mean_test_score']\n",
    "\n",
    "# Getting the parameters corresponding to the models from the results\n",
    "lambdas = gscv_fitted.cv_results_['param_logisticreg_classification__C']\n",
    "alphas = gscv_fitted.cv_results_['param_logisticreg_classification__l1_ratio']\n",
    "\n",
    "# Creating a DataFrame with best parameters and scores\n",
    "model_scores = pd.DataFrame(data={\"lambdas\": lambdas, \"alphas\": alphas, \"roc_auc\": mean_test_scores}).sort_values(by='roc_auc', ascending=False)\n",
    "model_scores[0:1]"
   ]
  },
  {
   "cell_type": "code",
   "execution_count": 52,
   "metadata": {
    "colab": {
     "base_uri": "https://localhost:8080/",
     "height": 216
    },
    "id": "RqPUfhGU3H7d",
    "outputId": "a8f3febb-b799-4392-e569-40d7d5629ddd"
   },
   "outputs": [
    {
     "name": "stdout",
     "output_type": "stream",
     "text": [
      "Metrics for Model_2 :\n",
      "\n",
      "Mean roc_auc Score: 0.9337058660673572 \n",
      "\n",
      "Confusion Matrix for Model_2 : \n",
      "\n"
     ]
    },
    {
     "data": {
      "text/html": [
       "<div>\n",
       "<style scoped>\n",
       "    .dataframe tbody tr th:only-of-type {\n",
       "        vertical-align: middle;\n",
       "    }\n",
       "\n",
       "    .dataframe tbody tr th {\n",
       "        vertical-align: top;\n",
       "    }\n",
       "\n",
       "    .dataframe thead th {\n",
       "        text-align: right;\n",
       "    }\n",
       "</style>\n",
       "<table border=\"1\" class=\"dataframe\">\n",
       "  <thead>\n",
       "    <tr style=\"text-align: right;\">\n",
       "      <th></th>\n",
       "      <th>sativa</th>\n",
       "      <th>indica</th>\n",
       "    </tr>\n",
       "  </thead>\n",
       "  <tbody>\n",
       "    <tr>\n",
       "      <th>sativa</th>\n",
       "      <td>616</td>\n",
       "      <td>64</td>\n",
       "    </tr>\n",
       "    <tr>\n",
       "      <th>indica</th>\n",
       "      <td>87</td>\n",
       "      <td>341</td>\n",
       "    </tr>\n",
       "  </tbody>\n",
       "</table>\n",
       "</div>"
      ],
      "text/plain": [
       "        sativa  indica\n",
       "sativa     616      64\n",
       "indica      87     341"
      ]
     },
     "execution_count": 52,
     "metadata": {},
     "output_type": "execute_result"
    }
   ],
   "source": [
    "#Model Specification\n",
    "logreg = LogisticRegression(penalty='elasticnet',solver='saga', C=model_scores.iloc[0,0], l1_ratio=model_scores.iloc[0,1])\n",
    "\n",
    "#pipeline Creation\n",
    "model_2_pipeline = Pipeline(\n",
    "    [(\"preprocessing\", ct),\n",
    "    (\"logisticreg_classification\", logreg)]\n",
    "  )\n",
    "\n",
    "# Metrics for Model 2\n",
    "print(\"Metrics for Model_2 :\\n\")\n",
    "\n",
    "# Accuracy calculation\n",
    "cv_scores = cross_val_score(model_2_pipeline, X, y, cv=cv, scoring='roc_auc') # Perform cross-validation\n",
    "mean_score = np.mean(cv_scores)\n",
    "print(\"Mean roc_auc Score:\", mean_score, \"\\n\")\n",
    "\n",
    "# Confusion matrix\n",
    "model_2 = model_2_pipeline.fit(X,y)\n",
    "model_2_pred = model_2.predict(X)\n",
    "uni_classes = y.unique() #getting the unique classes in the Y variale\n",
    "conf_matrix_test = confusion_matrix(y, model_2_pred) # making the matrix\n",
    "class_names = uni_classes.tolist() # Putting the classes to a list\n",
    "conf_matrix_df = pd.DataFrame(conf_matrix_test, index=class_names, columns=class_names) # Display the confusion matrix with class labels\n",
    "print(\"Confusion Matrix for Model_2 : \\n\")\n",
    "conf_matrix_df"
   ]
  },
  {
   "cell_type": "markdown",
   "metadata": {
    "id": "1pcwtMUMl9Bx"
   },
   "source": [
    "### Indica vs. Hybrid"
   ]
  },
  {
   "cell_type": "code",
   "execution_count": 53,
   "metadata": {
    "colab": {
     "base_uri": "https://localhost:8080/"
    },
    "id": "Bkm7OTZ93lLD",
    "outputId": "80f9f3fa-b2d3-40fc-a364-52c010b3986f"
   },
   "outputs": [
    {
     "data": {
      "text/plain": [
       "0       hybrid\n",
       "1       hybrid\n",
       "3       hybrid\n",
       "4       hybrid\n",
       "5       indica\n",
       "         ...  \n",
       "2346    hybrid\n",
       "2347    indica\n",
       "2348    indica\n",
       "2349    indica\n",
       "2350    indica\n",
       "Name: Type, Length: 1849, dtype: object"
      ]
     },
     "execution_count": 53,
     "metadata": {},
     "output_type": "execute_result"
    }
   ],
   "source": [
    "high_indica_hybrid = high[(high['Type'] == \"indica\") | (high['Type'] == \"hybrid\")]\n",
    "\n",
    "X = high_indica_hybrid.drop(['Type', 'Flavor', 'Effects', 'Strain', 'Description'], axis = 1)\n",
    "y = high_indica_hybrid[\"Type\"]\n",
    "y"
   ]
  },
  {
   "cell_type": "markdown",
   "metadata": {
    "id": "jT85gIBtl9By"
   },
   "source": [
    "#### SVC"
   ]
  },
  {
   "cell_type": "code",
   "execution_count": 54,
   "metadata": {
    "colab": {
     "base_uri": "https://localhost:8080/",
     "height": 206
    },
    "id": "mpDYPe1X3Iek",
    "outputId": "50a57d16-7eae-4b53-e7a5-be098c3d6215"
   },
   "outputs": [
    {
     "data": {
      "text/html": [
       "<div>\n",
       "<style scoped>\n",
       "    .dataframe tbody tr th:only-of-type {\n",
       "        vertical-align: middle;\n",
       "    }\n",
       "\n",
       "    .dataframe tbody tr th {\n",
       "        vertical-align: top;\n",
       "    }\n",
       "\n",
       "    .dataframe thead th {\n",
       "        text-align: right;\n",
       "    }\n",
       "</style>\n",
       "<table border=\"1\" class=\"dataframe\">\n",
       "  <thead>\n",
       "    <tr style=\"text-align: right;\">\n",
       "      <th></th>\n",
       "      <th>lambda</th>\n",
       "      <th>roc_auc</th>\n",
       "    </tr>\n",
       "  </thead>\n",
       "  <tbody>\n",
       "    <tr>\n",
       "      <th>2</th>\n",
       "      <td>0.01</td>\n",
       "      <td>0.799962</td>\n",
       "    </tr>\n",
       "    <tr>\n",
       "      <th>1</th>\n",
       "      <td>0.001</td>\n",
       "      <td>0.799091</td>\n",
       "    </tr>\n",
       "    <tr>\n",
       "      <th>0</th>\n",
       "      <td>0.0001</td>\n",
       "      <td>0.799004</td>\n",
       "    </tr>\n",
       "    <tr>\n",
       "      <th>4</th>\n",
       "      <td>1</td>\n",
       "      <td>0.783017</td>\n",
       "    </tr>\n",
       "    <tr>\n",
       "      <th>3</th>\n",
       "      <td>0.1</td>\n",
       "      <td>0.779761</td>\n",
       "    </tr>\n",
       "  </tbody>\n",
       "</table>\n",
       "</div>"
      ],
      "text/plain": [
       "   lambda   roc_auc\n",
       "2    0.01  0.799962\n",
       "1   0.001  0.799091\n",
       "0  0.0001  0.799004\n",
       "4       1  0.783017\n",
       "3     0.1  0.779761"
      ]
     },
     "execution_count": 54,
     "metadata": {},
     "output_type": "execute_result"
    }
   ],
   "source": [
    "# Model Specification\n",
    "svc = SVC(kernel='linear')  # You can specify different kernels based on your problem\n",
    "\n",
    "# Pipeline Creation\n",
    "model_1_pipeline = Pipeline([(\"preprocessing\", ct),\n",
    "    (\"svc_classification\", svc)\n",
    "])\n",
    "\n",
    "#tuning using grid Search\n",
    "params = {'svc_classification__C': [.0001, .001, .01, .1, 1, 10]}\n",
    "\n",
    "gscv = GridSearchCV(model_1_pipeline, params, cv = cv, scoring='roc_auc')\n",
    "\n",
    "gscv_fitted = gscv.fit(X, y)\n",
    "\n",
    "#getting the scores from the results\n",
    "mean_test_scores = gscv_fitted.cv_results_['mean_test_score']\n",
    "\n",
    "#getting the K's from the results corresponding to the\n",
    "lambdas = gscv_fitted.cv_results_['param_svc_classification__C']\n",
    "\n",
    "# Creating a DataFrame with best parameterss and scores\n",
    "model_scores = pd.DataFrame(data = {\"lambda\": lambdas, \"roc_auc\": mean_test_scores}).sort_values(by='roc_auc', ascending=False)\n",
    "model_scores.head()"
   ]
  },
  {
   "cell_type": "code",
   "execution_count": 55,
   "metadata": {
    "colab": {
     "base_uri": "https://localhost:8080/",
     "height": 216
    },
    "id": "m5uO5o6h3Ijg",
    "outputId": "2e038e76-dc12-49b3-bb61-0a0df03e0d82"
   },
   "outputs": [
    {
     "name": "stdout",
     "output_type": "stream",
     "text": [
      "Metrics for Model_1 :\n",
      "\n",
      "Mean roc_auc Score: 0.7999620759002097 \n",
      "\n",
      "Confusion Matrix for Model_1 : \n",
      "\n"
     ]
    },
    {
     "data": {
      "text/html": [
       "<div>\n",
       "<style scoped>\n",
       "    .dataframe tbody tr th:only-of-type {\n",
       "        vertical-align: middle;\n",
       "    }\n",
       "\n",
       "    .dataframe tbody tr th {\n",
       "        vertical-align: top;\n",
       "    }\n",
       "\n",
       "    .dataframe thead th {\n",
       "        text-align: right;\n",
       "    }\n",
       "</style>\n",
       "<table border=\"1\" class=\"dataframe\">\n",
       "  <thead>\n",
       "    <tr style=\"text-align: right;\">\n",
       "      <th></th>\n",
       "      <th>hybrid</th>\n",
       "      <th>indica</th>\n",
       "    </tr>\n",
       "  </thead>\n",
       "  <tbody>\n",
       "    <tr>\n",
       "      <th>hybrid</th>\n",
       "      <td>934</td>\n",
       "      <td>235</td>\n",
       "    </tr>\n",
       "    <tr>\n",
       "      <th>indica</th>\n",
       "      <td>223</td>\n",
       "      <td>457</td>\n",
       "    </tr>\n",
       "  </tbody>\n",
       "</table>\n",
       "</div>"
      ],
      "text/plain": [
       "        hybrid  indica\n",
       "hybrid     934     235\n",
       "indica     223     457"
      ]
     },
     "execution_count": 55,
     "metadata": {},
     "output_type": "execute_result"
    }
   ],
   "source": [
    "# Model Specification\n",
    "svc = SVC(kernel='linear', C=model_scores.iloc[0, 0])  # You can specify different kernels based on your problem\n",
    "\n",
    "# Pipeline Creation\n",
    "model_1_pipeline = Pipeline([(\"preprocessing\", ct),\n",
    "    (\"svc_classification\", svc)\n",
    "])\n",
    "\n",
    "model_1 = model_1_pipeline.fit(X,y)\n",
    "\n",
    "model_1_pred = model_1.predict(X)\n",
    "\n",
    "# Metrics for Model 1\n",
    "print(\"Metrics for Model_1 :\\n\")\n",
    "\n",
    "# Accuracy calculation\n",
    "cv_scores = cross_val_score(model_1_pipeline, X, y, cv=cv, scoring='roc_auc') # Perform cross-validation\n",
    "accuracy_model_1 = np.mean(cv_scores)\n",
    "print(\"Mean roc_auc Score:\", accuracy_model_1, \"\\n\")\n",
    "\n",
    "# Confusion matrix\n",
    "uni_classes = y.unique() #getting the unique classes in the Y variale\n",
    "conf_matrix_test = confusion_matrix(y, model_1_pred) # making the matrix\n",
    "class_names = uni_classes.tolist() # Putting the classes to a list\n",
    "conf_matrix_df = pd.DataFrame(conf_matrix_test, index=class_names, columns=class_names) # Display the confusion matrix with class labels\n",
    "print(\"Confusion Matrix for Model_1 : \\n\")\n",
    "conf_matrix_df"
   ]
  },
  {
   "cell_type": "markdown",
   "metadata": {
    "id": "3uBPUEJcl9By"
   },
   "source": [
    "#### Logistic Regression"
   ]
  },
  {
   "cell_type": "code",
   "execution_count": 56,
   "metadata": {
    "colab": {
     "base_uri": "https://localhost:8080/",
     "height": 80
    },
    "id": "9lF-cYd_3JBV",
    "outputId": "a7a02ec9-838c-4a95-a7f6-f6243f97f3a2"
   },
   "outputs": [
    {
     "data": {
      "text/html": [
       "<div>\n",
       "<style scoped>\n",
       "    .dataframe tbody tr th:only-of-type {\n",
       "        vertical-align: middle;\n",
       "    }\n",
       "\n",
       "    .dataframe tbody tr th {\n",
       "        vertical-align: top;\n",
       "    }\n",
       "\n",
       "    .dataframe thead th {\n",
       "        text-align: right;\n",
       "    }\n",
       "</style>\n",
       "<table border=\"1\" class=\"dataframe\">\n",
       "  <thead>\n",
       "    <tr style=\"text-align: right;\">\n",
       "      <th></th>\n",
       "      <th>lambdas</th>\n",
       "      <th>alphas</th>\n",
       "      <th>roc_auc</th>\n",
       "    </tr>\n",
       "  </thead>\n",
       "  <tbody>\n",
       "    <tr>\n",
       "      <th>21</th>\n",
       "      <td>0.1</td>\n",
       "      <td>0.6</td>\n",
       "      <td>0.808988</td>\n",
       "    </tr>\n",
       "  </tbody>\n",
       "</table>\n",
       "</div>"
      ],
      "text/plain": [
       "   lambdas alphas   roc_auc\n",
       "21     0.1    0.6  0.808988"
      ]
     },
     "execution_count": 56,
     "metadata": {},
     "output_type": "execute_result"
    }
   ],
   "source": [
    "#Model Specification\n",
    "logreg = LogisticRegression(penalty='elasticnet',solver='saga')\n",
    "\n",
    "#pipeline Creation\n",
    "model_2_pipeline = Pipeline(\n",
    "    [(\"preprocessing\", ct),\n",
    "    (\"logisticreg_classification\", logreg)]\n",
    "  )\n",
    "#tuning using grid Search\n",
    "params = {'logisticreg_classification__C': [.0001, .001, .01, .1, 1, 10],\n",
    "          'logisticreg_classification__l1_ratio':[.1, .2, .4, .6, .8, .9]}\n",
    "\n",
    "gscv = GridSearchCV(model_2_pipeline, params, cv=cv, scoring='roc_auc')\n",
    "\n",
    "gscv_fitted = gscv.fit(X, y)\n",
    "\n",
    "# Getting the scores from the results\n",
    "mean_test_scores = gscv_fitted.cv_results_['mean_test_score']\n",
    "\n",
    "# Getting the parameters corresponding to the models from the results\n",
    "lambdas = gscv_fitted.cv_results_['param_logisticreg_classification__C']\n",
    "alphas = gscv_fitted.cv_results_['param_logisticreg_classification__l1_ratio']\n",
    "\n",
    "# Creating a DataFrame with best parameters and scores\n",
    "model_scores = pd.DataFrame(data={\"lambdas\": lambdas, \"alphas\": alphas, \"roc_auc\": mean_test_scores}).sort_values(by='roc_auc', ascending=False)\n",
    "model_scores[0:1]"
   ]
  },
  {
   "cell_type": "code",
   "execution_count": 57,
   "metadata": {
    "colab": {
     "base_uri": "https://localhost:8080/",
     "height": 216
    },
    "id": "piBT4Zxl3JFL",
    "outputId": "3b0def0c-8166-4726-b7d8-84ab9f8b6684"
   },
   "outputs": [
    {
     "name": "stdout",
     "output_type": "stream",
     "text": [
      "Metrics for Model_2 :\n",
      "\n",
      "Mean roc_auc Score: 0.8089693204868155 \n",
      "\n",
      "Confusion Matrix for Model_2 : \n",
      "\n"
     ]
    },
    {
     "data": {
      "text/html": [
       "<div>\n",
       "<style scoped>\n",
       "    .dataframe tbody tr th:only-of-type {\n",
       "        vertical-align: middle;\n",
       "    }\n",
       "\n",
       "    .dataframe tbody tr th {\n",
       "        vertical-align: top;\n",
       "    }\n",
       "\n",
       "    .dataframe thead th {\n",
       "        text-align: right;\n",
       "    }\n",
       "</style>\n",
       "<table border=\"1\" class=\"dataframe\">\n",
       "  <thead>\n",
       "    <tr style=\"text-align: right;\">\n",
       "      <th></th>\n",
       "      <th>hybrid</th>\n",
       "      <th>indica</th>\n",
       "    </tr>\n",
       "  </thead>\n",
       "  <tbody>\n",
       "    <tr>\n",
       "      <th>hybrid</th>\n",
       "      <td>968</td>\n",
       "      <td>201</td>\n",
       "    </tr>\n",
       "    <tr>\n",
       "      <th>indica</th>\n",
       "      <td>241</td>\n",
       "      <td>439</td>\n",
       "    </tr>\n",
       "  </tbody>\n",
       "</table>\n",
       "</div>"
      ],
      "text/plain": [
       "        hybrid  indica\n",
       "hybrid     968     201\n",
       "indica     241     439"
      ]
     },
     "execution_count": 57,
     "metadata": {},
     "output_type": "execute_result"
    }
   ],
   "source": [
    "#Model Specification\n",
    "logreg = LogisticRegression(penalty='elasticnet',solver='saga', C=model_scores.iloc[0,0], l1_ratio=model_scores.iloc[0,1])\n",
    "\n",
    "#pipeline Creation\n",
    "model_2_pipeline = Pipeline(\n",
    "    [(\"preprocessing\", ct),\n",
    "    (\"logisticreg_classification\", logreg)]\n",
    "  )\n",
    "\n",
    "# Metrics for Model 2\n",
    "print(\"Metrics for Model_2 :\\n\")\n",
    "\n",
    "# Accuracy calculation\n",
    "cv_scores = cross_val_score(model_2_pipeline, X, y, cv=cv, scoring='roc_auc') # Perform cross-validation\n",
    "mean_score = np.mean(cv_scores)\n",
    "print(\"Mean roc_auc Score:\", mean_score, \"\\n\")\n",
    "\n",
    "# Confusion matrix\n",
    "model_2 = model_2_pipeline.fit(X,y)\n",
    "model_2_pred = model_2.predict(X)\n",
    "uni_classes = y.unique() #getting the unique classes in the Y variale\n",
    "conf_matrix_test = confusion_matrix(y, model_2_pred) # making the matrix\n",
    "class_names = uni_classes.tolist() # Putting the classes to a list\n",
    "conf_matrix_df = pd.DataFrame(conf_matrix_test, index=class_names, columns=class_names) # Display the confusion matrix with class labels\n",
    "print(\"Confusion Matrix for Model_2 : \\n\")\n",
    "conf_matrix_df"
   ]
  },
  {
   "cell_type": "markdown",
   "metadata": {
    "id": "bGA3Xsp_l9By"
   },
   "source": [
    "### Hybrid vs. Sativa"
   ]
  },
  {
   "cell_type": "code",
   "execution_count": 58,
   "metadata": {
    "colab": {
     "base_uri": "https://localhost:8080/"
    },
    "id": "eyBWE-OA3_tI",
    "outputId": "b7ea561a-675d-447b-8f6e-1d1b5eb9b206"
   },
   "outputs": [
    {
     "data": {
      "text/plain": [
       "0       hybrid\n",
       "1       hybrid\n",
       "2       sativa\n",
       "3       hybrid\n",
       "4       hybrid\n",
       "         ...  \n",
       "2342    sativa\n",
       "2343    sativa\n",
       "2344    hybrid\n",
       "2345    sativa\n",
       "2346    hybrid\n",
       "Name: Type, Length: 1597, dtype: object"
      ]
     },
     "execution_count": 58,
     "metadata": {},
     "output_type": "execute_result"
    }
   ],
   "source": [
    "high_hybrid_sativa = high[(high['Type'] == \"hybrid\") | (high['Type'] == \"sativa\")]\n",
    "\n",
    "X = high_hybrid_sativa.drop(['Type', 'Flavor', 'Effects', 'Strain', 'Description'], axis = 1)\n",
    "y = high_hybrid_sativa[\"Type\"]\n",
    "y"
   ]
  },
  {
   "cell_type": "markdown",
   "metadata": {
    "id": "9-5UCD6Tl9By"
   },
   "source": [
    "#### SVC"
   ]
  },
  {
   "cell_type": "code",
   "execution_count": 59,
   "metadata": {
    "colab": {
     "base_uri": "https://localhost:8080/",
     "height": 206
    },
    "id": "SIWT8T823Jog",
    "outputId": "dd2d8c4f-ba25-4dd3-af07-7c0cfc12013b"
   },
   "outputs": [
    {
     "data": {
      "text/html": [
       "<div>\n",
       "<style scoped>\n",
       "    .dataframe tbody tr th:only-of-type {\n",
       "        vertical-align: middle;\n",
       "    }\n",
       "\n",
       "    .dataframe tbody tr th {\n",
       "        vertical-align: top;\n",
       "    }\n",
       "\n",
       "    .dataframe thead th {\n",
       "        text-align: right;\n",
       "    }\n",
       "</style>\n",
       "<table border=\"1\" class=\"dataframe\">\n",
       "  <thead>\n",
       "    <tr style=\"text-align: right;\">\n",
       "      <th></th>\n",
       "      <th>lambda</th>\n",
       "      <th>roc_auc</th>\n",
       "    </tr>\n",
       "  </thead>\n",
       "  <tbody>\n",
       "    <tr>\n",
       "      <th>2</th>\n",
       "      <td>0.01</td>\n",
       "      <td>0.743196</td>\n",
       "    </tr>\n",
       "    <tr>\n",
       "      <th>1</th>\n",
       "      <td>0.001</td>\n",
       "      <td>0.742931</td>\n",
       "    </tr>\n",
       "    <tr>\n",
       "      <th>0</th>\n",
       "      <td>0.0001</td>\n",
       "      <td>0.741933</td>\n",
       "    </tr>\n",
       "    <tr>\n",
       "      <th>3</th>\n",
       "      <td>0.1</td>\n",
       "      <td>0.741257</td>\n",
       "    </tr>\n",
       "    <tr>\n",
       "      <th>4</th>\n",
       "      <td>1</td>\n",
       "      <td>0.732499</td>\n",
       "    </tr>\n",
       "  </tbody>\n",
       "</table>\n",
       "</div>"
      ],
      "text/plain": [
       "   lambda   roc_auc\n",
       "2    0.01  0.743196\n",
       "1   0.001  0.742931\n",
       "0  0.0001  0.741933\n",
       "3     0.1  0.741257\n",
       "4       1  0.732499"
      ]
     },
     "execution_count": 59,
     "metadata": {},
     "output_type": "execute_result"
    }
   ],
   "source": [
    "# Model Specification\n",
    "svc = SVC(kernel='linear')  # You can specify different kernels based on your problem\n",
    "\n",
    "# Pipeline Creation\n",
    "model_1_pipeline = Pipeline([(\"preprocessing\", ct),\n",
    "    (\"svc_classification\", svc)\n",
    "])\n",
    "\n",
    "#tuning using grid Search\n",
    "params = {'svc_classification__C': [.0001, .001, .01, .1, 1, 10]}\n",
    "\n",
    "gscv = GridSearchCV(model_1_pipeline, params, cv = cv, scoring='roc_auc')\n",
    "\n",
    "gscv_fitted = gscv.fit(X, y)\n",
    "\n",
    "#getting the scores from the results\n",
    "mean_test_scores = gscv_fitted.cv_results_['mean_test_score']\n",
    "\n",
    "#getting the K's from the results corresponding to the\n",
    "lambdas = gscv_fitted.cv_results_['param_svc_classification__C']\n",
    "\n",
    "# Creating a DataFrame with best parameterss and scores\n",
    "model_scores = pd.DataFrame(data = {\"lambda\": lambdas, \"roc_auc\": mean_test_scores}).sort_values(by='roc_auc', ascending=False)\n",
    "model_scores.head()"
   ]
  },
  {
   "cell_type": "code",
   "execution_count": 60,
   "metadata": {
    "colab": {
     "base_uri": "https://localhost:8080/",
     "height": 216
    },
    "id": "n1Y01b1E3JrS",
    "outputId": "295bf224-2a5a-4b69-a812-54f375b8e482"
   },
   "outputs": [
    {
     "name": "stdout",
     "output_type": "stream",
     "text": [
      "Metrics for Model_1 :\n",
      "\n",
      "Mean roc_auc Score: 0.7431961493910171 \n",
      "\n",
      "Confusion Matrix for Model_1 : \n",
      "\n"
     ]
    },
    {
     "data": {
      "text/html": [
       "<div>\n",
       "<style scoped>\n",
       "    .dataframe tbody tr th:only-of-type {\n",
       "        vertical-align: middle;\n",
       "    }\n",
       "\n",
       "    .dataframe tbody tr th {\n",
       "        vertical-align: top;\n",
       "    }\n",
       "\n",
       "    .dataframe thead th {\n",
       "        text-align: right;\n",
       "    }\n",
       "</style>\n",
       "<table border=\"1\" class=\"dataframe\">\n",
       "  <thead>\n",
       "    <tr style=\"text-align: right;\">\n",
       "      <th></th>\n",
       "      <th>hybrid</th>\n",
       "      <th>sativa</th>\n",
       "    </tr>\n",
       "  </thead>\n",
       "  <tbody>\n",
       "    <tr>\n",
       "      <th>hybrid</th>\n",
       "      <td>1169</td>\n",
       "      <td>0</td>\n",
       "    </tr>\n",
       "    <tr>\n",
       "      <th>sativa</th>\n",
       "      <td>428</td>\n",
       "      <td>0</td>\n",
       "    </tr>\n",
       "  </tbody>\n",
       "</table>\n",
       "</div>"
      ],
      "text/plain": [
       "        hybrid  sativa\n",
       "hybrid    1169       0\n",
       "sativa     428       0"
      ]
     },
     "execution_count": 60,
     "metadata": {},
     "output_type": "execute_result"
    }
   ],
   "source": [
    "# Model Specification\n",
    "svc = SVC(kernel='linear', C=model_scores.iloc[0, 0])  # You can specify different kernels based on your problem\n",
    "\n",
    "# Pipeline Creation\n",
    "model_1_pipeline = Pipeline([(\"preprocessing\", ct),\n",
    "    (\"svc_classification\", svc)\n",
    "])\n",
    "\n",
    "model_1 = model_1_pipeline.fit(X,y)\n",
    "\n",
    "model_1_pred = model_1.predict(X)\n",
    "\n",
    "# Metrics for Model 1\n",
    "print(\"Metrics for Model_1 :\\n\")\n",
    "\n",
    "# Accuracy calculation\n",
    "cv_scores = cross_val_score(model_1_pipeline, X, y, cv=cv, scoring='roc_auc') # Perform cross-validation\n",
    "accuracy_model_1 = np.mean(cv_scores)\n",
    "print(\"Mean roc_auc Score:\", accuracy_model_1, \"\\n\")\n",
    "\n",
    "# Confusion matrix\n",
    "uni_classes = y.unique() #getting the unique classes in the Y variale\n",
    "conf_matrix_test = confusion_matrix(y, model_1_pred) # making the matrix\n",
    "class_names = uni_classes.tolist() # Putting the classes to a list\n",
    "conf_matrix_df = pd.DataFrame(conf_matrix_test, index=class_names, columns=class_names) # Display the confusion matrix with class labels\n",
    "print(\"Confusion Matrix for Model_1 : \\n\")\n",
    "conf_matrix_df"
   ]
  },
  {
   "cell_type": "markdown",
   "metadata": {
    "id": "kc5CRJDWl9By"
   },
   "source": [
    "#### Logistic Regression"
   ]
  },
  {
   "cell_type": "code",
   "execution_count": 61,
   "metadata": {
    "colab": {
     "base_uri": "https://localhost:8080/",
     "height": 80
    },
    "id": "r1ksNcD_3KDt",
    "outputId": "dccce093-66a7-40e4-dec9-6187cbbff5d1"
   },
   "outputs": [
    {
     "data": {
      "text/html": [
       "<div>\n",
       "<style scoped>\n",
       "    .dataframe tbody tr th:only-of-type {\n",
       "        vertical-align: middle;\n",
       "    }\n",
       "\n",
       "    .dataframe tbody tr th {\n",
       "        vertical-align: top;\n",
       "    }\n",
       "\n",
       "    .dataframe thead th {\n",
       "        text-align: right;\n",
       "    }\n",
       "</style>\n",
       "<table border=\"1\" class=\"dataframe\">\n",
       "  <thead>\n",
       "    <tr style=\"text-align: right;\">\n",
       "      <th></th>\n",
       "      <th>lambdas</th>\n",
       "      <th>alphas</th>\n",
       "      <th>roc_auc</th>\n",
       "    </tr>\n",
       "  </thead>\n",
       "  <tbody>\n",
       "    <tr>\n",
       "      <th>22</th>\n",
       "      <td>0.1</td>\n",
       "      <td>0.8</td>\n",
       "      <td>0.748554</td>\n",
       "    </tr>\n",
       "  </tbody>\n",
       "</table>\n",
       "</div>"
      ],
      "text/plain": [
       "   lambdas alphas   roc_auc\n",
       "22     0.1    0.8  0.748554"
      ]
     },
     "execution_count": 61,
     "metadata": {},
     "output_type": "execute_result"
    }
   ],
   "source": [
    "#Model Specification\n",
    "logreg = LogisticRegression(penalty='elasticnet',solver='saga')\n",
    "\n",
    "#pipeline Creation\n",
    "model_2_pipeline = Pipeline(\n",
    "    [(\"preprocessing\", ct),\n",
    "    (\"logisticreg_classification\", logreg)]\n",
    "  )\n",
    "#tuning using grid Search\n",
    "params = {'logisticreg_classification__C': [.0001, .001, .01, .1, 1, 10],\n",
    "          'logisticreg_classification__l1_ratio':[.1, .2, .4, .6, .8, .9]}\n",
    "\n",
    "gscv = GridSearchCV(model_2_pipeline, params, cv=cv, scoring='roc_auc')\n",
    "\n",
    "gscv_fitted = gscv.fit(X, y)\n",
    "\n",
    "# Getting the scores from the results\n",
    "mean_test_scores = gscv_fitted.cv_results_['mean_test_score']\n",
    "\n",
    "# Getting the parameters corresponding to the models from the results\n",
    "lambdas = gscv_fitted.cv_results_['param_logisticreg_classification__C']\n",
    "alphas = gscv_fitted.cv_results_['param_logisticreg_classification__l1_ratio']\n",
    "\n",
    "# Creating a DataFrame with best parameters and scores\n",
    "model_scores = pd.DataFrame(data={\"lambdas\": lambdas, \"alphas\": alphas, \"roc_auc\": mean_test_scores}).sort_values(by='roc_auc', ascending=False)\n",
    "model_scores[0:1]"
   ]
  },
  {
   "cell_type": "code",
   "execution_count": 62,
   "metadata": {
    "colab": {
     "base_uri": "https://localhost:8080/",
     "height": 216
    },
    "id": "WuEHN4kA3KI1",
    "outputId": "6848e12f-8a1f-4526-fc93-2b6509f4a481"
   },
   "outputs": [
    {
     "name": "stdout",
     "output_type": "stream",
     "text": [
      "Metrics for Model_2 :\n",
      "\n",
      "Mean roc_auc Score: 0.7485536145520106 \n",
      "\n",
      "Confusion Matrix for Model_2 : \n",
      "\n"
     ]
    },
    {
     "data": {
      "text/html": [
       "<div>\n",
       "<style scoped>\n",
       "    .dataframe tbody tr th:only-of-type {\n",
       "        vertical-align: middle;\n",
       "    }\n",
       "\n",
       "    .dataframe tbody tr th {\n",
       "        vertical-align: top;\n",
       "    }\n",
       "\n",
       "    .dataframe thead th {\n",
       "        text-align: right;\n",
       "    }\n",
       "</style>\n",
       "<table border=\"1\" class=\"dataframe\">\n",
       "  <thead>\n",
       "    <tr style=\"text-align: right;\">\n",
       "      <th></th>\n",
       "      <th>hybrid</th>\n",
       "      <th>sativa</th>\n",
       "    </tr>\n",
       "  </thead>\n",
       "  <tbody>\n",
       "    <tr>\n",
       "      <th>hybrid</th>\n",
       "      <td>1080</td>\n",
       "      <td>89</td>\n",
       "    </tr>\n",
       "    <tr>\n",
       "      <th>sativa</th>\n",
       "      <td>303</td>\n",
       "      <td>125</td>\n",
       "    </tr>\n",
       "  </tbody>\n",
       "</table>\n",
       "</div>"
      ],
      "text/plain": [
       "        hybrid  sativa\n",
       "hybrid    1080      89\n",
       "sativa     303     125"
      ]
     },
     "execution_count": 62,
     "metadata": {},
     "output_type": "execute_result"
    }
   ],
   "source": [
    "#Model Specification\n",
    "logreg = LogisticRegression(penalty='elasticnet',solver='saga', C=model_scores.iloc[0,0], l1_ratio=model_scores.iloc[0,1])\n",
    "\n",
    "#pipeline Creation\n",
    "model_2_pipeline = Pipeline(\n",
    "    [(\"preprocessing\", ct),\n",
    "    (\"logisticreg_classification\", logreg)]\n",
    "  )\n",
    "\n",
    "# Metrics for Model 2\n",
    "print(\"Metrics for Model_2 :\\n\")\n",
    "\n",
    "# Accuracy calculation\n",
    "cv_scores = cross_val_score(model_2_pipeline, X, y, cv=cv, scoring='roc_auc') # Perform cross-validation\n",
    "mean_score = np.mean(cv_scores)\n",
    "print(\"Mean roc_auc Score:\", mean_score, \"\\n\")\n",
    "\n",
    "# Confusion matrix\n",
    "model_2 = model_2_pipeline.fit(X,y)\n",
    "model_2_pred = model_2.predict(X)\n",
    "uni_classes = y.unique() #getting the unique classes in the Y variale\n",
    "conf_matrix_test = confusion_matrix(y, model_2_pred) # making the matrix\n",
    "class_names = uni_classes.tolist() # Putting the classes to a list\n",
    "conf_matrix_df = pd.DataFrame(conf_matrix_test, index=class_names, columns=class_names) # Display the confusion matrix with class labels\n",
    "print(\"Confusion Matrix for Model_2 : \\n\")\n",
    "conf_matrix_df"
   ]
  },
  {
   "cell_type": "markdown",
   "metadata": {
    "id": "3db8Q57RmWzP"
   },
   "source": [
    "## Q4\n",
    "Which of the six models did the best job distinguishing at differentiating the two groups? Which did the worst? Does this make intuitive sense?"
   ]
  },
  {
   "cell_type": "markdown",
   "metadata": {
    "id": "TgHblhVyVKoS"
   },
   "source": [
    "Best Model:\n",
    "- the logistic regression model for Indica Vs Sativa did the best at distinguishing between the binary classes as measured by ROC AUC score. the model has an ROC AUC score of 93%. The model was tuned to have a lambda of .1 and an alpha of .2. Logistic regression is especially built for these binary classification problems and the penalty imposed with elastic net allowed us to get to that high of a cross validated metric. It would be interesting to see how this model would perform on new data.\n",
    "\n",
    "Worst Model:\n",
    "- Hybrid Vs Sativa with the SVC model performed the least favorable with an ROC AUC score of 74%. This makes sense intuitively with the fact that a hybrid strain shares classifications with the other strains. The second worst performing model was also another with hybrid in it vs another strain. Intuitively we can say that because hybrids share characteristics with indica and sativa, then classifying a hybrid strain vs sativa could pose difficulty if they are too similar."
   ]
  },
  {
   "cell_type": "markdown",
   "metadata": {
    "id": "kOUXIlkqmadB"
   },
   "source": [
    "## Q5\n",
    "Suppose you had simply input the full data, with three classes, into the LogisticRegression function. Would this have automatically taken an “OvO” approach or an “OvR” approach?\n",
    "\n",
    "What about for SVC?\n",
    "\n",
    "Note: You do not actually have to run code here - you only need to look at sklearn’s documentation to see how these functions handle multiclass input."
   ]
  },
  {
   "cell_type": "markdown",
   "metadata": {
    "id": "FfodjNX2YXMn"
   },
   "source": [
    "LogisticRegression\n",
    "- When there are more than two classes LogisticRegression sets a parameter multi_class = auto, which automatically chooses to run multinomoal logistic regression. What this does is, instead of looking for the probability of a binary class between 0 and 1 assigning the greater probabilities to class 1 past a threshold, it calculates the probabilities for each possible class. The model outputs a set of probabilities for each class and when predicting it will choose the class with the highest probability to classify.\n",
    "\n",
    "SVC\n",
    "- Accoring to the SVC documentation \"The multiclass support is handled according to a one-vs-one scheme.\" Which would mean that SVC when handling a mulitclass problem will perform one vs one training sessions for each combination of classes. When it comes to predictions it will pick the class that beat all the other classes in the individual classification steps. The approach is straighforward and easy to understand, however can become computationally costly as it would have to run several training models under the hood if given a multitude of classes."
   ]
  }
 ],
 "metadata": {
  "colab": {
   "provenance": [],
   "toc_visible": true
  },
  "kernelspec": {
   "display_name": "Python 3 (ipykernel)",
   "language": "python",
   "name": "python3"
  },
  "language_info": {
   "codemirror_mode": {
    "name": "ipython",
    "version": 3
   },
   "file_extension": ".py",
   "mimetype": "text/x-python",
   "name": "python",
   "nbconvert_exporter": "python",
   "pygments_lexer": "ipython3",
   "version": "3.11.4"
  }
 },
 "nbformat": 4,
 "nbformat_minor": 1
}
